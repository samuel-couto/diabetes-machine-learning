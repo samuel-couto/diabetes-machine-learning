{
 "cells": [
  {
   "cell_type": "markdown",
   "id": "51894c27",
   "metadata": {},
   "source": [
    "### Importando as bibliotecas"
   ]
  },
  {
   "cell_type": "code",
   "execution_count": 1,
   "id": "1a2f0edd",
   "metadata": {},
   "outputs": [],
   "source": [
    "# Imports\n",
    "import math\n",
    "import joblib\n",
    "import pickle\n",
    "import numpy as np\n",
    "import pandas as pd\n",
    "import seaborn as sns\n",
    "import math\n",
    "from matplotlib import pyplot as plt\n",
    "from scipy import stats\n",
    "from imblearn.over_sampling import SMOTE\n",
    "from sklearn.preprocessing import LabelEncoder\n",
    "from sklearn.preprocessing import StandardScaler\n",
    "import sklearn\n",
    "from sklearn.model_selection import train_test_split\n",
    "from sklearn.model_selection import GridSearchCV\n",
    "from sklearn.model_selection import cross_val_score\n",
    "from sklearn.model_selection import RandomizedSearchCV\n",
    "from sklearn.linear_model import LogisticRegression\n",
    "from sklearn.ensemble import RandomForestClassifier\n",
    "from sklearn.neighbors import KNeighborsClassifier\n",
    "from sklearn.tree import DecisionTreeClassifier\n",
    "from sklearn.svm import SVC\n",
    "from sklearn.metrics import roc_curve, auc, roc_auc_score, confusion_matrix\n",
    "from sklearn.metrics import accuracy_score,precision_score,recall_score\n",
    "from sklearn.model_selection import KFold\n",
    "from sklearn.model_selection import cross_val_score\n",
    "import graphviz\n",
    "from sklearn import tree\n",
    "%matplotlib inline \n",
    "import warnings\n",
    "warnings.filterwarnings(\"ignore\")"
   ]
  },
  {
   "cell_type": "markdown",
   "id": "bf14cbce",
   "metadata": {},
   "source": [
    "### Dicionário de Dados"
   ]
  },
  {
   "cell_type": "markdown",
   "id": "6a018cd5",
   "metadata": {},
   "source": [
    "* **gender**: Gênero do indivíduo       \n",
    "* **age**: Idade do indivíduo\n",
    "* **hypertension**: Se o indivíduo tem hipertensão (1) ou não tem hipertensão (0)\n",
    "* **heart_disease**: Se o indivíduo tem doença cardíaca (1) ou não tem doença cardíaca (0)\n",
    "* **smoking_history**: temos 5 categorias, ou seja, não atual, anterior, sem informações, atual, nunca e sempre.\n",
    "* **bmi**: IMC onde\n",
    "           < 18.5 é magreza\n",
    "           18.5-24.9 é saudável, \n",
    "           25-29.9 é sobrepeso,\n",
    "           30 ou mais é obeso.\n",
    "* **HbA1c_level**: O nível Hemoglobina A1c é uma medida do nível médio de açúcar no sangue. Ideal é < 6.5%.\n",
    "* **blood_glucose_level**: O nível de glicose no sangue refere-se à quantidade de glicose na corrente sanguínea.\n",
    "* **diabetes**: Variável alvo, onde 1 indica diabete e 0 ausência de diabetes"
   ]
  },
  {
   "cell_type": "markdown",
   "id": "5b777c7c",
   "metadata": {},
   "source": [
    "### Carregando o dataset"
   ]
  },
  {
   "cell_type": "code",
   "execution_count": 2,
   "id": "fe9766cf",
   "metadata": {},
   "outputs": [],
   "source": [
    "dados = pd.read_csv('diabetes_prediction_dataset.csv')"
   ]
  },
  {
   "cell_type": "code",
   "execution_count": 3,
   "id": "ee889414",
   "metadata": {},
   "outputs": [
    {
     "data": {
      "text/plain": [
       "(100000, 9)"
      ]
     },
     "execution_count": 3,
     "metadata": {},
     "output_type": "execute_result"
    }
   ],
   "source": [
    "# Nosso dataset está composto por 100000 (cem mil) registros e 9 colunas\n",
    "dados.shape"
   ]
  },
  {
   "cell_type": "code",
   "execution_count": 4,
   "id": "d755cbaf",
   "metadata": {},
   "outputs": [
    {
     "data": {
      "text/html": [
       "<div>\n",
       "<style scoped>\n",
       "    .dataframe tbody tr th:only-of-type {\n",
       "        vertical-align: middle;\n",
       "    }\n",
       "\n",
       "    .dataframe tbody tr th {\n",
       "        vertical-align: top;\n",
       "    }\n",
       "\n",
       "    .dataframe thead th {\n",
       "        text-align: right;\n",
       "    }\n",
       "</style>\n",
       "<table border=\"1\" class=\"dataframe\">\n",
       "  <thead>\n",
       "    <tr style=\"text-align: right;\">\n",
       "      <th></th>\n",
       "      <th>gender</th>\n",
       "      <th>age</th>\n",
       "      <th>hypertension</th>\n",
       "      <th>heart_disease</th>\n",
       "      <th>smoking_history</th>\n",
       "      <th>bmi</th>\n",
       "      <th>HbA1c_level</th>\n",
       "      <th>blood_glucose_level</th>\n",
       "      <th>diabetes</th>\n",
       "    </tr>\n",
       "  </thead>\n",
       "  <tbody>\n",
       "    <tr>\n",
       "      <th>65595</th>\n",
       "      <td>Male</td>\n",
       "      <td>40.0</td>\n",
       "      <td>0</td>\n",
       "      <td>0</td>\n",
       "      <td>never</td>\n",
       "      <td>28.28</td>\n",
       "      <td>5.7</td>\n",
       "      <td>159</td>\n",
       "      <td>0</td>\n",
       "    </tr>\n",
       "    <tr>\n",
       "      <th>63408</th>\n",
       "      <td>Male</td>\n",
       "      <td>57.0</td>\n",
       "      <td>0</td>\n",
       "      <td>0</td>\n",
       "      <td>No Info</td>\n",
       "      <td>27.32</td>\n",
       "      <td>5.8</td>\n",
       "      <td>158</td>\n",
       "      <td>0</td>\n",
       "    </tr>\n",
       "    <tr>\n",
       "      <th>329</th>\n",
       "      <td>Male</td>\n",
       "      <td>61.0</td>\n",
       "      <td>0</td>\n",
       "      <td>0</td>\n",
       "      <td>No Info</td>\n",
       "      <td>27.32</td>\n",
       "      <td>6.2</td>\n",
       "      <td>130</td>\n",
       "      <td>0</td>\n",
       "    </tr>\n",
       "    <tr>\n",
       "      <th>35953</th>\n",
       "      <td>Female</td>\n",
       "      <td>46.0</td>\n",
       "      <td>0</td>\n",
       "      <td>0</td>\n",
       "      <td>never</td>\n",
       "      <td>27.32</td>\n",
       "      <td>4.0</td>\n",
       "      <td>85</td>\n",
       "      <td>0</td>\n",
       "    </tr>\n",
       "    <tr>\n",
       "      <th>47089</th>\n",
       "      <td>Male</td>\n",
       "      <td>10.0</td>\n",
       "      <td>0</td>\n",
       "      <td>1</td>\n",
       "      <td>No Info</td>\n",
       "      <td>29.48</td>\n",
       "      <td>6.0</td>\n",
       "      <td>158</td>\n",
       "      <td>0</td>\n",
       "    </tr>\n",
       "  </tbody>\n",
       "</table>\n",
       "</div>"
      ],
      "text/plain": [
       "       gender   age  hypertension  heart_disease smoking_history    bmi   \n",
       "65595    Male  40.0             0              0           never  28.28  \\\n",
       "63408    Male  57.0             0              0         No Info  27.32   \n",
       "329      Male  61.0             0              0         No Info  27.32   \n",
       "35953  Female  46.0             0              0           never  27.32   \n",
       "47089    Male  10.0             0              1         No Info  29.48   \n",
       "\n",
       "       HbA1c_level  blood_glucose_level  diabetes  \n",
       "65595          5.7                  159         0  \n",
       "63408          5.8                  158         0  \n",
       "329            6.2                  130         0  \n",
       "35953          4.0                   85         0  \n",
       "47089          6.0                  158         0  "
      ]
     },
     "execution_count": 4,
     "metadata": {},
     "output_type": "execute_result"
    }
   ],
   "source": [
    "# Pegando uma amostra aleatória de 5 registros\n",
    "dados.sample(5)"
   ]
  },
  {
   "cell_type": "markdown",
   "id": "79dce790",
   "metadata": {},
   "source": [
    "### Análise Exploratória de Dados"
   ]
  },
  {
   "cell_type": "code",
   "execution_count": 5,
   "id": "d9d0edbb",
   "metadata": {},
   "outputs": [
    {
     "data": {
      "text/plain": [
       "gender                  object\n",
       "age                    float64\n",
       "hypertension             int64\n",
       "heart_disease            int64\n",
       "smoking_history         object\n",
       "bmi                    float64\n",
       "HbA1c_level            float64\n",
       "blood_glucose_level      int64\n",
       "diabetes                 int64\n",
       "dtype: object"
      ]
     },
     "execution_count": 5,
     "metadata": {},
     "output_type": "execute_result"
    }
   ],
   "source": [
    "# Tipos das variáveis\n",
    "\n",
    "dados.dtypes"
   ]
  },
  {
   "cell_type": "code",
   "execution_count": 6,
   "id": "affdcdbd",
   "metadata": {},
   "outputs": [],
   "source": [
    "# Alterando os tipos das variáveis.\n",
    "# Podemos levar em consideração que os campos hypertension, heart_disease apesar de estar como numerico\n",
    "# representam uma categoria 0 ou 1, logo é uma variável categórica\n",
    "\n",
    "lista_colunas_categoricas = ['hypertension','heart_disease']\n",
    "\n",
    "for lista_categoria in lista_colunas_categoricas:\n",
    "    dados[lista_categoria] = dados[lista_categoria].astype(object)"
   ]
  },
  {
   "cell_type": "code",
   "execution_count": 7,
   "id": "5db41db3",
   "metadata": {},
   "outputs": [
    {
     "data": {
      "text/plain": [
       "gender                  object\n",
       "age                    float64\n",
       "hypertension            object\n",
       "heart_disease           object\n",
       "smoking_history         object\n",
       "bmi                    float64\n",
       "HbA1c_level            float64\n",
       "blood_glucose_level      int64\n",
       "diabetes                 int64\n",
       "dtype: object"
      ]
     },
     "execution_count": 7,
     "metadata": {},
     "output_type": "execute_result"
    }
   ],
   "source": [
    "dados.dtypes"
   ]
  },
  {
   "cell_type": "markdown",
   "id": "226cba6d",
   "metadata": {},
   "source": [
    "#### Separando nossas colunas em Numéricas , Categóricas e Target"
   ]
  },
  {
   "cell_type": "code",
   "execution_count": 8,
   "id": "3b9f25a3",
   "metadata": {},
   "outputs": [],
   "source": [
    "# Variáveis categóricas\n",
    "cats = ['gender', 'hypertension', 'heart_disease','smoking_history']"
   ]
  },
  {
   "cell_type": "code",
   "execution_count": 9,
   "id": "d23c7cd8",
   "metadata": {},
   "outputs": [],
   "source": [
    "# Variáveis numéricas\n",
    "nums = ['age', 'bmi', 'HbA1c_level', 'blood_glucose_level']"
   ]
  },
  {
   "cell_type": "code",
   "execution_count": 10,
   "id": "1f5e3d5d",
   "metadata": {},
   "outputs": [],
   "source": [
    "# Variável alvo\n",
    "\n",
    "target = ['diabetes']"
   ]
  },
  {
   "cell_type": "code",
   "execution_count": 11,
   "id": "7a07c2cd",
   "metadata": {},
   "outputs": [
    {
     "data": {
      "text/plain": [
       "diabetes\n",
       "0    91500\n",
       "1     8500\n",
       "Name: count, dtype: int64"
      ]
     },
     "execution_count": 11,
     "metadata": {},
     "output_type": "execute_result"
    }
   ],
   "source": [
    "# Temos uma grande diferença na nossa variavel alvo\n",
    "dados['diabetes'].value_counts()"
   ]
  },
  {
   "cell_type": "markdown",
   "id": "9b31e605",
   "metadata": {},
   "source": [
    "#### Explorando as variáveis numéricas"
   ]
  },
  {
   "cell_type": "code",
   "execution_count": 12,
   "id": "42a222e4",
   "metadata": {},
   "outputs": [
    {
     "data": {
      "text/html": [
       "<div>\n",
       "<style scoped>\n",
       "    .dataframe tbody tr th:only-of-type {\n",
       "        vertical-align: middle;\n",
       "    }\n",
       "\n",
       "    .dataframe tbody tr th {\n",
       "        vertical-align: top;\n",
       "    }\n",
       "\n",
       "    .dataframe thead th {\n",
       "        text-align: right;\n",
       "    }\n",
       "</style>\n",
       "<table border=\"1\" class=\"dataframe\">\n",
       "  <thead>\n",
       "    <tr style=\"text-align: right;\">\n",
       "      <th></th>\n",
       "      <th>age</th>\n",
       "      <th>bmi</th>\n",
       "      <th>HbA1c_level</th>\n",
       "      <th>blood_glucose_level</th>\n",
       "    </tr>\n",
       "  </thead>\n",
       "  <tbody>\n",
       "    <tr>\n",
       "      <th>count</th>\n",
       "      <td>100000.000000</td>\n",
       "      <td>100000.000000</td>\n",
       "      <td>100000.000000</td>\n",
       "      <td>100000.000000</td>\n",
       "    </tr>\n",
       "    <tr>\n",
       "      <th>mean</th>\n",
       "      <td>41.885856</td>\n",
       "      <td>27.320767</td>\n",
       "      <td>5.527507</td>\n",
       "      <td>138.058060</td>\n",
       "    </tr>\n",
       "    <tr>\n",
       "      <th>std</th>\n",
       "      <td>22.516840</td>\n",
       "      <td>6.636783</td>\n",
       "      <td>1.070672</td>\n",
       "      <td>40.708136</td>\n",
       "    </tr>\n",
       "    <tr>\n",
       "      <th>min</th>\n",
       "      <td>0.080000</td>\n",
       "      <td>10.010000</td>\n",
       "      <td>3.500000</td>\n",
       "      <td>80.000000</td>\n",
       "    </tr>\n",
       "    <tr>\n",
       "      <th>25%</th>\n",
       "      <td>24.000000</td>\n",
       "      <td>23.630000</td>\n",
       "      <td>4.800000</td>\n",
       "      <td>100.000000</td>\n",
       "    </tr>\n",
       "    <tr>\n",
       "      <th>50%</th>\n",
       "      <td>43.000000</td>\n",
       "      <td>27.320000</td>\n",
       "      <td>5.800000</td>\n",
       "      <td>140.000000</td>\n",
       "    </tr>\n",
       "    <tr>\n",
       "      <th>75%</th>\n",
       "      <td>60.000000</td>\n",
       "      <td>29.580000</td>\n",
       "      <td>6.200000</td>\n",
       "      <td>159.000000</td>\n",
       "    </tr>\n",
       "    <tr>\n",
       "      <th>max</th>\n",
       "      <td>80.000000</td>\n",
       "      <td>95.690000</td>\n",
       "      <td>9.000000</td>\n",
       "      <td>300.000000</td>\n",
       "    </tr>\n",
       "  </tbody>\n",
       "</table>\n",
       "</div>"
      ],
      "text/plain": [
       "                 age            bmi    HbA1c_level  blood_glucose_level\n",
       "count  100000.000000  100000.000000  100000.000000        100000.000000\n",
       "mean       41.885856      27.320767       5.527507           138.058060\n",
       "std        22.516840       6.636783       1.070672            40.708136\n",
       "min         0.080000      10.010000       3.500000            80.000000\n",
       "25%        24.000000      23.630000       4.800000           100.000000\n",
       "50%        43.000000      27.320000       5.800000           140.000000\n",
       "75%        60.000000      29.580000       6.200000           159.000000\n",
       "max        80.000000      95.690000       9.000000           300.000000"
      ]
     },
     "execution_count": 12,
     "metadata": {},
     "output_type": "execute_result"
    }
   ],
   "source": [
    "# Resumo das variáveis numéricas\n",
    "\n",
    "dados[nums].describe()"
   ]
  },
  {
   "cell_type": "markdown",
   "id": "aaf711b6",
   "metadata": {},
   "source": [
    "**Observações**:\n",
    "\n",
    "* A variável **age** contém uma amplitude grande inclusive tendo como valor míninmo 0 (zero), normalmente a idade segue uma normalidade, porém iremos analisar melhor estes registros.\n",
    "\n",
    "\n",
    "* O índice de **bmi** (IMC) indica que ter uma simetria, dado que a média e mediana não são tão discrepantes, mas indica uma amplitude grande ao compararmos a média com o valor máximo. Podemos entender que há pessoas com Magreza IMC <  18.5 e pessoas obesas tipo III com IMC > 40.\n",
    "\n",
    "\n",
    "* A variável **HbA1c_level** mostra uma mediana de 5.8, onde metade tem acima de 5.8% de Hemoglobina A1c e a média não está tão distante. Uma pessoa em jejum considera-se um índice de Hemoglobina A1c < 6.5%.\n",
    "\n",
    "\n",
    "* A variável **blood_glucose_level** mostra que o nível de glicose médio é 138 e mediana 140, valores bem próxios onde indica que se levarmos em consideração toda nossa base metade está em um nível já diabético. Temos um valor máximo de 300. Em jejum a normalidade varia de 70 à 100 mg/dl."
   ]
  },
  {
   "cell_type": "code",
   "execution_count": 13,
   "id": "97423171",
   "metadata": {},
   "outputs": [
    {
     "data": {
      "text/plain": [
       "<Axes: >"
      ]
     },
     "execution_count": 13,
     "metadata": {},
     "output_type": "execute_result"
    },
    {
     "data": {
      "image/png": "[encoded data removed]",
      "text/plain": [
       "<Figure size 640x480 with 1 Axes>"
      ]
     },
     "metadata": {},
     "output_type": "display_data"
    }
   ],
   "source": [
    "dados['age'].hist()"
   ]
  },
  {
   "cell_type": "code",
   "execution_count": 14,
   "id": "dce7d928",
   "metadata": {},
   "outputs": [
    {
     "data": {
      "text/plain": [
       "<Axes: >"
      ]
     },
     "execution_count": 14,
     "metadata": {},
     "output_type": "execute_result"
    },
    {
     "data": {
      "image/png": "[encoded data removed]",
      "text/plain": [
       "<Figure size 640x480 with 1 Axes>"
      ]
     },
     "metadata": {},
     "output_type": "display_data"
    }
   ],
   "source": [
    "dados['bmi'].hist()"
   ]
  },
  {
   "cell_type": "code",
   "execution_count": 15,
   "id": "3a637ca1",
   "metadata": {},
   "outputs": [
    {
     "data": {
      "text/plain": [
       "<Axes: >"
      ]
     },
     "execution_count": 15,
     "metadata": {},
     "output_type": "execute_result"
    },
    {
     "data": {
      "image/png": "[encoded data removed]",
      "text/plain": [
       "<Figure size 640x480 with 1 Axes>"
      ]
     },
     "metadata": {},
     "output_type": "display_data"
    }
   ],
   "source": [
    "dados['HbA1c_level'].hist()"
   ]
  },
  {
   "cell_type": "code",
   "execution_count": 16,
   "id": "dd99389b",
   "metadata": {},
   "outputs": [
    {
     "data": {
      "text/plain": [
       "<Axes: >"
      ]
     },
     "execution_count": 16,
     "metadata": {},
     "output_type": "execute_result"
    },
    {
     "data": {
      "image/png": "[encoded data removed]",
      "text/plain": [
       "<Figure size 640x480 with 1 Axes>"
      ]
     },
     "metadata": {},
     "output_type": "display_data"
    }
   ],
   "source": [
    "dados['blood_glucose_level'].hist()"
   ]
  },
  {
   "cell_type": "markdown",
   "id": "5aec5c6d",
   "metadata": {},
   "source": [
    "#### Explorando as variáveis categóricas"
   ]
  },
  {
   "cell_type": "code",
   "execution_count": 17,
   "id": "954120ac",
   "metadata": {},
   "outputs": [
    {
     "data": {
      "text/html": [
       "<div>\n",
       "<style scoped>\n",
       "    .dataframe tbody tr th:only-of-type {\n",
       "        vertical-align: middle;\n",
       "    }\n",
       "\n",
       "    .dataframe tbody tr th {\n",
       "        vertical-align: top;\n",
       "    }\n",
       "\n",
       "    .dataframe thead th {\n",
       "        text-align: right;\n",
       "    }\n",
       "</style>\n",
       "<table border=\"1\" class=\"dataframe\">\n",
       "  <thead>\n",
       "    <tr style=\"text-align: right;\">\n",
       "      <th></th>\n",
       "      <th>gender</th>\n",
       "      <th>hypertension</th>\n",
       "      <th>heart_disease</th>\n",
       "      <th>smoking_history</th>\n",
       "    </tr>\n",
       "  </thead>\n",
       "  <tbody>\n",
       "    <tr>\n",
       "      <th>count</th>\n",
       "      <td>100000</td>\n",
       "      <td>100000</td>\n",
       "      <td>100000</td>\n",
       "      <td>100000</td>\n",
       "    </tr>\n",
       "    <tr>\n",
       "      <th>unique</th>\n",
       "      <td>3</td>\n",
       "      <td>2</td>\n",
       "      <td>2</td>\n",
       "      <td>6</td>\n",
       "    </tr>\n",
       "    <tr>\n",
       "      <th>top</th>\n",
       "      <td>Female</td>\n",
       "      <td>0</td>\n",
       "      <td>0</td>\n",
       "      <td>No Info</td>\n",
       "    </tr>\n",
       "    <tr>\n",
       "      <th>freq</th>\n",
       "      <td>58552</td>\n",
       "      <td>92515</td>\n",
       "      <td>96058</td>\n",
       "      <td>35816</td>\n",
       "    </tr>\n",
       "  </tbody>\n",
       "</table>\n",
       "</div>"
      ],
      "text/plain": [
       "        gender  hypertension  heart_disease smoking_history\n",
       "count   100000        100000         100000          100000\n",
       "unique       3             2              2               6\n",
       "top     Female             0              0         No Info\n",
       "freq     58552         92515          96058           35816"
      ]
     },
     "execution_count": 17,
     "metadata": {},
     "output_type": "execute_result"
    }
   ],
   "source": [
    "# Resumo das variáveis categóricas\n",
    "\n",
    "dados[cats].describe()"
   ]
  },
  {
   "cell_type": "markdown",
   "id": "0deb0270",
   "metadata": {},
   "source": [
    "**Observações**:\n",
    "\n",
    "* Para a variável **gender** Female é a classe dominante\n",
    "* Para a variável **hypertension** 0 (Não possui hipertensão) é a classe dominante\n",
    "* Para a variável **heart_disease** 0 (Não possui doença cardíaca) é a classe dominante\n",
    "* Para a variável **smoking_history** No Info é a classe predominante\n",
    "* Possuimos entre 2 - 6 valores únicos"
   ]
  },
  {
   "cell_type": "code",
   "execution_count": 18,
   "id": "35450a59",
   "metadata": {},
   "outputs": [
    {
     "name": "stdout",
     "output_type": "stream",
     "text": [
      "Total de Registros Por Categoria da Variável gender:\n",
      "gender\n",
      "Female    58552\n",
      "Male      41430\n",
      "Other        18\n",
      "Name: count, dtype: int64\n",
      "--------------------------------------------------\n",
      "\n",
      "\n",
      "Total de Registros Por Categoria da Variável hypertension:\n",
      "hypertension\n",
      "0    92515\n",
      "1     7485\n",
      "Name: count, dtype: int64\n",
      "--------------------------------------------------\n",
      "\n",
      "\n",
      "Total de Registros Por Categoria da Variável heart_disease:\n",
      "heart_disease\n",
      "0    96058\n",
      "1     3942\n",
      "Name: count, dtype: int64\n",
      "--------------------------------------------------\n",
      "\n",
      "\n",
      "Total de Registros Por Categoria da Variável smoking_history:\n",
      "smoking_history\n",
      "No Info        35816\n",
      "never          35095\n",
      "former          9352\n",
      "current         9286\n",
      "not current     6447\n",
      "ever            4004\n",
      "Name: count, dtype: int64\n",
      "--------------------------------------------------\n",
      "\n",
      "\n"
     ]
    }
   ],
   "source": [
    "# Listando o total por categoria\n",
    "\n",
    "for var_categoria in cats:\n",
    "    print(f'''Total de Registros Por Categoria da Variável {var_categoria}:''')\n",
    "    print(dados[var_categoria].value_counts())\n",
    "    print(50*'-')\n",
    "    print('\\n')"
   ]
  },
  {
   "cell_type": "markdown",
   "id": "37d0fff0",
   "metadata": {},
   "source": [
    "### Análise Univariada - Boxplot ( Numéricas )"
   ]
  },
  {
   "cell_type": "code",
   "execution_count": 19,
   "id": "aeedaa3c",
   "metadata": {},
   "outputs": [
    {
     "data": {
      "image/png": "[encoded data removed]",
      "text/plain": [
       "<Figure size 640x480 with 4 Axes>"
      ]
     },
     "metadata": {},
     "output_type": "display_data"
    }
   ],
   "source": [
    "var_numericas_grafico = nums\n",
    "for i in range(0, len(var_numericas_grafico)):\n",
    "    plt.subplot(1, len(var_numericas_grafico), i + 1)\n",
    "    sns.boxplot(y = dados[var_numericas_grafico[i]], color = 'magenta', orient = 'v')\n",
    "    plt.tight_layout()"
   ]
  },
  {
   "cell_type": "markdown",
   "id": "680ec983",
   "metadata": {},
   "source": [
    "#### Análise Univariada - Dist Plots ( Numéricas )"
   ]
  },
  {
   "cell_type": "code",
   "execution_count": 20,
   "id": "6523402b",
   "metadata": {},
   "outputs": [
    {
     "data": {
      "image/png": "[encoded data removed]",
      "text/plain": [
       "<Figure size 2000x1000 with 4 Axes>"
      ]
     },
     "metadata": {},
     "output_type": "display_data"
    }
   ],
   "source": [
    "var_numericas_grafico = nums\n",
    "plt.figure(figsize = (20, 10))\n",
    "num_cols = math.ceil(len(nums) / 2) \n",
    "for i in range(0, len(nums)):\n",
    "    plt.subplot(3, num_cols, i+1)\n",
    "    sns.histplot(x = dados[var_numericas_grafico[i]], kde = True, color = 'green')\n",
    "    plt.xlabel(var_numericas_grafico[i])\n",
    "    plt.tight_layout()"
   ]
  },
  {
   "cell_type": "markdown",
   "id": "247d7cc0",
   "metadata": {},
   "source": [
    "### Análise Univariada - Count Plot (Categóricas)"
   ]
  },
  {
   "cell_type": "code",
   "execution_count": 21,
   "id": "6afd7309",
   "metadata": {},
   "outputs": [
    {
     "data": {
      "image/png": "[encoded data removed]",
      "text/plain": [
       "<Figure size 640x480 with 4 Axes>"
      ]
     },
     "metadata": {},
     "output_type": "display_data"
    }
   ],
   "source": [
    "# Pegamos uma amostra de 1000 registros para fazermos os gráficos\n",
    "\n",
    "df_sample = dados.sample(1000, random_state = 42)\n",
    "for i in range(0, len(cats)):\n",
    "    plt.subplot(2, 3, i + 1)\n",
    "    sns.countplot(x = df_sample[cats[i]], color = 'green', orient = 'v')\n",
    "    plt.tight_layout()"
   ]
  },
  {
   "cell_type": "code",
   "execution_count": 22,
   "id": "1bd28f89",
   "metadata": {},
   "outputs": [
    {
     "data": {
      "text/plain": [
       "<Axes: xlabel='diabetes', ylabel='count'>"
      ]
     },
     "execution_count": 22,
     "metadata": {},
     "output_type": "execute_result"
    },
    {
     "data": {
      "image/png": "[encoded data removed]",
      "text/plain": [
       "<Figure size 640x480 with 1 Axes>"
      ]
     },
     "metadata": {},
     "output_type": "display_data"
    }
   ],
   "source": [
    "# Count Plot da variável target\n",
    "sns.countplot(data = dados, x = dados['diabetes'], hue = 'diabetes')"
   ]
  },
  {
   "cell_type": "code",
   "execution_count": 23,
   "id": "1d0d90fb",
   "metadata": {},
   "outputs": [
    {
     "data": {
      "text/plain": [
       "<Axes: xlabel='smoking_history', ylabel='count'>"
      ]
     },
     "execution_count": 23,
     "metadata": {},
     "output_type": "execute_result"
    },
    {
     "data": {
      "image/png": "[encoded data removed]",
      "text/plain": [
       "<Figure size 640x480 with 1 Axes>"
      ]
     },
     "metadata": {},
     "output_type": "display_data"
    }
   ],
   "source": [
    "sns.countplot(data = dados, x = dados['smoking_history'], hue = 'smoking_history')"
   ]
  },
  {
   "cell_type": "markdown",
   "id": "0bc10810",
   "metadata": {},
   "source": [
    "**Observações**:\n",
    "\n",
    "* Temos mais registros do gênero Feminino do que Masculino\n",
    "* Há grande discrepância em quantidades quando olhamos para as variáveis **hypertensions** e **heart_disease**\n",
    "* Temos uma grande quantidade de registros Sem informações na variável **smoking_history** mas também uma grande quantidade que informa nunca terem fumado"
   ]
  },
  {
   "cell_type": "markdown",
   "id": "fcaced4f",
   "metadata": {},
   "source": [
    "#### Análise Bivariada - Mapa de Correlação"
   ]
  },
  {
   "cell_type": "code",
   "execution_count": 24,
   "id": "9030163d",
   "metadata": {},
   "outputs": [
    {
     "data": {
      "text/html": [
       "<div>\n",
       "<style scoped>\n",
       "    .dataframe tbody tr th:only-of-type {\n",
       "        vertical-align: middle;\n",
       "    }\n",
       "\n",
       "    .dataframe tbody tr th {\n",
       "        vertical-align: top;\n",
       "    }\n",
       "\n",
       "    .dataframe thead th {\n",
       "        text-align: right;\n",
       "    }\n",
       "</style>\n",
       "<table border=\"1\" class=\"dataframe\">\n",
       "  <thead>\n",
       "    <tr style=\"text-align: right;\">\n",
       "      <th></th>\n",
       "      <th>age</th>\n",
       "      <th>bmi</th>\n",
       "      <th>HbA1c_level</th>\n",
       "      <th>blood_glucose_level</th>\n",
       "    </tr>\n",
       "  </thead>\n",
       "  <tbody>\n",
       "    <tr>\n",
       "      <th>age</th>\n",
       "      <td>1.000000</td>\n",
       "      <td>0.337396</td>\n",
       "      <td>0.101354</td>\n",
       "      <td>0.110672</td>\n",
       "    </tr>\n",
       "    <tr>\n",
       "      <th>bmi</th>\n",
       "      <td>0.337396</td>\n",
       "      <td>1.000000</td>\n",
       "      <td>0.082997</td>\n",
       "      <td>0.091261</td>\n",
       "    </tr>\n",
       "    <tr>\n",
       "      <th>HbA1c_level</th>\n",
       "      <td>0.101354</td>\n",
       "      <td>0.082997</td>\n",
       "      <td>1.000000</td>\n",
       "      <td>0.166733</td>\n",
       "    </tr>\n",
       "    <tr>\n",
       "      <th>blood_glucose_level</th>\n",
       "      <td>0.110672</td>\n",
       "      <td>0.091261</td>\n",
       "      <td>0.166733</td>\n",
       "      <td>1.000000</td>\n",
       "    </tr>\n",
       "  </tbody>\n",
       "</table>\n",
       "</div>"
      ],
      "text/plain": [
       "                          age       bmi  HbA1c_level  blood_glucose_level\n",
       "age                  1.000000  0.337396     0.101354             0.110672\n",
       "bmi                  0.337396  1.000000     0.082997             0.091261\n",
       "HbA1c_level          0.101354  0.082997     1.000000             0.166733\n",
       "blood_glucose_level  0.110672  0.091261     0.166733             1.000000"
      ]
     },
     "execution_count": 24,
     "metadata": {},
     "output_type": "execute_result"
    }
   ],
   "source": [
    "dados[nums].corr()"
   ]
  },
  {
   "cell_type": "code",
   "execution_count": 25,
   "id": "24e30adf",
   "metadata": {},
   "outputs": [
    {
     "data": {
      "text/plain": [
       "<Axes: >"
      ]
     },
     "execution_count": 25,
     "metadata": {},
     "output_type": "execute_result"
    },
    {
     "data": {
      "image/png": "[encoded data removed]",
      "text/plain": [
       "<Figure size 800x800 with 2 Axes>"
      ]
     },
     "metadata": {},
     "output_type": "display_data"
    }
   ],
   "source": [
    "dados_corr = dados[nums].corr()\n",
    "\n",
    "plt.figure(figsize = (8, 8))\n",
    "sns.heatmap(dados_corr, cmap = 'Blues', annot = True, fmt = '.2f')"
   ]
  },
  {
   "cell_type": "markdown",
   "id": "4c0c5d98",
   "metadata": {},
   "source": [
    "**Observações**:\n",
    "\n",
    "* Há uma correlação positiva entre **bmi(IMC)** com a **age**\n",
    "* Há uma correlação positiva entre **HbA1c_level** com a **blood_glucose_level**\n",
    "* E há correlações fracas nas demais variáveis, onde algumas há quase ausência de correlação com valores póximos a 0"
   ]
  },
  {
   "cell_type": "markdown",
   "id": "035c04d0",
   "metadata": {},
   "source": [
    "### Colunas Categóricas x Variável Target"
   ]
  },
  {
   "cell_type": "code",
   "execution_count": 26,
   "id": "33b3625d",
   "metadata": {},
   "outputs": [
    {
     "data": {
      "image/png": "[encoded data removed]",
      "text/plain": [
       "<Figure size 1500x900 with 4 Axes>"
      ]
     },
     "metadata": {},
     "output_type": "display_data"
    }
   ],
   "source": [
    "plt.figure(figsize = (15, 9))\n",
    "features = cats\n",
    "for i in range(0, len(features)):\n",
    "    plt.subplot(2, 2, i+1) \n",
    "    sns.countplot(data = df_sample, x = features[i], hue = 'diabetes')\n",
    "    plt.tight_layout()"
   ]
  },
  {
   "cell_type": "markdown",
   "id": "e2b31ed8",
   "metadata": {},
   "source": [
    "### Limpeza e Tratmento dos dados"
   ]
  },
  {
   "cell_type": "markdown",
   "id": "09ece3bb",
   "metadata": {},
   "source": [
    "#### Verificando se há valores NaN"
   ]
  },
  {
   "cell_type": "code",
   "execution_count": 27,
   "id": "3c3666b3",
   "metadata": {},
   "outputs": [
    {
     "data": {
      "text/plain": [
       "gender                 0\n",
       "age                    0\n",
       "hypertension           0\n",
       "heart_disease          0\n",
       "smoking_history        0\n",
       "bmi                    0\n",
       "HbA1c_level            0\n",
       "blood_glucose_level    0\n",
       "diabetes               0\n",
       "dtype: int64"
      ]
     },
     "execution_count": 27,
     "metadata": {},
     "output_type": "execute_result"
    }
   ],
   "source": [
    "# Não encontramos valores nulos em nosso dataset\n",
    "dados.isnull().sum()"
   ]
  },
  {
   "cell_type": "markdown",
   "id": "7c91e19e",
   "metadata": {},
   "source": [
    "#### Verificando se há valores duplicados\n",
    "\n",
    "Valores duplicados significam duplicidade dos dados em toda a linha (todo o registro)\n"
   ]
  },
  {
   "cell_type": "code",
   "execution_count": 28,
   "id": "5bf3323a",
   "metadata": {},
   "outputs": [
    {
     "data": {
      "text/html": [
       "<div>\n",
       "<style scoped>\n",
       "    .dataframe tbody tr th:only-of-type {\n",
       "        vertical-align: middle;\n",
       "    }\n",
       "\n",
       "    .dataframe tbody tr th {\n",
       "        vertical-align: top;\n",
       "    }\n",
       "\n",
       "    .dataframe thead th {\n",
       "        text-align: right;\n",
       "    }\n",
       "</style>\n",
       "<table border=\"1\" class=\"dataframe\">\n",
       "  <thead>\n",
       "    <tr style=\"text-align: right;\">\n",
       "      <th></th>\n",
       "      <th>gender</th>\n",
       "      <th>age</th>\n",
       "      <th>hypertension</th>\n",
       "      <th>heart_disease</th>\n",
       "      <th>smoking_history</th>\n",
       "      <th>bmi</th>\n",
       "      <th>HbA1c_level</th>\n",
       "      <th>blood_glucose_level</th>\n",
       "      <th>diabetes</th>\n",
       "    </tr>\n",
       "  </thead>\n",
       "  <tbody>\n",
       "    <tr>\n",
       "      <th>0</th>\n",
       "      <td>Female</td>\n",
       "      <td>80.0</td>\n",
       "      <td>0</td>\n",
       "      <td>1</td>\n",
       "      <td>never</td>\n",
       "      <td>25.19</td>\n",
       "      <td>6.6</td>\n",
       "      <td>140</td>\n",
       "      <td>0</td>\n",
       "    </tr>\n",
       "    <tr>\n",
       "      <th>1</th>\n",
       "      <td>Female</td>\n",
       "      <td>54.0</td>\n",
       "      <td>0</td>\n",
       "      <td>0</td>\n",
       "      <td>No Info</td>\n",
       "      <td>27.32</td>\n",
       "      <td>6.6</td>\n",
       "      <td>80</td>\n",
       "      <td>0</td>\n",
       "    </tr>\n",
       "    <tr>\n",
       "      <th>2</th>\n",
       "      <td>Male</td>\n",
       "      <td>28.0</td>\n",
       "      <td>0</td>\n",
       "      <td>0</td>\n",
       "      <td>never</td>\n",
       "      <td>27.32</td>\n",
       "      <td>5.7</td>\n",
       "      <td>158</td>\n",
       "      <td>0</td>\n",
       "    </tr>\n",
       "    <tr>\n",
       "      <th>3</th>\n",
       "      <td>Female</td>\n",
       "      <td>36.0</td>\n",
       "      <td>0</td>\n",
       "      <td>0</td>\n",
       "      <td>current</td>\n",
       "      <td>23.45</td>\n",
       "      <td>5.0</td>\n",
       "      <td>155</td>\n",
       "      <td>0</td>\n",
       "    </tr>\n",
       "    <tr>\n",
       "      <th>4</th>\n",
       "      <td>Male</td>\n",
       "      <td>76.0</td>\n",
       "      <td>1</td>\n",
       "      <td>1</td>\n",
       "      <td>current</td>\n",
       "      <td>20.14</td>\n",
       "      <td>4.8</td>\n",
       "      <td>155</td>\n",
       "      <td>0</td>\n",
       "    </tr>\n",
       "  </tbody>\n",
       "</table>\n",
       "</div>"
      ],
      "text/plain": [
       "   gender   age hypertension heart_disease smoking_history    bmi   \n",
       "0  Female  80.0            0             1           never  25.19  \\\n",
       "1  Female  54.0            0             0         No Info  27.32   \n",
       "2    Male  28.0            0             0           never  27.32   \n",
       "3  Female  36.0            0             0         current  23.45   \n",
       "4    Male  76.0            1             1         current  20.14   \n",
       "\n",
       "   HbA1c_level  blood_glucose_level  diabetes  \n",
       "0          6.6                  140         0  \n",
       "1          6.6                   80         0  \n",
       "2          5.7                  158         0  \n",
       "3          5.0                  155         0  \n",
       "4          4.8                  155         0  "
      ]
     },
     "execution_count": 28,
     "metadata": {},
     "output_type": "execute_result"
    }
   ],
   "source": [
    "dados.head(5)"
   ]
  },
  {
   "cell_type": "code",
   "execution_count": 29,
   "id": "0d9411e1",
   "metadata": {},
   "outputs": [
    {
     "data": {
      "text/plain": [
       "3854"
      ]
     },
     "execution_count": 29,
     "metadata": {},
     "output_type": "execute_result"
    }
   ],
   "source": [
    "# Analisando a quantidade de registros duplicados\n",
    "dados.duplicated().sum()"
   ]
  },
  {
   "cell_type": "code",
   "execution_count": 30,
   "id": "e6896d7c",
   "metadata": {
    "scrolled": true
   },
   "outputs": [
    {
     "data": {
      "text/html": [
       "<div>\n",
       "<style scoped>\n",
       "    .dataframe tbody tr th:only-of-type {\n",
       "        vertical-align: middle;\n",
       "    }\n",
       "\n",
       "    .dataframe tbody tr th {\n",
       "        vertical-align: top;\n",
       "    }\n",
       "\n",
       "    .dataframe thead th {\n",
       "        text-align: right;\n",
       "    }\n",
       "</style>\n",
       "<table border=\"1\" class=\"dataframe\">\n",
       "  <thead>\n",
       "    <tr style=\"text-align: right;\">\n",
       "      <th></th>\n",
       "      <th>gender</th>\n",
       "      <th>age</th>\n",
       "      <th>hypertension</th>\n",
       "      <th>heart_disease</th>\n",
       "      <th>smoking_history</th>\n",
       "      <th>bmi</th>\n",
       "      <th>HbA1c_level</th>\n",
       "      <th>blood_glucose_level</th>\n",
       "      <th>diabetes</th>\n",
       "    </tr>\n",
       "  </thead>\n",
       "  <tbody>\n",
       "    <tr>\n",
       "      <th>1</th>\n",
       "      <td>Female</td>\n",
       "      <td>54.0</td>\n",
       "      <td>0</td>\n",
       "      <td>0</td>\n",
       "      <td>No Info</td>\n",
       "      <td>27.32</td>\n",
       "      <td>6.6</td>\n",
       "      <td>80</td>\n",
       "      <td>0</td>\n",
       "    </tr>\n",
       "    <tr>\n",
       "      <th>10</th>\n",
       "      <td>Female</td>\n",
       "      <td>53.0</td>\n",
       "      <td>0</td>\n",
       "      <td>0</td>\n",
       "      <td>never</td>\n",
       "      <td>27.32</td>\n",
       "      <td>6.1</td>\n",
       "      <td>85</td>\n",
       "      <td>0</td>\n",
       "    </tr>\n",
       "    <tr>\n",
       "      <th>14</th>\n",
       "      <td>Female</td>\n",
       "      <td>76.0</td>\n",
       "      <td>0</td>\n",
       "      <td>0</td>\n",
       "      <td>No Info</td>\n",
       "      <td>27.32</td>\n",
       "      <td>5.0</td>\n",
       "      <td>160</td>\n",
       "      <td>0</td>\n",
       "    </tr>\n",
       "    <tr>\n",
       "      <th>18</th>\n",
       "      <td>Female</td>\n",
       "      <td>42.0</td>\n",
       "      <td>0</td>\n",
       "      <td>0</td>\n",
       "      <td>No Info</td>\n",
       "      <td>27.32</td>\n",
       "      <td>5.7</td>\n",
       "      <td>80</td>\n",
       "      <td>0</td>\n",
       "    </tr>\n",
       "    <tr>\n",
       "      <th>41</th>\n",
       "      <td>Male</td>\n",
       "      <td>5.0</td>\n",
       "      <td>0</td>\n",
       "      <td>0</td>\n",
       "      <td>No Info</td>\n",
       "      <td>27.32</td>\n",
       "      <td>6.6</td>\n",
       "      <td>130</td>\n",
       "      <td>0</td>\n",
       "    </tr>\n",
       "    <tr>\n",
       "      <th>...</th>\n",
       "      <td>...</td>\n",
       "      <td>...</td>\n",
       "      <td>...</td>\n",
       "      <td>...</td>\n",
       "      <td>...</td>\n",
       "      <td>...</td>\n",
       "      <td>...</td>\n",
       "      <td>...</td>\n",
       "      <td>...</td>\n",
       "    </tr>\n",
       "    <tr>\n",
       "      <th>99980</th>\n",
       "      <td>Female</td>\n",
       "      <td>52.0</td>\n",
       "      <td>0</td>\n",
       "      <td>0</td>\n",
       "      <td>never</td>\n",
       "      <td>27.32</td>\n",
       "      <td>6.1</td>\n",
       "      <td>145</td>\n",
       "      <td>0</td>\n",
       "    </tr>\n",
       "    <tr>\n",
       "      <th>99985</th>\n",
       "      <td>Male</td>\n",
       "      <td>25.0</td>\n",
       "      <td>0</td>\n",
       "      <td>0</td>\n",
       "      <td>No Info</td>\n",
       "      <td>27.32</td>\n",
       "      <td>5.8</td>\n",
       "      <td>145</td>\n",
       "      <td>0</td>\n",
       "    </tr>\n",
       "    <tr>\n",
       "      <th>99989</th>\n",
       "      <td>Female</td>\n",
       "      <td>26.0</td>\n",
       "      <td>0</td>\n",
       "      <td>0</td>\n",
       "      <td>No Info</td>\n",
       "      <td>27.32</td>\n",
       "      <td>5.0</td>\n",
       "      <td>158</td>\n",
       "      <td>0</td>\n",
       "    </tr>\n",
       "    <tr>\n",
       "      <th>99990</th>\n",
       "      <td>Male</td>\n",
       "      <td>39.0</td>\n",
       "      <td>0</td>\n",
       "      <td>0</td>\n",
       "      <td>No Info</td>\n",
       "      <td>27.32</td>\n",
       "      <td>6.1</td>\n",
       "      <td>100</td>\n",
       "      <td>0</td>\n",
       "    </tr>\n",
       "    <tr>\n",
       "      <th>99995</th>\n",
       "      <td>Female</td>\n",
       "      <td>80.0</td>\n",
       "      <td>0</td>\n",
       "      <td>0</td>\n",
       "      <td>No Info</td>\n",
       "      <td>27.32</td>\n",
       "      <td>6.2</td>\n",
       "      <td>90</td>\n",
       "      <td>0</td>\n",
       "    </tr>\n",
       "  </tbody>\n",
       "</table>\n",
       "<p>6939 rows × 9 columns</p>\n",
       "</div>"
      ],
      "text/plain": [
       "       gender   age hypertension heart_disease smoking_history    bmi   \n",
       "1      Female  54.0            0             0         No Info  27.32  \\\n",
       "10     Female  53.0            0             0           never  27.32   \n",
       "14     Female  76.0            0             0         No Info  27.32   \n",
       "18     Female  42.0            0             0         No Info  27.32   \n",
       "41       Male   5.0            0             0         No Info  27.32   \n",
       "...       ...   ...          ...           ...             ...    ...   \n",
       "99980  Female  52.0            0             0           never  27.32   \n",
       "99985    Male  25.0            0             0         No Info  27.32   \n",
       "99989  Female  26.0            0             0         No Info  27.32   \n",
       "99990    Male  39.0            0             0         No Info  27.32   \n",
       "99995  Female  80.0            0             0         No Info  27.32   \n",
       "\n",
       "       HbA1c_level  blood_glucose_level  diabetes  \n",
       "1              6.6                   80         0  \n",
       "10             6.1                   85         0  \n",
       "14             5.0                  160         0  \n",
       "18             5.7                   80         0  \n",
       "41             6.6                  130         0  \n",
       "...            ...                  ...       ...  \n",
       "99980          6.1                  145         0  \n",
       "99985          5.8                  145         0  \n",
       "99989          5.0                  158         0  \n",
       "99990          6.1                  100         0  \n",
       "99995          6.2                   90         0  \n",
       "\n",
       "[6939 rows x 9 columns]"
      ]
     },
     "execution_count": 30,
     "metadata": {},
     "output_type": "execute_result"
    }
   ],
   "source": [
    "dados[dados.duplicated(keep=False)]"
   ]
  },
  {
   "cell_type": "code",
   "execution_count": 31,
   "id": "89e5056f",
   "metadata": {},
   "outputs": [
    {
     "name": "stdout",
     "output_type": "stream",
     "text": [
      "Quantidade de registros antes de remover dados duplicados 100000\n"
     ]
    }
   ],
   "source": [
    "print(f'Quantidade de registros antes de remover dados duplicados {len(dados)}')"
   ]
  },
  {
   "cell_type": "code",
   "execution_count": 32,
   "id": "1ed3ed04",
   "metadata": {},
   "outputs": [
    {
     "name": "stdout",
     "output_type": "stream",
     "text": [
      "Quantidade de registros depois de remover dados duplicados 96146\n"
     ]
    }
   ],
   "source": [
    "# Removendo dados duplicados\n",
    "\n",
    "dados_v2 = dados.drop_duplicates()\n",
    "print(f'Quantidade de registros depois de remover dados duplicados {len(dados_v2)}')"
   ]
  },
  {
   "cell_type": "markdown",
   "id": "7104555e",
   "metadata": {},
   "source": [
    "#### Verificando se há valores extremos ( Outliers )\n",
    "\n",
    "Podemos perceber que na etapa de EDA, temos sim valores Outliers"
   ]
  },
  {
   "cell_type": "code",
   "execution_count": 33,
   "id": "3ddd0786",
   "metadata": {},
   "outputs": [
    {
     "data": {
      "image/png": "[encoded data removed]",
      "text/plain": [
       "<Figure size 640x480 with 4 Axes>"
      ]
     },
     "metadata": {},
     "output_type": "display_data"
    }
   ],
   "source": [
    "# Temos três variáveis/colunas com valores extremos\n",
    "\n",
    "var_numericas_grafico = nums\n",
    "for i in range(0, len(var_numericas_grafico)):\n",
    "    plt.subplot(1, len(var_numericas_grafico), i + 1)\n",
    "    sns.boxplot(y = dados_v2[var_numericas_grafico[i]], color = 'magenta')\n",
    "    plt.tight_layout() # ajusta o gráfico"
   ]
  },
  {
   "cell_type": "code",
   "execution_count": 34,
   "id": "f317e666",
   "metadata": {},
   "outputs": [
    {
     "data": {
      "text/html": [
       "<div>\n",
       "<style scoped>\n",
       "    .dataframe tbody tr th:only-of-type {\n",
       "        vertical-align: middle;\n",
       "    }\n",
       "\n",
       "    .dataframe tbody tr th {\n",
       "        vertical-align: top;\n",
       "    }\n",
       "\n",
       "    .dataframe thead th {\n",
       "        text-align: right;\n",
       "    }\n",
       "</style>\n",
       "<table border=\"1\" class=\"dataframe\">\n",
       "  <thead>\n",
       "    <tr style=\"text-align: right;\">\n",
       "      <th></th>\n",
       "      <th>bmi</th>\n",
       "      <th>HbA1c_level</th>\n",
       "      <th>blood_glucose_level</th>\n",
       "    </tr>\n",
       "  </thead>\n",
       "  <tbody>\n",
       "    <tr>\n",
       "      <th>count</th>\n",
       "      <td>96146.000000</td>\n",
       "      <td>96146.000000</td>\n",
       "      <td>96146.000000</td>\n",
       "    </tr>\n",
       "    <tr>\n",
       "      <th>mean</th>\n",
       "      <td>27.321461</td>\n",
       "      <td>5.532609</td>\n",
       "      <td>138.218231</td>\n",
       "    </tr>\n",
       "    <tr>\n",
       "      <th>std</th>\n",
       "      <td>6.767716</td>\n",
       "      <td>1.073232</td>\n",
       "      <td>40.909771</td>\n",
       "    </tr>\n",
       "    <tr>\n",
       "      <th>min</th>\n",
       "      <td>10.010000</td>\n",
       "      <td>3.500000</td>\n",
       "      <td>80.000000</td>\n",
       "    </tr>\n",
       "    <tr>\n",
       "      <th>25%</th>\n",
       "      <td>23.400000</td>\n",
       "      <td>4.800000</td>\n",
       "      <td>100.000000</td>\n",
       "    </tr>\n",
       "    <tr>\n",
       "      <th>50%</th>\n",
       "      <td>27.320000</td>\n",
       "      <td>5.800000</td>\n",
       "      <td>140.000000</td>\n",
       "    </tr>\n",
       "    <tr>\n",
       "      <th>75%</th>\n",
       "      <td>29.860000</td>\n",
       "      <td>6.200000</td>\n",
       "      <td>159.000000</td>\n",
       "    </tr>\n",
       "    <tr>\n",
       "      <th>max</th>\n",
       "      <td>95.690000</td>\n",
       "      <td>9.000000</td>\n",
       "      <td>300.000000</td>\n",
       "    </tr>\n",
       "  </tbody>\n",
       "</table>\n",
       "</div>"
      ],
      "text/plain": [
       "                bmi   HbA1c_level  blood_glucose_level\n",
       "count  96146.000000  96146.000000         96146.000000\n",
       "mean      27.321461      5.532609           138.218231\n",
       "std        6.767716      1.073232            40.909771\n",
       "min       10.010000      3.500000            80.000000\n",
       "25%       23.400000      4.800000           100.000000\n",
       "50%       27.320000      5.800000           140.000000\n",
       "75%       29.860000      6.200000           159.000000\n",
       "max       95.690000      9.000000           300.000000"
      ]
     },
     "execution_count": 34,
     "metadata": {},
     "output_type": "execute_result"
    }
   ],
   "source": [
    "dados_v2[['bmi', 'HbA1c_level', 'blood_glucose_level']].describe()"
   ]
  },
  {
   "attachments": {
    "image.png": {
     "image/png": "[encoded data removed]"
    }
   },
   "cell_type": "markdown",
   "id": "761ec890",
   "metadata": {},
   "source": [
    "#### Tratando Outliers\n",
    "\n",
    "Para identificarmos um valor Outlier devemos definir um limite superior e inferior. Aqui usaremos os limites baseados no desvio padrão.\n",
    "\n",
    "* x barra é a média da coluna em questão\n",
    "* Número 3 é o valor de \"k\"\n",
    "* DP é o desvio padrão da coluna em questão\n",
    "\n",
    "Um valor outlier é aquele que está abaixo do limite inferior ou acima do limite superior\n",
    "\n",
    "\n",
    "![image.png](attachment:image.png)\n",
    "\n"
   ]
  },
  {
   "cell_type": "code",
   "execution_count": 35,
   "id": "e357bc71",
   "metadata": {},
   "outputs": [
    {
     "name": "stdout",
     "output_type": "stream",
     "text": [
      "Limite Superior bmi: 47.62460779267177\n",
      "Limite Inferior bmi: 7.01831442978159\n"
     ]
    }
   ],
   "source": [
    "# Calculando Limite Superior da coluna\n",
    "# o +3 signifca 3 desvio padrao acima\n",
    "limite_superior_bmi = dados_v2.bmi.mean() + ( 3 * dados_v2.bmi.std() ) \n",
    "\n",
    "# Calculando Limite Inferior da coluna bmi\n",
    "# o -3 signifca 3 desvio padrao abaixo\n",
    "limite_inferior_bmi = dados_v2.bmi.mean() - ( 3 * dados_v2.bmi.std() )\n",
    "\n",
    "print(f'Limite Superior bmi: {limite_superior_bmi}')\n",
    "print(f'Limite Inferior bmi: {limite_inferior_bmi}')"
   ]
  },
  {
   "cell_type": "code",
   "execution_count": 36,
   "id": "538aa1ee",
   "metadata": {},
   "outputs": [
    {
     "data": {
      "text/html": [
       "<div>\n",
       "<style scoped>\n",
       "    .dataframe tbody tr th:only-of-type {\n",
       "        vertical-align: middle;\n",
       "    }\n",
       "\n",
       "    .dataframe tbody tr th {\n",
       "        vertical-align: top;\n",
       "    }\n",
       "\n",
       "    .dataframe thead th {\n",
       "        text-align: right;\n",
       "    }\n",
       "</style>\n",
       "<table border=\"1\" class=\"dataframe\">\n",
       "  <thead>\n",
       "    <tr style=\"text-align: right;\">\n",
       "      <th></th>\n",
       "      <th>gender</th>\n",
       "      <th>age</th>\n",
       "      <th>hypertension</th>\n",
       "      <th>heart_disease</th>\n",
       "      <th>smoking_history</th>\n",
       "      <th>bmi</th>\n",
       "      <th>HbA1c_level</th>\n",
       "      <th>blood_glucose_level</th>\n",
       "      <th>diabetes</th>\n",
       "    </tr>\n",
       "  </thead>\n",
       "  <tbody>\n",
       "    <tr>\n",
       "      <th>11</th>\n",
       "      <td>Female</td>\n",
       "      <td>54.0</td>\n",
       "      <td>0</td>\n",
       "      <td>0</td>\n",
       "      <td>former</td>\n",
       "      <td>54.70</td>\n",
       "      <td>6.0</td>\n",
       "      <td>100</td>\n",
       "      <td>0</td>\n",
       "    </tr>\n",
       "    <tr>\n",
       "      <th>39</th>\n",
       "      <td>Female</td>\n",
       "      <td>34.0</td>\n",
       "      <td>0</td>\n",
       "      <td>0</td>\n",
       "      <td>never</td>\n",
       "      <td>56.43</td>\n",
       "      <td>6.2</td>\n",
       "      <td>200</td>\n",
       "      <td>0</td>\n",
       "    </tr>\n",
       "    <tr>\n",
       "      <th>59</th>\n",
       "      <td>Female</td>\n",
       "      <td>67.0</td>\n",
       "      <td>0</td>\n",
       "      <td>0</td>\n",
       "      <td>never</td>\n",
       "      <td>63.48</td>\n",
       "      <td>8.8</td>\n",
       "      <td>155</td>\n",
       "      <td>1</td>\n",
       "    </tr>\n",
       "    <tr>\n",
       "      <th>93</th>\n",
       "      <td>Male</td>\n",
       "      <td>38.0</td>\n",
       "      <td>0</td>\n",
       "      <td>0</td>\n",
       "      <td>never</td>\n",
       "      <td>55.61</td>\n",
       "      <td>6.5</td>\n",
       "      <td>130</td>\n",
       "      <td>0</td>\n",
       "    </tr>\n",
       "    <tr>\n",
       "      <th>98</th>\n",
       "      <td>Female</td>\n",
       "      <td>30.0</td>\n",
       "      <td>0</td>\n",
       "      <td>0</td>\n",
       "      <td>No Info</td>\n",
       "      <td>50.13</td>\n",
       "      <td>6.0</td>\n",
       "      <td>100</td>\n",
       "      <td>0</td>\n",
       "    </tr>\n",
       "  </tbody>\n",
       "</table>\n",
       "</div>"
      ],
      "text/plain": [
       "    gender   age hypertension heart_disease smoking_history    bmi   \n",
       "11  Female  54.0            0             0          former  54.70  \\\n",
       "39  Female  34.0            0             0           never  56.43   \n",
       "59  Female  67.0            0             0           never  63.48   \n",
       "93    Male  38.0            0             0           never  55.61   \n",
       "98  Female  30.0            0             0         No Info  50.13   \n",
       "\n",
       "    HbA1c_level  blood_glucose_level  diabetes  \n",
       "11          6.0                  100         0  \n",
       "39          6.2                  200         0  \n",
       "59          8.8                  155         1  \n",
       "93          6.5                  130         0  \n",
       "98          6.0                  100         0  "
      ]
     },
     "execution_count": 36,
     "metadata": {},
     "output_type": "execute_result"
    }
   ],
   "source": [
    "# Extraindo valores da coluna bmi de acordo com os limites superiores e inferiores\n",
    "outlier_bmi = dados_v2[(dados_v2.bmi <= limite_inferior_bmi) | (dados_v2.bmi >= limite_superior_bmi)]\n",
    "outlier_bmi.head()"
   ]
  },
  {
   "cell_type": "code",
   "execution_count": 37,
   "id": "753db662",
   "metadata": {},
   "outputs": [],
   "source": [
    "# Filtra o dataframe removendo os registros com outliers na coluna bmi\n",
    "dados_v3 = dados_v2[ (dados_v2.bmi > limite_inferior_bmi) & (dados_v2.bmi < limite_superior_bmi) ]"
   ]
  },
  {
   "cell_type": "code",
   "execution_count": 38,
   "id": "55886953",
   "metadata": {},
   "outputs": [
    {
     "name": "stdout",
     "output_type": "stream",
     "text": [
      "Quantidade de dados antes de remover outliers 96146\n",
      "Quantidade de dados depois de remover outliers 94935\n"
     ]
    }
   ],
   "source": [
    "print(f'Quantidade de dados antes de remover outliers {len(dados_v2)}')\n",
    "print(f'Quantidade de dados depois de remover outliers {len(dados_v3)}')"
   ]
  },
  {
   "attachments": {
    "image.png": {
     "image/png": "[encoded data removed]"
    }
   },
   "cell_type": "markdown",
   "id": "a9c3d42b",
   "metadata": {},
   "source": [
    "#### Como temos mais de uma coluna, iremos usar Z-Score e uma condição para aplicar o filtro de outlier em todas as colunas\n",
    "\n",
    "Z-scores são o número de desvios padrão acima e abaixo da média. Por exemplo, um escore Z de 2 indica que uma observação está dois desvios padrão acima da média, enquanto um escore  Z  de -2  significa  que  está  dois  desvios  padrão  abaixo  da  média.  Um  Z-score  de  zerorepresenta um valor que é igual à média.\n",
    "\n",
    "![image.png](attachment:image.png)\n"
   ]
  },
  {
   "cell_type": "code",
   "execution_count": 39,
   "id": "95913d4d",
   "metadata": {},
   "outputs": [
    {
     "data": {
      "text/plain": [
       "array([ True,  True,  True, ...,  True,  True,  True])"
      ]
     },
     "execution_count": 39,
     "metadata": {},
     "output_type": "execute_result"
    }
   ],
   "source": [
    "# Crio um array com valores True\n",
    "# Quando encontrarmos valores outliers mudaremos para false\n",
    "\n",
    "registros = np.array([True] * len(dados_v3))\n",
    "registros"
   ]
  },
  {
   "cell_type": "code",
   "execution_count": 40,
   "id": "fa381373",
   "metadata": {},
   "outputs": [
    {
     "data": {
      "text/plain": [
       "94935"
      ]
     },
     "execution_count": 40,
     "metadata": {},
     "output_type": "execute_result"
    }
   ],
   "source": [
    "# conta quantos valores True temos\n",
    "np.count_nonzero(registros == True)"
   ]
  },
  {
   "cell_type": "code",
   "execution_count": 41,
   "id": "c94ca079",
   "metadata": {},
   "outputs": [
    {
     "data": {
      "text/plain": [
       "0"
      ]
     },
     "execution_count": 41,
     "metadata": {},
     "output_type": "execute_result"
    }
   ],
   "source": [
    "# conta quantos valores False temos\n",
    "np.count_nonzero(registros == False)"
   ]
  },
  {
   "cell_type": "code",
   "execution_count": 42,
   "id": "246fec3b",
   "metadata": {},
   "outputs": [],
   "source": [
    "# Variaveis numericas (sem a variavel bmi)\n",
    "nums2 = ['HbA1c_level', 'blood_glucose_level']"
   ]
  },
  {
   "cell_type": "code",
   "execution_count": 43,
   "id": "816477d2",
   "metadata": {},
   "outputs": [],
   "source": [
    "# loop por cada variavel numérica\n",
    "for col in nums2:\n",
    "    \n",
    "    # Calcula o z-score absoluto para cada coluna em nums2\n",
    "    zscore = abs(stats.zscore(dados_v3[col]))\n",
    "    \n",
    "    # Mantém valores com menos de 3 z-score absoluto\n",
    "    # A regra aqui é:\n",
    "        # -> É menor que 3 ? Se sim, mantem o valor da variável registros que é True\n",
    "        # -> senão\n",
    "    registros = (zscore < 3) & registros"
   ]
  },
  {
   "cell_type": "code",
   "execution_count": 44,
   "id": "71b3a075",
   "metadata": {},
   "outputs": [
    {
     "data": {
      "text/plain": [
       "92542"
      ]
     },
     "execution_count": 44,
     "metadata": {},
     "output_type": "execute_result"
    }
   ],
   "source": [
    "np.count_nonzero(registros == True)"
   ]
  },
  {
   "cell_type": "code",
   "execution_count": 45,
   "id": "94054aef",
   "metadata": {},
   "outputs": [
    {
     "data": {
      "text/plain": [
       "2393"
      ]
     },
     "execution_count": 45,
     "metadata": {},
     "output_type": "execute_result"
    }
   ],
   "source": [
    "np.count_nonzero(registros == False)"
   ]
  },
  {
   "cell_type": "code",
   "execution_count": 46,
   "id": "01de68af",
   "metadata": {},
   "outputs": [],
   "source": [
    "# Removemos registros com o z-score abaixo de 3 nas colunas numericas\n",
    "# Ou seja, pegamos os registros que estão como True\n",
    "dados_v3 = dados_v3[registros]"
   ]
  },
  {
   "cell_type": "code",
   "execution_count": 47,
   "id": "d51b57e4",
   "metadata": {},
   "outputs": [
    {
     "name": "stdout",
     "output_type": "stream",
     "text": [
      "Quantidade de dados antes de remover valores Outliers:  96146\n",
      "Quantidade de dados depois de remover valores Outliers:  92542\n"
     ]
    }
   ],
   "source": [
    "print('Quantidade de dados antes de remover valores Outliers: ', len(dados_v2))\n",
    "print('Quantidade de dados depois de remover valores Outliers: ', len(dados_v3))"
   ]
  },
  {
   "cell_type": "markdown",
   "id": "f99eaeaf",
   "metadata": {},
   "source": [
    "#### Tratando valores da coluna 'smoking_history'\n",
    "\n",
    "* never: Nunca fumou\n",
    "* ever: Indivíduos que já fumaram em algum momento da vida, independente de seu status atual de tabagismo\n",
    "* not current: Costumavam fumar, mas atualmente não fumam mais\n",
    "* current: É fumante atualmente\n",
    "* former: Costumavam fumar, mas não fumam atualmente e estão em períodos longos de abstinência (sem fumar) se comparado com o not current\n",
    "* No info: Sem informações\n",
    "\n",
    "\n",
    "Como podemos perceber essas informações diz 3 categorias gerais: Fumante, Não Fumante e Sem Informações"
   ]
  },
  {
   "cell_type": "code",
   "execution_count": 48,
   "id": "7fe5ecee",
   "metadata": {},
   "outputs": [
    {
     "data": {
      "text/html": [
       "<div>\n",
       "<style scoped>\n",
       "    .dataframe tbody tr th:only-of-type {\n",
       "        vertical-align: middle;\n",
       "    }\n",
       "\n",
       "    .dataframe tbody tr th {\n",
       "        vertical-align: top;\n",
       "    }\n",
       "\n",
       "    .dataframe thead th {\n",
       "        text-align: right;\n",
       "    }\n",
       "</style>\n",
       "<table border=\"1\" class=\"dataframe\">\n",
       "  <thead>\n",
       "    <tr style=\"text-align: right;\">\n",
       "      <th></th>\n",
       "      <th>gender</th>\n",
       "      <th>age</th>\n",
       "      <th>hypertension</th>\n",
       "      <th>heart_disease</th>\n",
       "      <th>smoking_history</th>\n",
       "      <th>bmi</th>\n",
       "      <th>HbA1c_level</th>\n",
       "      <th>blood_glucose_level</th>\n",
       "      <th>diabetes</th>\n",
       "    </tr>\n",
       "  </thead>\n",
       "  <tbody>\n",
       "    <tr>\n",
       "      <th>0</th>\n",
       "      <td>Female</td>\n",
       "      <td>80.0</td>\n",
       "      <td>0</td>\n",
       "      <td>1</td>\n",
       "      <td>never</td>\n",
       "      <td>25.19</td>\n",
       "      <td>6.6</td>\n",
       "      <td>140</td>\n",
       "      <td>0</td>\n",
       "    </tr>\n",
       "    <tr>\n",
       "      <th>1</th>\n",
       "      <td>Female</td>\n",
       "      <td>54.0</td>\n",
       "      <td>0</td>\n",
       "      <td>0</td>\n",
       "      <td>No Info</td>\n",
       "      <td>27.32</td>\n",
       "      <td>6.6</td>\n",
       "      <td>80</td>\n",
       "      <td>0</td>\n",
       "    </tr>\n",
       "    <tr>\n",
       "      <th>2</th>\n",
       "      <td>Male</td>\n",
       "      <td>28.0</td>\n",
       "      <td>0</td>\n",
       "      <td>0</td>\n",
       "      <td>never</td>\n",
       "      <td>27.32</td>\n",
       "      <td>5.7</td>\n",
       "      <td>158</td>\n",
       "      <td>0</td>\n",
       "    </tr>\n",
       "    <tr>\n",
       "      <th>3</th>\n",
       "      <td>Female</td>\n",
       "      <td>36.0</td>\n",
       "      <td>0</td>\n",
       "      <td>0</td>\n",
       "      <td>current</td>\n",
       "      <td>23.45</td>\n",
       "      <td>5.0</td>\n",
       "      <td>155</td>\n",
       "      <td>0</td>\n",
       "    </tr>\n",
       "    <tr>\n",
       "      <th>4</th>\n",
       "      <td>Male</td>\n",
       "      <td>76.0</td>\n",
       "      <td>1</td>\n",
       "      <td>1</td>\n",
       "      <td>current</td>\n",
       "      <td>20.14</td>\n",
       "      <td>4.8</td>\n",
       "      <td>155</td>\n",
       "      <td>0</td>\n",
       "    </tr>\n",
       "  </tbody>\n",
       "</table>\n",
       "</div>"
      ],
      "text/plain": [
       "   gender   age hypertension heart_disease smoking_history    bmi   \n",
       "0  Female  80.0            0             1           never  25.19  \\\n",
       "1  Female  54.0            0             0         No Info  27.32   \n",
       "2    Male  28.0            0             0           never  27.32   \n",
       "3  Female  36.0            0             0         current  23.45   \n",
       "4    Male  76.0            1             1         current  20.14   \n",
       "\n",
       "   HbA1c_level  blood_glucose_level  diabetes  \n",
       "0          6.6                  140         0  \n",
       "1          6.6                   80         0  \n",
       "2          5.7                  158         0  \n",
       "3          5.0                  155         0  \n",
       "4          4.8                  155         0  "
      ]
     },
     "execution_count": 48,
     "metadata": {},
     "output_type": "execute_result"
    }
   ],
   "source": [
    "dados_v3.head()"
   ]
  },
  {
   "cell_type": "code",
   "execution_count": 49,
   "id": "2c5fda0d",
   "metadata": {},
   "outputs": [
    {
     "data": {
      "text/plain": [
       "smoking_history\n",
       "never          32975\n",
       "No Info        32218\n",
       "current         8770\n",
       "former          8701\n",
       "not current     6066\n",
       "ever            3812\n",
       "Name: count, dtype: int64"
      ]
     },
     "execution_count": 49,
     "metadata": {},
     "output_type": "execute_result"
    }
   ],
   "source": [
    "dados_v3.smoking_history.value_counts()"
   ]
  },
  {
   "cell_type": "code",
   "execution_count": 50,
   "id": "484dbb63",
   "metadata": {},
   "outputs": [
    {
     "data": {
      "text/plain": [
       "<Axes: xlabel='smoking_history', ylabel='count'>"
      ]
     },
     "execution_count": 50,
     "metadata": {},
     "output_type": "execute_result"
    },
    {
     "data": {
      "image/png": "[encoded data removed]",
      "text/plain": [
       "<Figure size 640x480 with 1 Axes>"
      ]
     },
     "metadata": {},
     "output_type": "display_data"
    }
   ],
   "source": [
    "# Gráfico antes de tratar\n",
    "\n",
    "contagem = dados_v3['smoking_history'].value_counts().sort_values() \n",
    "sns.countplot(data = dados_v3, x = 'smoking_history', order=contagem.index)"
   ]
  },
  {
   "cell_type": "markdown",
   "id": "c8208896",
   "metadata": {},
   "source": [
    "Status listados indentificaremos como fumante\n",
    "\n",
    "* ever: Indivíduos que já fumaram em algum momento da vida, independente de seu status atual de tabagismo\n",
    "* not current: Costumavam fumar, mas atualmente não fumam mais\n",
    "* current: É fumante atualmente\n",
    "* former: Costumavam fumar, mas não fumam atualmente e estão em períodos longos de abstinência (sem fumar) se comparado com o not current"
   ]
  },
  {
   "cell_type": "code",
   "execution_count": 51,
   "id": "cae139f1",
   "metadata": {},
   "outputs": [],
   "source": [
    "# Criando uma nova coluna com condição usando numpy\n",
    "\n",
    "list_smoking_status = ['ever', 'not current', 'current', 'former']\n",
    "dados_v3['smoking_status'] = np.where(np.isin(dados_v3['smoking_history'], list_smoking_status), 'smoker',\n",
    "    np.where(dados_v3['smoking_history'] == 'No Info', 'no-info', 'non-smoker'))"
   ]
  },
  {
   "cell_type": "code",
   "execution_count": 52,
   "id": "c490bf6d",
   "metadata": {},
   "outputs": [
    {
     "data": {
      "text/html": [
       "<div>\n",
       "<style scoped>\n",
       "    .dataframe tbody tr th:only-of-type {\n",
       "        vertical-align: middle;\n",
       "    }\n",
       "\n",
       "    .dataframe tbody tr th {\n",
       "        vertical-align: top;\n",
       "    }\n",
       "\n",
       "    .dataframe thead th {\n",
       "        text-align: right;\n",
       "    }\n",
       "</style>\n",
       "<table border=\"1\" class=\"dataframe\">\n",
       "  <thead>\n",
       "    <tr style=\"text-align: right;\">\n",
       "      <th></th>\n",
       "      <th>gender</th>\n",
       "      <th>age</th>\n",
       "      <th>hypertension</th>\n",
       "      <th>heart_disease</th>\n",
       "      <th>smoking_history</th>\n",
       "      <th>bmi</th>\n",
       "      <th>HbA1c_level</th>\n",
       "      <th>blood_glucose_level</th>\n",
       "      <th>diabetes</th>\n",
       "      <th>smoking_status</th>\n",
       "    </tr>\n",
       "  </thead>\n",
       "  <tbody>\n",
       "    <tr>\n",
       "      <th>0</th>\n",
       "      <td>Female</td>\n",
       "      <td>80.0</td>\n",
       "      <td>0</td>\n",
       "      <td>1</td>\n",
       "      <td>never</td>\n",
       "      <td>25.19</td>\n",
       "      <td>6.6</td>\n",
       "      <td>140</td>\n",
       "      <td>0</td>\n",
       "      <td>non-smoker</td>\n",
       "    </tr>\n",
       "    <tr>\n",
       "      <th>1</th>\n",
       "      <td>Female</td>\n",
       "      <td>54.0</td>\n",
       "      <td>0</td>\n",
       "      <td>0</td>\n",
       "      <td>No Info</td>\n",
       "      <td>27.32</td>\n",
       "      <td>6.6</td>\n",
       "      <td>80</td>\n",
       "      <td>0</td>\n",
       "      <td>no-info</td>\n",
       "    </tr>\n",
       "    <tr>\n",
       "      <th>2</th>\n",
       "      <td>Male</td>\n",
       "      <td>28.0</td>\n",
       "      <td>0</td>\n",
       "      <td>0</td>\n",
       "      <td>never</td>\n",
       "      <td>27.32</td>\n",
       "      <td>5.7</td>\n",
       "      <td>158</td>\n",
       "      <td>0</td>\n",
       "      <td>non-smoker</td>\n",
       "    </tr>\n",
       "    <tr>\n",
       "      <th>3</th>\n",
       "      <td>Female</td>\n",
       "      <td>36.0</td>\n",
       "      <td>0</td>\n",
       "      <td>0</td>\n",
       "      <td>current</td>\n",
       "      <td>23.45</td>\n",
       "      <td>5.0</td>\n",
       "      <td>155</td>\n",
       "      <td>0</td>\n",
       "      <td>smoker</td>\n",
       "    </tr>\n",
       "    <tr>\n",
       "      <th>4</th>\n",
       "      <td>Male</td>\n",
       "      <td>76.0</td>\n",
       "      <td>1</td>\n",
       "      <td>1</td>\n",
       "      <td>current</td>\n",
       "      <td>20.14</td>\n",
       "      <td>4.8</td>\n",
       "      <td>155</td>\n",
       "      <td>0</td>\n",
       "      <td>smoker</td>\n",
       "    </tr>\n",
       "  </tbody>\n",
       "</table>\n",
       "</div>"
      ],
      "text/plain": [
       "   gender   age hypertension heart_disease smoking_history    bmi   \n",
       "0  Female  80.0            0             1           never  25.19  \\\n",
       "1  Female  54.0            0             0         No Info  27.32   \n",
       "2    Male  28.0            0             0           never  27.32   \n",
       "3  Female  36.0            0             0         current  23.45   \n",
       "4    Male  76.0            1             1         current  20.14   \n",
       "\n",
       "   HbA1c_level  blood_glucose_level  diabetes smoking_status  \n",
       "0          6.6                  140         0     non-smoker  \n",
       "1          6.6                   80         0        no-info  \n",
       "2          5.7                  158         0     non-smoker  \n",
       "3          5.0                  155         0         smoker  \n",
       "4          4.8                  155         0         smoker  "
      ]
     },
     "execution_count": 52,
     "metadata": {},
     "output_type": "execute_result"
    }
   ],
   "source": [
    "dados_v3.head()"
   ]
  },
  {
   "cell_type": "code",
   "execution_count": 53,
   "id": "7f7aca7f",
   "metadata": {},
   "outputs": [
    {
     "data": {
      "text/plain": [
       "<Axes: xlabel='smoking_status', ylabel='count'>"
      ]
     },
     "execution_count": 53,
     "metadata": {},
     "output_type": "execute_result"
    },
    {
     "data": {
      "image/png": "[encoded data removed]",
      "text/plain": [
       "<Figure size 640x480 with 1 Axes>"
      ]
     },
     "metadata": {},
     "output_type": "display_data"
    }
   ],
   "source": [
    "contagem_smoking_status = dados_v3['smoking_status'].value_counts().sort_values()\n",
    "sns.countplot(data = dados_v3, x = 'smoking_status', order = contagem_smoking_status.index)"
   ]
  },
  {
   "cell_type": "code",
   "execution_count": 54,
   "id": "baf11177",
   "metadata": {},
   "outputs": [
    {
     "name": "stdout",
     "output_type": "stream",
     "text": [
      "Quantidade de fumantes:  27349\n",
      "Quantidade de não fumantes:  32975\n"
     ]
    }
   ],
   "source": [
    "qtd_smoker = len(dados_v3.query('smoking_status != \"non-smoker\" and smoking_status != \"no-info\"'))\n",
    "print('Quantidade de fumantes: ', qtd_smoker)\n",
    "\n",
    "qtd_nonsmoker = len(dados_v3.query('smoking_status == \"non-smoker\"'))\n",
    "print('Quantidade de não fumantes: ', qtd_nonsmoker)"
   ]
  },
  {
   "cell_type": "code",
   "execution_count": 55,
   "id": "626fa3e9",
   "metadata": {},
   "outputs": [],
   "source": [
    "# Agora podemos remover a coluna 'smoker_history'\n",
    "\n",
    "dados_v4 = dados_v3.copy()\n",
    "dados_v4 = dados_v4.drop('smoking_history', axis = 1)"
   ]
  },
  {
   "cell_type": "code",
   "execution_count": 56,
   "id": "51b07553",
   "metadata": {},
   "outputs": [
    {
     "data": {
      "text/html": [
       "<div>\n",
       "<style scoped>\n",
       "    .dataframe tbody tr th:only-of-type {\n",
       "        vertical-align: middle;\n",
       "    }\n",
       "\n",
       "    .dataframe tbody tr th {\n",
       "        vertical-align: top;\n",
       "    }\n",
       "\n",
       "    .dataframe thead th {\n",
       "        text-align: right;\n",
       "    }\n",
       "</style>\n",
       "<table border=\"1\" class=\"dataframe\">\n",
       "  <thead>\n",
       "    <tr style=\"text-align: right;\">\n",
       "      <th></th>\n",
       "      <th>gender</th>\n",
       "      <th>age</th>\n",
       "      <th>hypertension</th>\n",
       "      <th>heart_disease</th>\n",
       "      <th>bmi</th>\n",
       "      <th>HbA1c_level</th>\n",
       "      <th>blood_glucose_level</th>\n",
       "      <th>diabetes</th>\n",
       "      <th>smoking_status</th>\n",
       "    </tr>\n",
       "  </thead>\n",
       "  <tbody>\n",
       "    <tr>\n",
       "      <th>0</th>\n",
       "      <td>Female</td>\n",
       "      <td>80.0</td>\n",
       "      <td>0</td>\n",
       "      <td>1</td>\n",
       "      <td>25.19</td>\n",
       "      <td>6.6</td>\n",
       "      <td>140</td>\n",
       "      <td>0</td>\n",
       "      <td>non-smoker</td>\n",
       "    </tr>\n",
       "    <tr>\n",
       "      <th>1</th>\n",
       "      <td>Female</td>\n",
       "      <td>54.0</td>\n",
       "      <td>0</td>\n",
       "      <td>0</td>\n",
       "      <td>27.32</td>\n",
       "      <td>6.6</td>\n",
       "      <td>80</td>\n",
       "      <td>0</td>\n",
       "      <td>no-info</td>\n",
       "    </tr>\n",
       "    <tr>\n",
       "      <th>2</th>\n",
       "      <td>Male</td>\n",
       "      <td>28.0</td>\n",
       "      <td>0</td>\n",
       "      <td>0</td>\n",
       "      <td>27.32</td>\n",
       "      <td>5.7</td>\n",
       "      <td>158</td>\n",
       "      <td>0</td>\n",
       "      <td>non-smoker</td>\n",
       "    </tr>\n",
       "    <tr>\n",
       "      <th>3</th>\n",
       "      <td>Female</td>\n",
       "      <td>36.0</td>\n",
       "      <td>0</td>\n",
       "      <td>0</td>\n",
       "      <td>23.45</td>\n",
       "      <td>5.0</td>\n",
       "      <td>155</td>\n",
       "      <td>0</td>\n",
       "      <td>smoker</td>\n",
       "    </tr>\n",
       "    <tr>\n",
       "      <th>4</th>\n",
       "      <td>Male</td>\n",
       "      <td>76.0</td>\n",
       "      <td>1</td>\n",
       "      <td>1</td>\n",
       "      <td>20.14</td>\n",
       "      <td>4.8</td>\n",
       "      <td>155</td>\n",
       "      <td>0</td>\n",
       "      <td>smoker</td>\n",
       "    </tr>\n",
       "  </tbody>\n",
       "</table>\n",
       "</div>"
      ],
      "text/plain": [
       "   gender   age hypertension heart_disease    bmi  HbA1c_level   \n",
       "0  Female  80.0            0             1  25.19          6.6  \\\n",
       "1  Female  54.0            0             0  27.32          6.6   \n",
       "2    Male  28.0            0             0  27.32          5.7   \n",
       "3  Female  36.0            0             0  23.45          5.0   \n",
       "4    Male  76.0            1             1  20.14          4.8   \n",
       "\n",
       "   blood_glucose_level  diabetes smoking_status  \n",
       "0                  140         0     non-smoker  \n",
       "1                   80         0        no-info  \n",
       "2                  158         0     non-smoker  \n",
       "3                  155         0         smoker  \n",
       "4                  155         0         smoker  "
      ]
     },
     "execution_count": 56,
     "metadata": {},
     "output_type": "execute_result"
    }
   ],
   "source": [
    "dados_v4.head()"
   ]
  },
  {
   "cell_type": "code",
   "execution_count": 57,
   "id": "12f45965",
   "metadata": {},
   "outputs": [
    {
     "data": {
      "text/plain": [
       "gender\n",
       "Female    54056\n",
       "Male      38468\n",
       "Name: count, dtype: int64"
      ]
     },
     "execution_count": 57,
     "metadata": {},
     "output_type": "execute_result"
    }
   ],
   "source": [
    "# Excluir registros com valor 'Others' na coluna gender\n",
    "dados_v4 = dados_v4.drop(dados_v4.loc[dados_v4['gender'] == 'Other'].index)\n",
    "\n",
    "dados_v4.gender.value_counts()"
   ]
  },
  {
   "cell_type": "code",
   "execution_count": 58,
   "id": "d2b84d37",
   "metadata": {},
   "outputs": [
    {
     "data": {
      "text/plain": [
       "smoking_status\n",
       "non-smoker    32972\n",
       "smoker        27340\n",
       "Name: count, dtype: int64"
      ]
     },
     "execution_count": 58,
     "metadata": {},
     "output_type": "execute_result"
    }
   ],
   "source": [
    "# Excluir registros com valor 'no-info' na coluna smoking_status\n",
    "dados_v4 = dados_v4.drop(dados_v4.loc[dados_v4['smoking_status'] == 'no-info'].index)\n",
    "\n",
    "dados_v4.smoking_status.value_counts()"
   ]
  },
  {
   "cell_type": "markdown",
   "id": "d5ae5627",
   "metadata": {},
   "source": [
    "### Pré-Processamento de dados"
   ]
  },
  {
   "cell_type": "markdown",
   "id": "f0c38492",
   "metadata": {},
   "source": [
    "#### Dividindo os dados de treino e teste"
   ]
  },
  {
   "cell_type": "code",
   "execution_count": 59,
   "id": "e7687619",
   "metadata": {},
   "outputs": [
    {
     "data": {
      "text/html": [
       "<div>\n",
       "<style scoped>\n",
       "    .dataframe tbody tr th:only-of-type {\n",
       "        vertical-align: middle;\n",
       "    }\n",
       "\n",
       "    .dataframe tbody tr th {\n",
       "        vertical-align: top;\n",
       "    }\n",
       "\n",
       "    .dataframe thead th {\n",
       "        text-align: right;\n",
       "    }\n",
       "</style>\n",
       "<table border=\"1\" class=\"dataframe\">\n",
       "  <thead>\n",
       "    <tr style=\"text-align: right;\">\n",
       "      <th></th>\n",
       "      <th>gender</th>\n",
       "      <th>age</th>\n",
       "      <th>hypertension</th>\n",
       "      <th>heart_disease</th>\n",
       "      <th>bmi</th>\n",
       "      <th>HbA1c_level</th>\n",
       "      <th>blood_glucose_level</th>\n",
       "      <th>diabetes</th>\n",
       "      <th>smoking_status</th>\n",
       "    </tr>\n",
       "  </thead>\n",
       "  <tbody>\n",
       "    <tr>\n",
       "      <th>75043</th>\n",
       "      <td>Female</td>\n",
       "      <td>27.0</td>\n",
       "      <td>0</td>\n",
       "      <td>0</td>\n",
       "      <td>28.44</td>\n",
       "      <td>5.0</td>\n",
       "      <td>126</td>\n",
       "      <td>0</td>\n",
       "      <td>non-smoker</td>\n",
       "    </tr>\n",
       "    <tr>\n",
       "      <th>34097</th>\n",
       "      <td>Male</td>\n",
       "      <td>80.0</td>\n",
       "      <td>0</td>\n",
       "      <td>0</td>\n",
       "      <td>27.32</td>\n",
       "      <td>3.5</td>\n",
       "      <td>159</td>\n",
       "      <td>0</td>\n",
       "      <td>smoker</td>\n",
       "    </tr>\n",
       "    <tr>\n",
       "      <th>19826</th>\n",
       "      <td>Male</td>\n",
       "      <td>18.0</td>\n",
       "      <td>0</td>\n",
       "      <td>0</td>\n",
       "      <td>25.25</td>\n",
       "      <td>6.2</td>\n",
       "      <td>100</td>\n",
       "      <td>0</td>\n",
       "      <td>smoker</td>\n",
       "    </tr>\n",
       "    <tr>\n",
       "      <th>39453</th>\n",
       "      <td>Male</td>\n",
       "      <td>63.0</td>\n",
       "      <td>0</td>\n",
       "      <td>0</td>\n",
       "      <td>24.96</td>\n",
       "      <td>6.2</td>\n",
       "      <td>126</td>\n",
       "      <td>0</td>\n",
       "      <td>smoker</td>\n",
       "    </tr>\n",
       "    <tr>\n",
       "      <th>8340</th>\n",
       "      <td>Female</td>\n",
       "      <td>35.0</td>\n",
       "      <td>0</td>\n",
       "      <td>0</td>\n",
       "      <td>22.05</td>\n",
       "      <td>6.5</td>\n",
       "      <td>145</td>\n",
       "      <td>0</td>\n",
       "      <td>non-smoker</td>\n",
       "    </tr>\n",
       "  </tbody>\n",
       "</table>\n",
       "</div>"
      ],
      "text/plain": [
       "       gender   age hypertension heart_disease    bmi  HbA1c_level   \n",
       "75043  Female  27.0            0             0  28.44          5.0  \\\n",
       "34097    Male  80.0            0             0  27.32          3.5   \n",
       "19826    Male  18.0            0             0  25.25          6.2   \n",
       "39453    Male  63.0            0             0  24.96          6.2   \n",
       "8340   Female  35.0            0             0  22.05          6.5   \n",
       "\n",
       "       blood_glucose_level  diabetes smoking_status  \n",
       "75043                  126         0     non-smoker  \n",
       "34097                  159         0         smoker  \n",
       "19826                  100         0         smoker  \n",
       "39453                  126         0         smoker  \n",
       "8340                   145         0     non-smoker  "
      ]
     },
     "execution_count": 59,
     "metadata": {},
     "output_type": "execute_result"
    }
   ],
   "source": [
    "dados_v5 = dados_v4.copy()\n",
    "dados_v5.sample(5)"
   ]
  },
  {
   "cell_type": "code",
   "execution_count": 60,
   "id": "9c692bcd",
   "metadata": {},
   "outputs": [
    {
     "data": {
      "text/html": [
       "<div>\n",
       "<style scoped>\n",
       "    .dataframe tbody tr th:only-of-type {\n",
       "        vertical-align: middle;\n",
       "    }\n",
       "\n",
       "    .dataframe tbody tr th {\n",
       "        vertical-align: top;\n",
       "    }\n",
       "\n",
       "    .dataframe thead th {\n",
       "        text-align: right;\n",
       "    }\n",
       "</style>\n",
       "<table border=\"1\" class=\"dataframe\">\n",
       "  <thead>\n",
       "    <tr style=\"text-align: right;\">\n",
       "      <th></th>\n",
       "      <th>gender</th>\n",
       "      <th>age</th>\n",
       "      <th>hypertension</th>\n",
       "      <th>heart_disease</th>\n",
       "      <th>bmi</th>\n",
       "      <th>HbA1c_level</th>\n",
       "      <th>blood_glucose_level</th>\n",
       "      <th>smoking_status</th>\n",
       "    </tr>\n",
       "  </thead>\n",
       "  <tbody>\n",
       "    <tr>\n",
       "      <th>0</th>\n",
       "      <td>Female</td>\n",
       "      <td>80.0</td>\n",
       "      <td>0</td>\n",
       "      <td>1</td>\n",
       "      <td>25.19</td>\n",
       "      <td>6.6</td>\n",
       "      <td>140</td>\n",
       "      <td>non-smoker</td>\n",
       "    </tr>\n",
       "    <tr>\n",
       "      <th>2</th>\n",
       "      <td>Male</td>\n",
       "      <td>28.0</td>\n",
       "      <td>0</td>\n",
       "      <td>0</td>\n",
       "      <td>27.32</td>\n",
       "      <td>5.7</td>\n",
       "      <td>158</td>\n",
       "      <td>non-smoker</td>\n",
       "    </tr>\n",
       "    <tr>\n",
       "      <th>3</th>\n",
       "      <td>Female</td>\n",
       "      <td>36.0</td>\n",
       "      <td>0</td>\n",
       "      <td>0</td>\n",
       "      <td>23.45</td>\n",
       "      <td>5.0</td>\n",
       "      <td>155</td>\n",
       "      <td>smoker</td>\n",
       "    </tr>\n",
       "    <tr>\n",
       "      <th>4</th>\n",
       "      <td>Male</td>\n",
       "      <td>76.0</td>\n",
       "      <td>1</td>\n",
       "      <td>1</td>\n",
       "      <td>20.14</td>\n",
       "      <td>4.8</td>\n",
       "      <td>155</td>\n",
       "      <td>smoker</td>\n",
       "    </tr>\n",
       "    <tr>\n",
       "      <th>5</th>\n",
       "      <td>Female</td>\n",
       "      <td>20.0</td>\n",
       "      <td>0</td>\n",
       "      <td>0</td>\n",
       "      <td>27.32</td>\n",
       "      <td>6.6</td>\n",
       "      <td>85</td>\n",
       "      <td>non-smoker</td>\n",
       "    </tr>\n",
       "  </tbody>\n",
       "</table>\n",
       "</div>"
      ],
      "text/plain": [
       "   gender   age hypertension heart_disease    bmi  HbA1c_level   \n",
       "0  Female  80.0            0             1  25.19          6.6  \\\n",
       "2    Male  28.0            0             0  27.32          5.7   \n",
       "3  Female  36.0            0             0  23.45          5.0   \n",
       "4    Male  76.0            1             1  20.14          4.8   \n",
       "5  Female  20.0            0             0  27.32          6.6   \n",
       "\n",
       "   blood_glucose_level smoking_status  \n",
       "0                  140     non-smoker  \n",
       "2                  158     non-smoker  \n",
       "3                  155         smoker  \n",
       "4                  155         smoker  \n",
       "5                   85     non-smoker  "
      ]
     },
     "execution_count": 60,
     "metadata": {},
     "output_type": "execute_result"
    }
   ],
   "source": [
    "# Variáveis independentes\n",
    "x = dados_v5.drop('diabetes', axis = 1)\n",
    "x.head()"
   ]
  },
  {
   "cell_type": "code",
   "execution_count": 61,
   "id": "c3d2506b",
   "metadata": {},
   "outputs": [
    {
     "data": {
      "text/plain": [
       "0    0\n",
       "2    0\n",
       "3    0\n",
       "4    0\n",
       "5    0\n",
       "Name: diabetes, dtype: int64"
      ]
     },
     "execution_count": 61,
     "metadata": {},
     "output_type": "execute_result"
    }
   ],
   "source": [
    "# Variáveis depentes\n",
    "y = dados_v5.diabetes\n",
    "y.head()"
   ]
  },
  {
   "cell_type": "code",
   "execution_count": 62,
   "id": "296c79f5",
   "metadata": {},
   "outputs": [],
   "source": [
    "# 70% para treino e 30% para teste\n",
    "x_train, x_test, y_train, y_test = train_test_split(x,\n",
    "                                                    y,\n",
    "                                                    test_size = 0.3,\n",
    "                                                    random_state = 1234,\n",
    "                                                    stratify = dados_v5.diabetes)"
   ]
  },
  {
   "cell_type": "code",
   "execution_count": 63,
   "id": "70cda77d",
   "metadata": {},
   "outputs": [
    {
     "data": {
      "text/plain": [
       "42218"
      ]
     },
     "execution_count": 63,
     "metadata": {},
     "output_type": "execute_result"
    }
   ],
   "source": [
    "len(x_train)"
   ]
  },
  {
   "cell_type": "code",
   "execution_count": 64,
   "id": "560eabf5",
   "metadata": {},
   "outputs": [
    {
     "data": {
      "text/plain": [
       "42218"
      ]
     },
     "execution_count": 64,
     "metadata": {},
     "output_type": "execute_result"
    }
   ],
   "source": [
    "len(y_train)"
   ]
  },
  {
   "cell_type": "code",
   "execution_count": 65,
   "id": "7669e5e3",
   "metadata": {},
   "outputs": [
    {
     "data": {
      "text/html": [
       "<div>\n",
       "<style scoped>\n",
       "    .dataframe tbody tr th:only-of-type {\n",
       "        vertical-align: middle;\n",
       "    }\n",
       "\n",
       "    .dataframe tbody tr th {\n",
       "        vertical-align: top;\n",
       "    }\n",
       "\n",
       "    .dataframe thead th {\n",
       "        text-align: right;\n",
       "    }\n",
       "</style>\n",
       "<table border=\"1\" class=\"dataframe\">\n",
       "  <thead>\n",
       "    <tr style=\"text-align: right;\">\n",
       "      <th></th>\n",
       "      <th>gender</th>\n",
       "      <th>age</th>\n",
       "      <th>hypertension</th>\n",
       "      <th>heart_disease</th>\n",
       "      <th>bmi</th>\n",
       "      <th>HbA1c_level</th>\n",
       "      <th>blood_glucose_level</th>\n",
       "      <th>diabetes</th>\n",
       "      <th>smoking_status</th>\n",
       "    </tr>\n",
       "  </thead>\n",
       "  <tbody>\n",
       "    <tr>\n",
       "      <th>0</th>\n",
       "      <td>Female</td>\n",
       "      <td>80.0</td>\n",
       "      <td>0</td>\n",
       "      <td>1</td>\n",
       "      <td>25.19</td>\n",
       "      <td>6.6</td>\n",
       "      <td>140</td>\n",
       "      <td>0</td>\n",
       "      <td>non-smoker</td>\n",
       "    </tr>\n",
       "    <tr>\n",
       "      <th>2</th>\n",
       "      <td>Male</td>\n",
       "      <td>28.0</td>\n",
       "      <td>0</td>\n",
       "      <td>0</td>\n",
       "      <td>27.32</td>\n",
       "      <td>5.7</td>\n",
       "      <td>158</td>\n",
       "      <td>0</td>\n",
       "      <td>non-smoker</td>\n",
       "    </tr>\n",
       "    <tr>\n",
       "      <th>3</th>\n",
       "      <td>Female</td>\n",
       "      <td>36.0</td>\n",
       "      <td>0</td>\n",
       "      <td>0</td>\n",
       "      <td>23.45</td>\n",
       "      <td>5.0</td>\n",
       "      <td>155</td>\n",
       "      <td>0</td>\n",
       "      <td>smoker</td>\n",
       "    </tr>\n",
       "    <tr>\n",
       "      <th>4</th>\n",
       "      <td>Male</td>\n",
       "      <td>76.0</td>\n",
       "      <td>1</td>\n",
       "      <td>1</td>\n",
       "      <td>20.14</td>\n",
       "      <td>4.8</td>\n",
       "      <td>155</td>\n",
       "      <td>0</td>\n",
       "      <td>smoker</td>\n",
       "    </tr>\n",
       "    <tr>\n",
       "      <th>5</th>\n",
       "      <td>Female</td>\n",
       "      <td>20.0</td>\n",
       "      <td>0</td>\n",
       "      <td>0</td>\n",
       "      <td>27.32</td>\n",
       "      <td>6.6</td>\n",
       "      <td>85</td>\n",
       "      <td>0</td>\n",
       "      <td>non-smoker</td>\n",
       "    </tr>\n",
       "  </tbody>\n",
       "</table>\n",
       "</div>"
      ],
      "text/plain": [
       "   gender   age hypertension heart_disease    bmi  HbA1c_level   \n",
       "0  Female  80.0            0             1  25.19          6.6  \\\n",
       "2    Male  28.0            0             0  27.32          5.7   \n",
       "3  Female  36.0            0             0  23.45          5.0   \n",
       "4    Male  76.0            1             1  20.14          4.8   \n",
       "5  Female  20.0            0             0  27.32          6.6   \n",
       "\n",
       "   blood_glucose_level  diabetes smoking_status  \n",
       "0                  140         0     non-smoker  \n",
       "2                  158         0     non-smoker  \n",
       "3                  155         0         smoker  \n",
       "4                  155         0         smoker  \n",
       "5                   85         0     non-smoker  "
      ]
     },
     "execution_count": 65,
     "metadata": {},
     "output_type": "execute_result"
    }
   ],
   "source": [
    "dados_v5.head()"
   ]
  },
  {
   "cell_type": "code",
   "execution_count": 66,
   "id": "060ea727",
   "metadata": {},
   "outputs": [
    {
     "data": {
      "text/plain": [
       "smoking_status\n",
       "non-smoker    32972\n",
       "smoker        27340\n",
       "Name: count, dtype: int64"
      ]
     },
     "execution_count": 66,
     "metadata": {},
     "output_type": "execute_result"
    }
   ],
   "source": [
    "dados_v5.smoking_status.value_counts()"
   ]
  },
  {
   "cell_type": "markdown",
   "id": "5d69cd11",
   "metadata": {},
   "source": [
    "#### Label Encoding\n",
    "\n",
    "é  uma  técnica  de  codificação para  lidar  comvariáveis categóricas. Nesta técnica, a cada rótulo é atribuído um número inteiro exclusivo com base na ordem alfabética.\n",
    "\n",
    "Na  codificação  de  rótulos  em  Python,  substituímos  o  valor  categórico  por  um  valor numérico entre 0 e o número de classes menos 1. Se ovalor da variável categórica contiver 5 classes distintasusamos (0, 1, 2, 3 e 4).Observe que os dados são modificados, mas sem perder a informação que eles representam."
   ]
  },
  {
   "cell_type": "code",
   "execution_count": 67,
   "id": "d50cfb40",
   "metadata": {},
   "outputs": [],
   "source": [
    "# Cria o objeto\n",
    "label_encoder = LabelEncoder()"
   ]
  },
  {
   "cell_type": "code",
   "execution_count": 68,
   "id": "3d5990a1",
   "metadata": {},
   "outputs": [],
   "source": [
    "x_train_encoder = x_train.copy()\n",
    "x_test_encoder = x_test.copy()"
   ]
  },
  {
   "cell_type": "code",
   "execution_count": 69,
   "id": "c88cc7d0",
   "metadata": {},
   "outputs": [],
   "source": [
    "# Aplica o fit nos dados de treino, apenas nas colunas categóricas\n",
    "# gender e smoking_status\n",
    "\n",
    "col_label_encoder = ['gender', 'smoking_status']\n",
    "for col_le in col_label_encoder:\n",
    "    x_train_encoder[col_le] = label_encoder.fit_transform(x_train[col_le])"
   ]
  },
  {
   "cell_type": "code",
   "execution_count": 70,
   "id": "f3bf72c3",
   "metadata": {},
   "outputs": [],
   "source": [
    "# Aplica o fit nos dados de teste, apenas nas colunas categóricas\n",
    "# gender e smoking_status\n",
    "for col_le2 in col_label_encoder:\n",
    "    x_test_encoder[col_le2] = label_encoder.fit_transform(x_test[col_le2])"
   ]
  },
  {
   "cell_type": "code",
   "execution_count": 71,
   "id": "a499b346",
   "metadata": {},
   "outputs": [
    {
     "name": "stdout",
     "output_type": "stream",
     "text": [
      "smoking_status\n",
      "0    23102\n",
      "1    19116\n",
      "Name: count, dtype: int64\n",
      "\n",
      "--------------------------------------------------\n",
      "gender\n",
      "0    25632\n",
      "1    16586\n",
      "Name: count, dtype: int64\n"
     ]
    }
   ],
   "source": [
    "# non-smoker = 1 pois vem em segundo em ordem alfabética\n",
    "# no-info = 0 pois vem primeiro em ordem alfabetica\n",
    "# smoker = 2 pois vem em terceiro em ordem alfabética\n",
    "\n",
    "print(x_train_encoder['smoking_status'].value_counts())\n",
    "\n",
    "print()\n",
    "print(50*'-')\n",
    "\n",
    "\n",
    "\n",
    "# Female = 0\n",
    "# Male = 1\n",
    "\n",
    "print(x_train_encoder['gender'].value_counts())"
   ]
  },
  {
   "cell_type": "code",
   "execution_count": 72,
   "id": "05c3424f",
   "metadata": {},
   "outputs": [
    {
     "name": "stdout",
     "output_type": "stream",
     "text": [
      "smoking_status\n",
      "0    9870\n",
      "1    8224\n",
      "Name: count, dtype: int64\n",
      "\n",
      "--------------------------------------------------\n",
      "gender\n",
      "0    10834\n",
      "1     7260\n",
      "Name: count, dtype: int64\n"
     ]
    }
   ],
   "source": [
    "# non-smoker = 1 pois vem em segundo em ordem alfabética\n",
    "# no-info = 0 pois vem primeiro em ordem alfabetica\n",
    "# smoker = 2 pois vem em terceiro em ordem alfabética\n",
    "\n",
    "print(x_test_encoder['smoking_status'].value_counts())\n",
    "\n",
    "print()\n",
    "print(50*'-')\n",
    "\n",
    "\n",
    "\n",
    "# Female = 0\n",
    "# Male = 1\n",
    "# Other = 2\n",
    "\n",
    "print(x_test_encoder['gender'].value_counts())"
   ]
  },
  {
   "cell_type": "markdown",
   "id": "1ced3779",
   "metadata": {},
   "source": [
    "#### Balanceamento de classe\n",
    "\n",
    "Vamos aplicar o SMOTE para Oversampling, a fim de aumentar a classe minoritária"
   ]
  },
  {
   "cell_type": "code",
   "execution_count": 73,
   "id": "9cc1c276",
   "metadata": {},
   "outputs": [
    {
     "data": {
      "text/plain": [
       "diabetes\n",
       "0    38877\n",
       "1     3341\n",
       "Name: count, dtype: int64"
      ]
     },
     "execution_count": 73,
     "metadata": {},
     "output_type": "execute_result"
    }
   ],
   "source": [
    "y_train.value_counts()"
   ]
  },
  {
   "cell_type": "code",
   "execution_count": 74,
   "id": "ee461afc",
   "metadata": {},
   "outputs": [],
   "source": [
    "# Cria o objeto\n",
    "# O k_neighbors usado para controlar o número de vizinhos mais próximos considerados durante a geração de amostras sintéticas.\n",
    "# Ele determina quantos vizinhos devem ser examinados para cada amostra da classe minoritária durante o processo de oversampling.\n",
    "oversampling_smote = SMOTE(k_neighbors = 2)"
   ]
  },
  {
   "cell_type": "code",
   "execution_count": 75,
   "id": "cf4a5fef",
   "metadata": {},
   "outputs": [],
   "source": [
    "# aplicamos o fit nos dados de treino\n",
    "x_train_smote, y_train_smote = oversampling_smote.fit_resample(x_train_encoder, y_train)"
   ]
  },
  {
   "cell_type": "code",
   "execution_count": 76,
   "id": "3fdd6f95",
   "metadata": {},
   "outputs": [
    {
     "data": {
      "text/plain": [
       "77754"
      ]
     },
     "execution_count": 76,
     "metadata": {},
     "output_type": "execute_result"
    }
   ],
   "source": [
    "len(x_train_smote)"
   ]
  },
  {
   "cell_type": "code",
   "execution_count": 77,
   "id": "3229b482",
   "metadata": {},
   "outputs": [
    {
     "data": {
      "text/plain": [
       "77754"
      ]
     },
     "execution_count": 77,
     "metadata": {},
     "output_type": "execute_result"
    }
   ],
   "source": [
    "len(y_train_smote)"
   ]
  },
  {
   "cell_type": "code",
   "execution_count": 78,
   "id": "820ab18c",
   "metadata": {},
   "outputs": [],
   "source": [
    "# Voltamos os nomes dos variáveis para x_train e y_train\n",
    "x_train = x_train_smote\n",
    "y_train = y_train_smote\n",
    "\n",
    "x_test = x_test_encoder"
   ]
  },
  {
   "cell_type": "code",
   "execution_count": 79,
   "id": "9e772586",
   "metadata": {},
   "outputs": [
    {
     "data": {
      "text/plain": [
       "77754"
      ]
     },
     "execution_count": 79,
     "metadata": {},
     "output_type": "execute_result"
    }
   ],
   "source": [
    "len(x_train)"
   ]
  },
  {
   "cell_type": "code",
   "execution_count": 80,
   "id": "3d23c886",
   "metadata": {},
   "outputs": [
    {
     "data": {
      "text/plain": [
       "77754"
      ]
     },
     "execution_count": 80,
     "metadata": {},
     "output_type": "execute_result"
    }
   ],
   "source": [
    "len(y_train)"
   ]
  },
  {
   "cell_type": "code",
   "execution_count": 81,
   "id": "b568e022",
   "metadata": {},
   "outputs": [
    {
     "data": {
      "text/plain": [
       "diabetes\n",
       "0    38877\n",
       "1    38877\n",
       "Name: count, dtype: int64"
      ]
     },
     "execution_count": 81,
     "metadata": {},
     "output_type": "execute_result"
    }
   ],
   "source": [
    "y_train.value_counts()"
   ]
  },
  {
   "attachments": {
    "image.png": {
     "image/png": "[encoded data removed]"
    }
   },
   "cell_type": "markdown",
   "id": "efde67e8",
   "metadata": {},
   "source": [
    "#### Padronização dos dados\n",
    "\n",
    "A técnica de padronização é usada para centralizar as colunas de recursos na média 0 com um desvio padrão de 1 para que as colunas de recursos tenham os mesmos parâmetros de uma distribuição normal padrão. \n",
    "\n",
    "![image.png](attachment:image.png)\n",
    "\n",
    "Exemplo, caso quiséssemos fazer \"na unha\"\n",
    "\n",
    "\n",
    "train_mean = x_train.mean()\n",
    "\n",
    "train_std = x_train.std()\n",
    "\n",
    "\n",
    "x_train = (x_train - train_mean ) / train_std\n",
    "x_train.head()"
   ]
  },
  {
   "cell_type": "code",
   "execution_count": 82,
   "id": "fd107aad",
   "metadata": {},
   "outputs": [],
   "source": [
    "scaler = StandardScaler()"
   ]
  },
  {
   "cell_type": "code",
   "execution_count": 83,
   "id": "dd7abcad",
   "metadata": {},
   "outputs": [],
   "source": [
    "# dados de treinamento\n",
    "x_train_scaled = scaler.fit_transform(x_train)"
   ]
  },
  {
   "cell_type": "code",
   "execution_count": 84,
   "id": "d8aafd11",
   "metadata": {},
   "outputs": [],
   "source": [
    "# dados de treinamento\n",
    "x_test_scaled = scaler.transform(x_test_encoder)"
   ]
  },
  {
   "cell_type": "code",
   "execution_count": 85,
   "id": "36669dcb",
   "metadata": {},
   "outputs": [],
   "source": [
    "x_train = x_train_scaled\n",
    "x_test = x_test_scaled"
   ]
  },
  {
   "cell_type": "markdown",
   "id": "ca6e5479",
   "metadata": {},
   "source": [
    "### Construção e Avaliação do Modelo 1 - Regressão Logística (Benchmark)\n",
    "\n",
    "Definição de Hiperparâmetros:\n",
    "\n",
    "Regularização (penalidade): A regressão logística pode usar regularização L1 ou L2 para lidar com a multicolinearidade e evitar overfitting. Experimente diferentes valores de regularização e veja qual funciona melhor para o seu conjunto de dados.\n",
    "\n",
    "Taxa de aprendizado (learning rate): A taxa de aprendizado determina o tamanho dos passos que o algoritmo de otimização dá durante o treinamento. Valores muito altos podem fazer com que o algoritmo não converja, enquanto valores muito baixos podem levar a um treinamento lento. Experimente diferentes valores, como 0,1, 0,01 ou 0,001."
   ]
  },
  {
   "cell_type": "code",
   "execution_count": 86,
   "id": "c20a44bd",
   "metadata": {},
   "outputs": [],
   "source": [
    "# Define lista de hiperparâmetros\n",
    "param_v1 = {'C': [0.0001, 0.001, 0.01, 0.1, 1, 10, 100, 1000, 10000], \n",
    "                   'penalty': ['l1', 'l2']}"
   ]
  },
  {
   "cell_type": "code",
   "execution_count": 87,
   "id": "6d5734ae",
   "metadata": {},
   "outputs": [],
   "source": [
    "# GridSearchCV Utilizada para encontrar a combinação ótima de hiperparâmetros para um modelo de aprendizado de máquina. \n",
    "# É uma forma sistemática de busca em grade, onde você especifica um conjunto de valores possíveis para cada hiperparâmetro \n",
    "# e o GridSearchCV avalia o desempenho do modelo para todas as combinações possíveis desses valores.\n",
    "model_1 = GridSearchCV(LogisticRegression(),\n",
    "                       param_v1,\n",
    "                       scoring = 'roc_auc',\n",
    "                       n_jobs = -1)"
   ]
  },
  {
   "cell_type": "code",
   "execution_count": 88,
   "id": "9d716110",
   "metadata": {},
   "outputs": [
    {
     "data": {
      "text/html": [
       "<style>#sk-container-id-1 {color: black;background-color: white;}#sk-container-id-1 pre{padding: 0;}#sk-container-id-1 div.sk-toggleable {background-color: white;}#sk-container-id-1 label.sk-toggleable__label {cursor: pointer;display: block;width: 100%;margin-bottom: 0;padding: 0.3em;box-sizing: border-box;text-align: center;}#sk-container-id-1 label.sk-toggleable__label-arrow:before {content: \"▸\";float: left;margin-right: 0.25em;color: #696969;}#sk-container-id-1 label.sk-toggleable__label-arrow:hover:before {color: black;}#sk-container-id-1 div.sk-estimator:hover label.sk-toggleable__label-arrow:before {color: black;}#sk-container-id-1 div.sk-toggleable__content {max-height: 0;max-width: 0;overflow: hidden;text-align: left;background-color: #f0f8ff;}#sk-container-id-1 div.sk-toggleable__content pre {margin: 0.2em;color: black;border-radius: 0.25em;background-color: #f0f8ff;}#sk-container-id-1 input.sk-toggleable__control:checked~div.sk-toggleable__content {max-height: 200px;max-width: 100%;overflow: auto;}#sk-container-id-1 input.sk-toggleable__control:checked~label.sk-toggleable__label-arrow:before {content: \"▾\";}#sk-container-id-1 div.sk-estimator input.sk-toggleable__control:checked~label.sk-toggleable__label {background-color: #d4ebff;}#sk-container-id-1 div.sk-label input.sk-toggleable__control:checked~label.sk-toggleable__label {background-color: #d4ebff;}#sk-container-id-1 input.sk-hidden--visually {border: 0;clip: rect(1px 1px 1px 1px);clip: rect(1px, 1px, 1px, 1px);height: 1px;margin: -1px;overflow: hidden;padding: 0;position: absolute;width: 1px;}#sk-container-id-1 div.sk-estimator {font-family: monospace;background-color: #f0f8ff;border: 1px dotted black;border-radius: 0.25em;box-sizing: border-box;margin-bottom: 0.5em;}#sk-container-id-1 div.sk-estimator:hover {background-color: #d4ebff;}#sk-container-id-1 div.sk-parallel-item::after {content: \"\";width: 100%;border-bottom: 1px solid gray;flex-grow: 1;}#sk-container-id-1 div.sk-label:hover label.sk-toggleable__label {background-color: #d4ebff;}#sk-container-id-1 div.sk-serial::before {content: \"\";position: absolute;border-left: 1px solid gray;box-sizing: border-box;top: 0;bottom: 0;left: 50%;z-index: 0;}#sk-container-id-1 div.sk-serial {display: flex;flex-direction: column;align-items: center;background-color: white;padding-right: 0.2em;padding-left: 0.2em;position: relative;}#sk-container-id-1 div.sk-item {position: relative;z-index: 1;}#sk-container-id-1 div.sk-parallel {display: flex;align-items: stretch;justify-content: center;background-color: white;position: relative;}#sk-container-id-1 div.sk-item::before, #sk-container-id-1 div.sk-parallel-item::before {content: \"\";position: absolute;border-left: 1px solid gray;box-sizing: border-box;top: 0;bottom: 0;left: 50%;z-index: -1;}#sk-container-id-1 div.sk-parallel-item {display: flex;flex-direction: column;z-index: 1;position: relative;background-color: white;}#sk-container-id-1 div.sk-parallel-item:first-child::after {align-self: flex-end;width: 50%;}#sk-container-id-1 div.sk-parallel-item:last-child::after {align-self: flex-start;width: 50%;}#sk-container-id-1 div.sk-parallel-item:only-child::after {width: 0;}#sk-container-id-1 div.sk-dashed-wrapped {border: 1px dashed gray;margin: 0 0.4em 0.5em 0.4em;box-sizing: border-box;padding-bottom: 0.4em;background-color: white;}#sk-container-id-1 div.sk-label label {font-family: monospace;font-weight: bold;display: inline-block;line-height: 1.2em;}#sk-container-id-1 div.sk-label-container {text-align: center;}#sk-container-id-1 div.sk-container {/* jupyter's `normalize.less` sets `[hidden] { display: none; }` but bootstrap.min.css set `[hidden] { display: none !important; }` so we also need the `!important` here to be able to override the default hidden behavior on the sphinx rendered scikit-learn.org. See: https://github.com/scikit-learn/scikit-learn/issues/21755 */display: inline-block !important;position: relative;}#sk-container-id-1 div.sk-text-repr-fallback {display: none;}</style><div id=\"sk-container-id-1\" class=\"sk-top-container\"><div class=\"sk-text-repr-fallback\"><pre>GridSearchCV(estimator=LogisticRegression(), n_jobs=-1,\n",
       "             param_grid={&#x27;C&#x27;: [0.0001, 0.001, 0.01, 0.1, 1, 10, 100, 1000,\n",
       "                               10000],\n",
       "                         &#x27;penalty&#x27;: [&#x27;l1&#x27;, &#x27;l2&#x27;]},\n",
       "             scoring=&#x27;roc_auc&#x27;)</pre><b>In a Jupyter environment, please rerun this cell to show the HTML representation or trust the notebook. <br />On GitHub, the HTML representation is unable to render, please try loading this page with nbviewer.org.</b></div><div class=\"sk-container\" hidden><div class=\"sk-item sk-dashed-wrapped\"><div class=\"sk-label-container\"><div class=\"sk-label sk-toggleable\"><input class=\"sk-toggleable__control sk-hidden--visually\" id=\"sk-estimator-id-1\" type=\"checkbox\" ><label for=\"sk-estimator-id-1\" class=\"sk-toggleable__label sk-toggleable__label-arrow\">GridSearchCV</label><div class=\"sk-toggleable__content\"><pre>GridSearchCV(estimator=LogisticRegression(), n_jobs=-1,\n",
       "             param_grid={&#x27;C&#x27;: [0.0001, 0.001, 0.01, 0.1, 1, 10, 100, 1000,\n",
       "                               10000],\n",
       "                         &#x27;penalty&#x27;: [&#x27;l1&#x27;, &#x27;l2&#x27;]},\n",
       "             scoring=&#x27;roc_auc&#x27;)</pre></div></div></div><div class=\"sk-parallel\"><div class=\"sk-parallel-item\"><div class=\"sk-item\"><div class=\"sk-label-container\"><div class=\"sk-label sk-toggleable\"><input class=\"sk-toggleable__control sk-hidden--visually\" id=\"sk-estimator-id-2\" type=\"checkbox\" ><label for=\"sk-estimator-id-2\" class=\"sk-toggleable__label sk-toggleable__label-arrow\">estimator: LogisticRegression</label><div class=\"sk-toggleable__content\"><pre>LogisticRegression()</pre></div></div></div><div class=\"sk-serial\"><div class=\"sk-item\"><div class=\"sk-estimator sk-toggleable\"><input class=\"sk-toggleable__control sk-hidden--visually\" id=\"sk-estimator-id-3\" type=\"checkbox\" ><label for=\"sk-estimator-id-3\" class=\"sk-toggleable__label sk-toggleable__label-arrow\">LogisticRegression</label><div class=\"sk-toggleable__content\"><pre>LogisticRegression()</pre></div></div></div></div></div></div></div></div></div></div>"
      ],
      "text/plain": [
       "GridSearchCV(estimator=LogisticRegression(), n_jobs=-1,\n",
       "             param_grid={'C': [0.0001, 0.001, 0.01, 0.1, 1, 10, 100, 1000,\n",
       "                               10000],\n",
       "                         'penalty': ['l1', 'l2']},\n",
       "             scoring='roc_auc')"
      ]
     },
     "execution_count": 88,
     "metadata": {},
     "output_type": "execute_result"
    }
   ],
   "source": [
    "# Treinamento do modelo\n",
    "\n",
    "model_1.fit(x_train, y_train)"
   ]
  },
  {
   "cell_type": "code",
   "execution_count": 89,
   "id": "aa350f0c",
   "metadata": {},
   "outputs": [
    {
     "data": {
      "text/html": [
       "<style>#sk-container-id-2 {color: black;background-color: white;}#sk-container-id-2 pre{padding: 0;}#sk-container-id-2 div.sk-toggleable {background-color: white;}#sk-container-id-2 label.sk-toggleable__label {cursor: pointer;display: block;width: 100%;margin-bottom: 0;padding: 0.3em;box-sizing: border-box;text-align: center;}#sk-container-id-2 label.sk-toggleable__label-arrow:before {content: \"▸\";float: left;margin-right: 0.25em;color: #696969;}#sk-container-id-2 label.sk-toggleable__label-arrow:hover:before {color: black;}#sk-container-id-2 div.sk-estimator:hover label.sk-toggleable__label-arrow:before {color: black;}#sk-container-id-2 div.sk-toggleable__content {max-height: 0;max-width: 0;overflow: hidden;text-align: left;background-color: #f0f8ff;}#sk-container-id-2 div.sk-toggleable__content pre {margin: 0.2em;color: black;border-radius: 0.25em;background-color: #f0f8ff;}#sk-container-id-2 input.sk-toggleable__control:checked~div.sk-toggleable__content {max-height: 200px;max-width: 100%;overflow: auto;}#sk-container-id-2 input.sk-toggleable__control:checked~label.sk-toggleable__label-arrow:before {content: \"▾\";}#sk-container-id-2 div.sk-estimator input.sk-toggleable__control:checked~label.sk-toggleable__label {background-color: #d4ebff;}#sk-container-id-2 div.sk-label input.sk-toggleable__control:checked~label.sk-toggleable__label {background-color: #d4ebff;}#sk-container-id-2 input.sk-hidden--visually {border: 0;clip: rect(1px 1px 1px 1px);clip: rect(1px, 1px, 1px, 1px);height: 1px;margin: -1px;overflow: hidden;padding: 0;position: absolute;width: 1px;}#sk-container-id-2 div.sk-estimator {font-family: monospace;background-color: #f0f8ff;border: 1px dotted black;border-radius: 0.25em;box-sizing: border-box;margin-bottom: 0.5em;}#sk-container-id-2 div.sk-estimator:hover {background-color: #d4ebff;}#sk-container-id-2 div.sk-parallel-item::after {content: \"\";width: 100%;border-bottom: 1px solid gray;flex-grow: 1;}#sk-container-id-2 div.sk-label:hover label.sk-toggleable__label {background-color: #d4ebff;}#sk-container-id-2 div.sk-serial::before {content: \"\";position: absolute;border-left: 1px solid gray;box-sizing: border-box;top: 0;bottom: 0;left: 50%;z-index: 0;}#sk-container-id-2 div.sk-serial {display: flex;flex-direction: column;align-items: center;background-color: white;padding-right: 0.2em;padding-left: 0.2em;position: relative;}#sk-container-id-2 div.sk-item {position: relative;z-index: 1;}#sk-container-id-2 div.sk-parallel {display: flex;align-items: stretch;justify-content: center;background-color: white;position: relative;}#sk-container-id-2 div.sk-item::before, #sk-container-id-2 div.sk-parallel-item::before {content: \"\";position: absolute;border-left: 1px solid gray;box-sizing: border-box;top: 0;bottom: 0;left: 50%;z-index: -1;}#sk-container-id-2 div.sk-parallel-item {display: flex;flex-direction: column;z-index: 1;position: relative;background-color: white;}#sk-container-id-2 div.sk-parallel-item:first-child::after {align-self: flex-end;width: 50%;}#sk-container-id-2 div.sk-parallel-item:last-child::after {align-self: flex-start;width: 50%;}#sk-container-id-2 div.sk-parallel-item:only-child::after {width: 0;}#sk-container-id-2 div.sk-dashed-wrapped {border: 1px dashed gray;margin: 0 0.4em 0.5em 0.4em;box-sizing: border-box;padding-bottom: 0.4em;background-color: white;}#sk-container-id-2 div.sk-label label {font-family: monospace;font-weight: bold;display: inline-block;line-height: 1.2em;}#sk-container-id-2 div.sk-label-container {text-align: center;}#sk-container-id-2 div.sk-container {/* jupyter's `normalize.less` sets `[hidden] { display: none; }` but bootstrap.min.css set `[hidden] { display: none !important; }` so we also need the `!important` here to be able to override the default hidden behavior on the sphinx rendered scikit-learn.org. See: https://github.com/scikit-learn/scikit-learn/issues/21755 */display: inline-block !important;position: relative;}#sk-container-id-2 div.sk-text-repr-fallback {display: none;}</style><div id=\"sk-container-id-2\" class=\"sk-top-container\"><div class=\"sk-text-repr-fallback\"><pre>LogisticRegression(C=0.01)</pre><b>In a Jupyter environment, please rerun this cell to show the HTML representation or trust the notebook. <br />On GitHub, the HTML representation is unable to render, please try loading this page with nbviewer.org.</b></div><div class=\"sk-container\" hidden><div class=\"sk-item\"><div class=\"sk-estimator sk-toggleable\"><input class=\"sk-toggleable__control sk-hidden--visually\" id=\"sk-estimator-id-4\" type=\"checkbox\" checked><label for=\"sk-estimator-id-4\" class=\"sk-toggleable__label sk-toggleable__label-arrow\">LogisticRegression</label><div class=\"sk-toggleable__content\"><pre>LogisticRegression(C=0.01)</pre></div></div></div></div></div>"
      ],
      "text/plain": [
       "LogisticRegression(C=0.01)"
      ]
     },
     "execution_count": 89,
     "metadata": {},
     "output_type": "execute_result"
    }
   ],
   "source": [
    "# Analisamos o melhor modelo\n",
    "# Vimos que é com hiperparâmetro C=0.01\n",
    "\n",
    "model_1.best_estimator_"
   ]
  },
  {
   "cell_type": "code",
   "execution_count": 90,
   "id": "578ed1af",
   "metadata": {},
   "outputs": [],
   "source": [
    "# Fazendo as previsões\n",
    "\n",
    "y_predreglogistica = model_1.predict(x_test)"
   ]
  },
  {
   "cell_type": "code",
   "execution_count": 91,
   "id": "3829e3e8",
   "metadata": {},
   "outputs": [
    {
     "data": {
      "text/plain": [
       "array([0, 0, 0, 0, 0, 0, 0, 0, 0, 0], dtype=int64)"
      ]
     },
     "execution_count": 91,
     "metadata": {},
     "output_type": "execute_result"
    }
   ],
   "source": [
    "# analisando a saida dos 10 primeiros registros\n",
    "y_predreglogistica[:10]"
   ]
  },
  {
   "cell_type": "code",
   "execution_count": 92,
   "id": "c1b9ff8c",
   "metadata": {},
   "outputs": [
    {
     "data": {
      "text/plain": [
       "array([[9.54946209e-01, 4.50537911e-02],\n",
       "       [9.95004093e-01, 4.99590680e-03],\n",
       "       [8.20912946e-01, 1.79087054e-01],\n",
       "       [9.99546094e-01, 4.53905659e-04],\n",
       "       [9.15211425e-01, 8.47885751e-02],\n",
       "       [9.97009266e-01, 2.99073414e-03],\n",
       "       [9.84627564e-01, 1.53724361e-02],\n",
       "       [9.99849032e-01, 1.50967834e-04],\n",
       "       [9.77725130e-01, 2.22748700e-02],\n",
       "       [8.86945738e-01, 1.13054262e-01]])"
      ]
     },
     "execution_count": 92,
     "metadata": {},
     "output_type": "execute_result"
    }
   ],
   "source": [
    "# Analisando a saida em formato de probabilidade\n",
    "y_predreglogistica_proba = model_1.predict_proba(x_test)\n",
    "y_predreglogistica_proba[:10]"
   ]
  },
  {
   "cell_type": "code",
   "execution_count": 93,
   "id": "90b7326b",
   "metadata": {},
   "outputs": [
    {
     "data": {
      "text/plain": [
       "array([[14244,  2418],\n",
       "       [  248,  1184]], dtype=int64)"
      ]
     },
     "execution_count": 93,
     "metadata": {},
     "output_type": "execute_result"
    }
   ],
   "source": [
    "# Matriz de Confusão\n",
    "\n",
    "confusion_matrix(y_test, y_predreglogistica)"
   ]
  },
  {
   "cell_type": "code",
   "execution_count": 94,
   "id": "eff724ea",
   "metadata": {},
   "outputs": [
    {
     "data": {
      "text/plain": [
       "0.8526583397811429"
      ]
     },
     "execution_count": 94,
     "metadata": {},
     "output_type": "execute_result"
    }
   ],
   "source": [
    "# Calculando acurácia do modelo\n",
    "accuracy_score(y_test, y_predreglogistica)"
   ]
  },
  {
   "cell_type": "code",
   "execution_count": 95,
   "id": "2b8076ac",
   "metadata": {},
   "outputs": [
    {
     "data": {
      "text/plain": [
       "0.8268156424581006"
      ]
     },
     "execution_count": 95,
     "metadata": {},
     "output_type": "execute_result"
    }
   ],
   "source": [
    "# Calculando o recall do modelo\n",
    "recall = recall_score(y_test, y_predreglogistica)\n",
    "recall"
   ]
  },
  {
   "cell_type": "code",
   "execution_count": 96,
   "id": "a789753d",
   "metadata": {},
   "outputs": [
    {
     "data": {
      "text/html": [
       "<style>#sk-container-id-3 {color: black;background-color: white;}#sk-container-id-3 pre{padding: 0;}#sk-container-id-3 div.sk-toggleable {background-color: white;}#sk-container-id-3 label.sk-toggleable__label {cursor: pointer;display: block;width: 100%;margin-bottom: 0;padding: 0.3em;box-sizing: border-box;text-align: center;}#sk-container-id-3 label.sk-toggleable__label-arrow:before {content: \"▸\";float: left;margin-right: 0.25em;color: #696969;}#sk-container-id-3 label.sk-toggleable__label-arrow:hover:before {color: black;}#sk-container-id-3 div.sk-estimator:hover label.sk-toggleable__label-arrow:before {color: black;}#sk-container-id-3 div.sk-toggleable__content {max-height: 0;max-width: 0;overflow: hidden;text-align: left;background-color: #f0f8ff;}#sk-container-id-3 div.sk-toggleable__content pre {margin: 0.2em;color: black;border-radius: 0.25em;background-color: #f0f8ff;}#sk-container-id-3 input.sk-toggleable__control:checked~div.sk-toggleable__content {max-height: 200px;max-width: 100%;overflow: auto;}#sk-container-id-3 input.sk-toggleable__control:checked~label.sk-toggleable__label-arrow:before {content: \"▾\";}#sk-container-id-3 div.sk-estimator input.sk-toggleable__control:checked~label.sk-toggleable__label {background-color: #d4ebff;}#sk-container-id-3 div.sk-label input.sk-toggleable__control:checked~label.sk-toggleable__label {background-color: #d4ebff;}#sk-container-id-3 input.sk-hidden--visually {border: 0;clip: rect(1px 1px 1px 1px);clip: rect(1px, 1px, 1px, 1px);height: 1px;margin: -1px;overflow: hidden;padding: 0;position: absolute;width: 1px;}#sk-container-id-3 div.sk-estimator {font-family: monospace;background-color: #f0f8ff;border: 1px dotted black;border-radius: 0.25em;box-sizing: border-box;margin-bottom: 0.5em;}#sk-container-id-3 div.sk-estimator:hover {background-color: #d4ebff;}#sk-container-id-3 div.sk-parallel-item::after {content: \"\";width: 100%;border-bottom: 1px solid gray;flex-grow: 1;}#sk-container-id-3 div.sk-label:hover label.sk-toggleable__label {background-color: #d4ebff;}#sk-container-id-3 div.sk-serial::before {content: \"\";position: absolute;border-left: 1px solid gray;box-sizing: border-box;top: 0;bottom: 0;left: 50%;z-index: 0;}#sk-container-id-3 div.sk-serial {display: flex;flex-direction: column;align-items: center;background-color: white;padding-right: 0.2em;padding-left: 0.2em;position: relative;}#sk-container-id-3 div.sk-item {position: relative;z-index: 1;}#sk-container-id-3 div.sk-parallel {display: flex;align-items: stretch;justify-content: center;background-color: white;position: relative;}#sk-container-id-3 div.sk-item::before, #sk-container-id-3 div.sk-parallel-item::before {content: \"\";position: absolute;border-left: 1px solid gray;box-sizing: border-box;top: 0;bottom: 0;left: 50%;z-index: -1;}#sk-container-id-3 div.sk-parallel-item {display: flex;flex-direction: column;z-index: 1;position: relative;background-color: white;}#sk-container-id-3 div.sk-parallel-item:first-child::after {align-self: flex-end;width: 50%;}#sk-container-id-3 div.sk-parallel-item:last-child::after {align-self: flex-start;width: 50%;}#sk-container-id-3 div.sk-parallel-item:only-child::after {width: 0;}#sk-container-id-3 div.sk-dashed-wrapped {border: 1px dashed gray;margin: 0 0.4em 0.5em 0.4em;box-sizing: border-box;padding-bottom: 0.4em;background-color: white;}#sk-container-id-3 div.sk-label label {font-family: monospace;font-weight: bold;display: inline-block;line-height: 1.2em;}#sk-container-id-3 div.sk-label-container {text-align: center;}#sk-container-id-3 div.sk-container {/* jupyter's `normalize.less` sets `[hidden] { display: none; }` but bootstrap.min.css set `[hidden] { display: none !important; }` so we also need the `!important` here to be able to override the default hidden behavior on the sphinx rendered scikit-learn.org. See: https://github.com/scikit-learn/scikit-learn/issues/21755 */display: inline-block !important;position: relative;}#sk-container-id-3 div.sk-text-repr-fallback {display: none;}</style><div id=\"sk-container-id-3\" class=\"sk-top-container\"><div class=\"sk-text-repr-fallback\"><pre>LogisticRegression(C=0.01)</pre><b>In a Jupyter environment, please rerun this cell to show the HTML representation or trust the notebook. <br />On GitHub, the HTML representation is unable to render, please try loading this page with nbviewer.org.</b></div><div class=\"sk-container\" hidden><div class=\"sk-item\"><div class=\"sk-estimator sk-toggleable\"><input class=\"sk-toggleable__control sk-hidden--visually\" id=\"sk-estimator-id-5\" type=\"checkbox\" checked><label for=\"sk-estimator-id-5\" class=\"sk-toggleable__label sk-toggleable__label-arrow\">LogisticRegression</label><div class=\"sk-toggleable__content\"><pre>LogisticRegression(C=0.01)</pre></div></div></div></div></div>"
      ],
      "text/plain": [
       "LogisticRegression(C=0.01)"
      ]
     },
     "execution_count": 96,
     "metadata": {},
     "output_type": "execute_result"
    }
   ],
   "source": [
    "# Criando e treinndo o modelo novamente, porém com o melhor hiperparâmetro \n",
    "model_1 = LogisticRegression(C = 0.01)\n",
    "model_1.fit(x_train, y_train)"
   ]
  },
  {
   "cell_type": "code",
   "execution_count": 98,
   "id": "e7b64212",
   "metadata": {},
   "outputs": [
    {
     "data": {
      "text/plain": [
       "array([0, 0, 0, 0, 0], dtype=int64)"
      ]
     },
     "execution_count": 98,
     "metadata": {},
     "output_type": "execute_result"
    }
   ],
   "source": [
    "# Fazendo previsões\n",
    "y_predreglogistica = model_1.predict(x_test)\n",
    "y_predreglogistica[:5]"
   ]
  },
  {
   "cell_type": "code",
   "execution_count": 99,
   "id": "a0489f52",
   "metadata": {},
   "outputs": [
    {
     "name": "stdout",
     "output_type": "stream",
     "text": [
      "[[14244  2418]\n",
      " [  248  1184]]\n",
      "0.8526583397811429\n"
     ]
    }
   ],
   "source": [
    "# Matriz de confusão\n",
    "print(confusion_matrix(y_test, y_predreglogistica))\n",
    "acuracia_1 = accuracy_score(y_test, y_predreglogistica)\n",
    "print(acuracia_1)"
   ]
  },
  {
   "cell_type": "markdown",
   "id": "d2a7a6e5",
   "metadata": {},
   "source": [
    "### Feature Importance model_1"
   ]
  },
  {
   "cell_type": "code",
   "execution_count": 102,
   "id": "9769cfbb",
   "metadata": {},
   "outputs": [
    {
     "data": {
      "text/plain": [
       "array([5, 6, 1, 4, 7, 2, 3, 0], dtype=int64)"
      ]
     },
     "execution_count": 102,
     "metadata": {},
     "output_type": "execute_result"
    }
   ],
   "source": [
    "# Obtemos os coeficientes pelo maior maior usando np.argsort\n",
    "# abs pega o valor absoluto e arsort ordena o array\n",
    "indices_reglogistica = np.argsort(-abs(model_1.coef_[0,:]))\n",
    "indices_reglogistica"
   ]
  },
  {
   "cell_type": "code",
   "execution_count": 103,
   "id": "5c91aef8",
   "metadata": {},
   "outputs": [
    {
     "name": "stdout",
     "output_type": "stream",
     "text": [
      "Variáveis mais importantes do model_1: \n",
      "--------------------------------------------------\n",
      "HbA1c_level\n",
      "blood_glucose_level\n",
      "age\n",
      "bmi\n",
      "smoking_status\n",
      "hypertension\n",
      "heart_disease\n",
      "gender\n"
     ]
    }
   ],
   "source": [
    "# Variáveis mais importantes\n",
    "print('Variáveis mais importantes do model_1: ')\n",
    "print(50*'-')\n",
    "for feature in x.columns[indices_reglogistica]:\n",
    "    print(feature)"
   ]
  },
  {
   "cell_type": "code",
   "execution_count": 105,
   "id": "958ea041",
   "metadata": {},
   "outputs": [],
   "source": [
    "# Salva o modelo em disco        \n",
    "with open('modelos/model_1.pkl', 'wb') as pickle_file:\n",
    "    joblib.dump(model_1, 'modelos/model_1.pkl')"
   ]
  },
  {
   "cell_type": "code",
   "execution_count": 106,
   "id": "5ba67dd1",
   "metadata": {},
   "outputs": [],
   "source": [
    "# Criando dataframe com dados do modelo\n",
    "\n",
    "df_modelo = pd.DataFrame()"
   ]
  },
  {
   "cell_type": "code",
   "execution_count": 107,
   "id": "93a36be2",
   "metadata": {},
   "outputs": [],
   "source": [
    "dict_modelo_1 = {'Nome': ['model_1'],\n",
    "                 'Algoritmo': ['Regressão Logística'],\n",
    "                 'Acurácia': [acuracia_1]}\n",
    "\n",
    "df_dict = pd.DataFrame(dict_modelo_1)"
   ]
  },
  {
   "cell_type": "code",
   "execution_count": 108,
   "id": "7855dc7e",
   "metadata": {},
   "outputs": [],
   "source": [
    "df_modelo = pd.concat([df_modelo, df_dict], ignore_index = True)"
   ]
  },
  {
   "cell_type": "code",
   "execution_count": 109,
   "id": "49cbc889",
   "metadata": {},
   "outputs": [
    {
     "data": {
      "text/html": [
       "<div>\n",
       "<style scoped>\n",
       "    .dataframe tbody tr th:only-of-type {\n",
       "        vertical-align: middle;\n",
       "    }\n",
       "\n",
       "    .dataframe tbody tr th {\n",
       "        vertical-align: top;\n",
       "    }\n",
       "\n",
       "    .dataframe thead th {\n",
       "        text-align: right;\n",
       "    }\n",
       "</style>\n",
       "<table border=\"1\" class=\"dataframe\">\n",
       "  <thead>\n",
       "    <tr style=\"text-align: right;\">\n",
       "      <th></th>\n",
       "      <th>Nome</th>\n",
       "      <th>Algoritmo</th>\n",
       "      <th>Acurácia</th>\n",
       "    </tr>\n",
       "  </thead>\n",
       "  <tbody>\n",
       "    <tr>\n",
       "      <th>0</th>\n",
       "      <td>model_1</td>\n",
       "      <td>Regressão Logística</td>\n",
       "      <td>0.852658</td>\n",
       "    </tr>\n",
       "  </tbody>\n",
       "</table>\n",
       "</div>"
      ],
      "text/plain": [
       "      Nome            Algoritmo  Acurácia\n",
       "0  model_1  Regressão Logística  0.852658"
      ]
     },
     "execution_count": 109,
     "metadata": {},
     "output_type": "execute_result"
    }
   ],
   "source": [
    "df_modelo"
   ]
  },
  {
   "cell_type": "markdown",
   "id": "969aa477",
   "metadata": {},
   "source": [
    "### Construção e Avaliação do Modelo 2 - Random Forest\n",
    "\n",
    "Definição de hiperparâmetros:\n",
    "\n",
    "n_estimators: O número de árvores na floresta. Um valor maior geralmente resulta em um modelo mais robusto, mas também aumenta o tempo de treinamento.\n",
    "\n",
    "min_samples_split: O número mínimo de amostras necessárias para dividir um nó interno. Especifica o número mínimo de amostras necessárias para considerar uma divisão adicional em um nó. Um valor maior evita divisões que levam a partições muito pequenas, o que pode levar a um ajuste excessivo.\n",
    "\n",
    "min_samples_leaf: O número mínimo de amostras necessárias em uma folha. Especifica o número mínimo de amostras necessárias para formar uma folha em uma árvore. Um valor maior evita folhas com muito poucas amostras, o que também pode levar a um ajuste excessivo."
   ]
  },
  {
   "cell_type": "code",
   "execution_count": 110,
   "id": "ce73961a",
   "metadata": {},
   "outputs": [],
   "source": [
    "# Grid de hiperparâmetros\n",
    "params_v2 = {'n_estimators': [100, 200, 300, 400, 500], \n",
    "                   'min_samples_split': [2, 5, 10], \n",
    "                   'min_samples_leaf': [1, 2, 4]}"
   ]
  },
  {
   "cell_type": "code",
   "execution_count": 111,
   "id": "ba55e2c7",
   "metadata": {},
   "outputs": [],
   "source": [
    "# Cria o modelo com RandomizedSearchCV para buscar a melhor combinação de hiperparâmetros\n",
    "model_2 = RandomizedSearchCV(RandomForestClassifier(),\n",
    "                             params_v2,\n",
    "                             n_iter = 15,\n",
    "                             scoring = 'roc_auc',\n",
    "                             n_jobs = -1)"
   ]
  },
  {
   "cell_type": "code",
   "execution_count": 105,
   "id": "80625800",
   "metadata": {},
   "outputs": [
    {
     "data": {
      "text/html": [
       "<style>#sk-container-id-4 {color: black;background-color: white;}#sk-container-id-4 pre{padding: 0;}#sk-container-id-4 div.sk-toggleable {background-color: white;}#sk-container-id-4 label.sk-toggleable__label {cursor: pointer;display: block;width: 100%;margin-bottom: 0;padding: 0.3em;box-sizing: border-box;text-align: center;}#sk-container-id-4 label.sk-toggleable__label-arrow:before {content: \"▸\";float: left;margin-right: 0.25em;color: #696969;}#sk-container-id-4 label.sk-toggleable__label-arrow:hover:before {color: black;}#sk-container-id-4 div.sk-estimator:hover label.sk-toggleable__label-arrow:before {color: black;}#sk-container-id-4 div.sk-toggleable__content {max-height: 0;max-width: 0;overflow: hidden;text-align: left;background-color: #f0f8ff;}#sk-container-id-4 div.sk-toggleable__content pre {margin: 0.2em;color: black;border-radius: 0.25em;background-color: #f0f8ff;}#sk-container-id-4 input.sk-toggleable__control:checked~div.sk-toggleable__content {max-height: 200px;max-width: 100%;overflow: auto;}#sk-container-id-4 input.sk-toggleable__control:checked~label.sk-toggleable__label-arrow:before {content: \"▾\";}#sk-container-id-4 div.sk-estimator input.sk-toggleable__control:checked~label.sk-toggleable__label {background-color: #d4ebff;}#sk-container-id-4 div.sk-label input.sk-toggleable__control:checked~label.sk-toggleable__label {background-color: #d4ebff;}#sk-container-id-4 input.sk-hidden--visually {border: 0;clip: rect(1px 1px 1px 1px);clip: rect(1px, 1px, 1px, 1px);height: 1px;margin: -1px;overflow: hidden;padding: 0;position: absolute;width: 1px;}#sk-container-id-4 div.sk-estimator {font-family: monospace;background-color: #f0f8ff;border: 1px dotted black;border-radius: 0.25em;box-sizing: border-box;margin-bottom: 0.5em;}#sk-container-id-4 div.sk-estimator:hover {background-color: #d4ebff;}#sk-container-id-4 div.sk-parallel-item::after {content: \"\";width: 100%;border-bottom: 1px solid gray;flex-grow: 1;}#sk-container-id-4 div.sk-label:hover label.sk-toggleable__label {background-color: #d4ebff;}#sk-container-id-4 div.sk-serial::before {content: \"\";position: absolute;border-left: 1px solid gray;box-sizing: border-box;top: 0;bottom: 0;left: 50%;z-index: 0;}#sk-container-id-4 div.sk-serial {display: flex;flex-direction: column;align-items: center;background-color: white;padding-right: 0.2em;padding-left: 0.2em;position: relative;}#sk-container-id-4 div.sk-item {position: relative;z-index: 1;}#sk-container-id-4 div.sk-parallel {display: flex;align-items: stretch;justify-content: center;background-color: white;position: relative;}#sk-container-id-4 div.sk-item::before, #sk-container-id-4 div.sk-parallel-item::before {content: \"\";position: absolute;border-left: 1px solid gray;box-sizing: border-box;top: 0;bottom: 0;left: 50%;z-index: -1;}#sk-container-id-4 div.sk-parallel-item {display: flex;flex-direction: column;z-index: 1;position: relative;background-color: white;}#sk-container-id-4 div.sk-parallel-item:first-child::after {align-self: flex-end;width: 50%;}#sk-container-id-4 div.sk-parallel-item:last-child::after {align-self: flex-start;width: 50%;}#sk-container-id-4 div.sk-parallel-item:only-child::after {width: 0;}#sk-container-id-4 div.sk-dashed-wrapped {border: 1px dashed gray;margin: 0 0.4em 0.5em 0.4em;box-sizing: border-box;padding-bottom: 0.4em;background-color: white;}#sk-container-id-4 div.sk-label label {font-family: monospace;font-weight: bold;display: inline-block;line-height: 1.2em;}#sk-container-id-4 div.sk-label-container {text-align: center;}#sk-container-id-4 div.sk-container {/* jupyter's `normalize.less` sets `[hidden] { display: none; }` but bootstrap.min.css set `[hidden] { display: none !important; }` so we also need the `!important` here to be able to override the default hidden behavior on the sphinx rendered scikit-learn.org. See: https://github.com/scikit-learn/scikit-learn/issues/21755 */display: inline-block !important;position: relative;}#sk-container-id-4 div.sk-text-repr-fallback {display: none;}</style><div id=\"sk-container-id-4\" class=\"sk-top-container\"><div class=\"sk-text-repr-fallback\"><pre>RandomizedSearchCV(estimator=RandomForestClassifier(), n_iter=15, n_jobs=-1,\n",
       "                   param_distributions={&#x27;min_samples_leaf&#x27;: [1, 2, 4],\n",
       "                                        &#x27;min_samples_split&#x27;: [2, 5, 10],\n",
       "                                        &#x27;n_estimators&#x27;: [100, 200, 300, 400,\n",
       "                                                         500]},\n",
       "                   scoring=&#x27;roc_auc&#x27;)</pre><b>In a Jupyter environment, please rerun this cell to show the HTML representation or trust the notebook. <br />On GitHub, the HTML representation is unable to render, please try loading this page with nbviewer.org.</b></div><div class=\"sk-container\" hidden><div class=\"sk-item sk-dashed-wrapped\"><div class=\"sk-label-container\"><div class=\"sk-label sk-toggleable\"><input class=\"sk-toggleable__control sk-hidden--visually\" id=\"sk-estimator-id-6\" type=\"checkbox\" ><label for=\"sk-estimator-id-6\" class=\"sk-toggleable__label sk-toggleable__label-arrow\">RandomizedSearchCV</label><div class=\"sk-toggleable__content\"><pre>RandomizedSearchCV(estimator=RandomForestClassifier(), n_iter=15, n_jobs=-1,\n",
       "                   param_distributions={&#x27;min_samples_leaf&#x27;: [1, 2, 4],\n",
       "                                        &#x27;min_samples_split&#x27;: [2, 5, 10],\n",
       "                                        &#x27;n_estimators&#x27;: [100, 200, 300, 400,\n",
       "                                                         500]},\n",
       "                   scoring=&#x27;roc_auc&#x27;)</pre></div></div></div><div class=\"sk-parallel\"><div class=\"sk-parallel-item\"><div class=\"sk-item\"><div class=\"sk-label-container\"><div class=\"sk-label sk-toggleable\"><input class=\"sk-toggleable__control sk-hidden--visually\" id=\"sk-estimator-id-7\" type=\"checkbox\" ><label for=\"sk-estimator-id-7\" class=\"sk-toggleable__label sk-toggleable__label-arrow\">estimator: RandomForestClassifier</label><div class=\"sk-toggleable__content\"><pre>RandomForestClassifier()</pre></div></div></div><div class=\"sk-serial\"><div class=\"sk-item\"><div class=\"sk-estimator sk-toggleable\"><input class=\"sk-toggleable__control sk-hidden--visually\" id=\"sk-estimator-id-8\" type=\"checkbox\" ><label for=\"sk-estimator-id-8\" class=\"sk-toggleable__label sk-toggleable__label-arrow\">RandomForestClassifier</label><div class=\"sk-toggleable__content\"><pre>RandomForestClassifier()</pre></div></div></div></div></div></div></div></div></div></div>"
      ],
      "text/plain": [
       "RandomizedSearchCV(estimator=RandomForestClassifier(), n_iter=15, n_jobs=-1,\n",
       "                   param_distributions={'min_samples_leaf': [1, 2, 4],\n",
       "                                        'min_samples_split': [2, 5, 10],\n",
       "                                        'n_estimators': [100, 200, 300, 400,\n",
       "                                                         500]},\n",
       "                   scoring='roc_auc')"
      ]
     },
     "execution_count": 105,
     "metadata": {},
     "output_type": "execute_result"
    }
   ],
   "source": [
    "# Treinamento do modelo\n",
    "model_2.fit(x_train, y_train)"
   ]
  },
  {
   "cell_type": "code",
   "execution_count": null,
   "id": "74cb7389",
   "metadata": {},
   "outputs": [],
   "source": [
    "# Fazendo previsões\n",
    "\n",
    "y_pred_randomforest = model_2.predict(x_test)\n",
    "y_pred_randomforest_proba = model_2.predict_proba(x_test)"
   ]
  },
  {
   "cell_type": "code",
   "execution_count": 107,
   "id": "26ee5851",
   "metadata": {},
   "outputs": [
    {
     "data": {
      "text/plain": [
       "array([0, 0, 0, 0, 0], dtype=int64)"
      ]
     },
     "execution_count": 107,
     "metadata": {},
     "output_type": "execute_result"
    }
   ],
   "source": [
    "y_pred_randomforest[:5]"
   ]
  },
  {
   "cell_type": "code",
   "execution_count": 108,
   "id": "07f6579b",
   "metadata": {},
   "outputs": [
    {
     "data": {
      "text/plain": [
       "array([[1.        , 0.        ],\n",
       "       [1.        , 0.        ],\n",
       "       [0.72683333, 0.27316667],\n",
       "       [1.        , 0.        ],\n",
       "       [0.99      , 0.01      ]])"
      ]
     },
     "execution_count": 108,
     "metadata": {},
     "output_type": "execute_result"
    }
   ],
   "source": [
    "y_pred_randomforest_proba[:5]"
   ]
  },
  {
   "cell_type": "code",
   "execution_count": 109,
   "id": "2b7acf7f",
   "metadata": {},
   "outputs": [
    {
     "data": {
      "text/plain": [
       "array([[25697,   343],\n",
       "       [  686,  1037]], dtype=int64)"
      ]
     },
     "execution_count": 109,
     "metadata": {},
     "output_type": "execute_result"
    }
   ],
   "source": [
    "# Matriz de confusão\n",
    "confusion_matrix(y_test, y_pred_randomforest)"
   ]
  },
  {
   "cell_type": "code",
   "execution_count": 110,
   "id": "84ce3963",
   "metadata": {},
   "outputs": [
    {
     "data": {
      "text/plain": [
       "0.9629362821020783"
      ]
     },
     "execution_count": 110,
     "metadata": {},
     "output_type": "execute_result"
    }
   ],
   "source": [
    "# Acurácia\n",
    "\n",
    "acuracia_randomforest = accuracy_score(y_test, y_pred_randomforest)\n",
    "acuracia_randomforest"
   ]
  },
  {
   "cell_type": "code",
   "execution_count": 111,
   "id": "cd6f2e8c",
   "metadata": {},
   "outputs": [],
   "source": [
    "# Salvando o modelo 2 em disco\n",
    "# Salva o modelo em disco        \n",
    "with open('modelos/model_2.pkl', 'wb') as pickle_file:\n",
    "    joblib.dump(model_2, 'modelos/model_2.pkl')"
   ]
  },
  {
   "cell_type": "code",
   "execution_count": 112,
   "id": "4f666e76",
   "metadata": {},
   "outputs": [],
   "source": [
    "# Alimentando o dataframe para escolhermos os melhores modelos\n",
    "\n",
    "dict_randomforest = {'Nome': ['model_2'],\n",
    "                     'Algoritmo': ['Random Forest'],\n",
    "                     'Acurácia': [acuracia_randomforest]}"
   ]
  },
  {
   "cell_type": "code",
   "execution_count": 113,
   "id": "038a92c1",
   "metadata": {},
   "outputs": [],
   "source": [
    "df_dict_randomforest = pd.DataFrame(dict_randomforest)"
   ]
  },
  {
   "cell_type": "code",
   "execution_count": 114,
   "id": "093877d4",
   "metadata": {},
   "outputs": [
    {
     "data": {
      "text/html": [
       "<div>\n",
       "<style scoped>\n",
       "    .dataframe tbody tr th:only-of-type {\n",
       "        vertical-align: middle;\n",
       "    }\n",
       "\n",
       "    .dataframe tbody tr th {\n",
       "        vertical-align: top;\n",
       "    }\n",
       "\n",
       "    .dataframe thead th {\n",
       "        text-align: right;\n",
       "    }\n",
       "</style>\n",
       "<table border=\"1\" class=\"dataframe\">\n",
       "  <thead>\n",
       "    <tr style=\"text-align: right;\">\n",
       "      <th></th>\n",
       "      <th>Nome</th>\n",
       "      <th>Algoritmo</th>\n",
       "      <th>Acurácia</th>\n",
       "    </tr>\n",
       "  </thead>\n",
       "  <tbody>\n",
       "    <tr>\n",
       "      <th>0</th>\n",
       "      <td>model_1</td>\n",
       "      <td>Regressão Logística</td>\n",
       "      <td>0.856608</td>\n",
       "    </tr>\n",
       "    <tr>\n",
       "      <th>1</th>\n",
       "      <td>model_2</td>\n",
       "      <td>Random Forest</td>\n",
       "      <td>0.962936</td>\n",
       "    </tr>\n",
       "  </tbody>\n",
       "</table>\n",
       "</div>"
      ],
      "text/plain": [
       "      Nome            Algoritmo  Acurácia\n",
       "0  model_1  Regressão Logística  0.856608\n",
       "1  model_2        Random Forest  0.962936"
      ]
     },
     "execution_count": 114,
     "metadata": {},
     "output_type": "execute_result"
    }
   ],
   "source": [
    "df_modelo = pd.concat([df_modelo,df_dict_randomforest], ignore_index = True)\n",
    "df_modelo"
   ]
  },
  {
   "cell_type": "markdown",
   "id": "80b8ecb0",
   "metadata": {},
   "source": [
    "### Construção e Avaliação do Modelo 3 - Decision Tree\n"
   ]
  },
  {
   "cell_type": "code",
   "execution_count": 113,
   "id": "a2fa4f15",
   "metadata": {},
   "outputs": [],
   "source": [
    "# Hiperparâmetros\n",
    "params_v3 = {'min_samples_split': [2, 3, 4, 5, 7], \n",
    "                   'min_samples_leaf': [1, 2, 3, 4, 6], \n",
    "                   'max_depth': [2, 3, 4, 5, 6, 7]}"
   ]
  },
  {
   "cell_type": "code",
   "execution_count": 114,
   "id": "0bbc2eb1",
   "metadata": {},
   "outputs": [],
   "source": [
    "# Cria o modelo com RandomizedSearchCV para buscar a melhor combinação de hiperparâmetros\n",
    "model_3 = RandomizedSearchCV(DecisionTreeClassifier(),\n",
    "                             params_v3,\n",
    "                             n_iter = 15,\n",
    "                             scoring = 'roc_auc',\n",
    "                             n_jobs = -1)"
   ]
  },
  {
   "cell_type": "code",
   "execution_count": 115,
   "id": "213a25e4",
   "metadata": {},
   "outputs": [
    {
     "data": {
      "text/html": [
       "<style>#sk-container-id-4 {color: black;background-color: white;}#sk-container-id-4 pre{padding: 0;}#sk-container-id-4 div.sk-toggleable {background-color: white;}#sk-container-id-4 label.sk-toggleable__label {cursor: pointer;display: block;width: 100%;margin-bottom: 0;padding: 0.3em;box-sizing: border-box;text-align: center;}#sk-container-id-4 label.sk-toggleable__label-arrow:before {content: \"▸\";float: left;margin-right: 0.25em;color: #696969;}#sk-container-id-4 label.sk-toggleable__label-arrow:hover:before {color: black;}#sk-container-id-4 div.sk-estimator:hover label.sk-toggleable__label-arrow:before {color: black;}#sk-container-id-4 div.sk-toggleable__content {max-height: 0;max-width: 0;overflow: hidden;text-align: left;background-color: #f0f8ff;}#sk-container-id-4 div.sk-toggleable__content pre {margin: 0.2em;color: black;border-radius: 0.25em;background-color: #f0f8ff;}#sk-container-id-4 input.sk-toggleable__control:checked~div.sk-toggleable__content {max-height: 200px;max-width: 100%;overflow: auto;}#sk-container-id-4 input.sk-toggleable__control:checked~label.sk-toggleable__label-arrow:before {content: \"▾\";}#sk-container-id-4 div.sk-estimator input.sk-toggleable__control:checked~label.sk-toggleable__label {background-color: #d4ebff;}#sk-container-id-4 div.sk-label input.sk-toggleable__control:checked~label.sk-toggleable__label {background-color: #d4ebff;}#sk-container-id-4 input.sk-hidden--visually {border: 0;clip: rect(1px 1px 1px 1px);clip: rect(1px, 1px, 1px, 1px);height: 1px;margin: -1px;overflow: hidden;padding: 0;position: absolute;width: 1px;}#sk-container-id-4 div.sk-estimator {font-family: monospace;background-color: #f0f8ff;border: 1px dotted black;border-radius: 0.25em;box-sizing: border-box;margin-bottom: 0.5em;}#sk-container-id-4 div.sk-estimator:hover {background-color: #d4ebff;}#sk-container-id-4 div.sk-parallel-item::after {content: \"\";width: 100%;border-bottom: 1px solid gray;flex-grow: 1;}#sk-container-id-4 div.sk-label:hover label.sk-toggleable__label {background-color: #d4ebff;}#sk-container-id-4 div.sk-serial::before {content: \"\";position: absolute;border-left: 1px solid gray;box-sizing: border-box;top: 0;bottom: 0;left: 50%;z-index: 0;}#sk-container-id-4 div.sk-serial {display: flex;flex-direction: column;align-items: center;background-color: white;padding-right: 0.2em;padding-left: 0.2em;position: relative;}#sk-container-id-4 div.sk-item {position: relative;z-index: 1;}#sk-container-id-4 div.sk-parallel {display: flex;align-items: stretch;justify-content: center;background-color: white;position: relative;}#sk-container-id-4 div.sk-item::before, #sk-container-id-4 div.sk-parallel-item::before {content: \"\";position: absolute;border-left: 1px solid gray;box-sizing: border-box;top: 0;bottom: 0;left: 50%;z-index: -1;}#sk-container-id-4 div.sk-parallel-item {display: flex;flex-direction: column;z-index: 1;position: relative;background-color: white;}#sk-container-id-4 div.sk-parallel-item:first-child::after {align-self: flex-end;width: 50%;}#sk-container-id-4 div.sk-parallel-item:last-child::after {align-self: flex-start;width: 50%;}#sk-container-id-4 div.sk-parallel-item:only-child::after {width: 0;}#sk-container-id-4 div.sk-dashed-wrapped {border: 1px dashed gray;margin: 0 0.4em 0.5em 0.4em;box-sizing: border-box;padding-bottom: 0.4em;background-color: white;}#sk-container-id-4 div.sk-label label {font-family: monospace;font-weight: bold;display: inline-block;line-height: 1.2em;}#sk-container-id-4 div.sk-label-container {text-align: center;}#sk-container-id-4 div.sk-container {/* jupyter's `normalize.less` sets `[hidden] { display: none; }` but bootstrap.min.css set `[hidden] { display: none !important; }` so we also need the `!important` here to be able to override the default hidden behavior on the sphinx rendered scikit-learn.org. See: https://github.com/scikit-learn/scikit-learn/issues/21755 */display: inline-block !important;position: relative;}#sk-container-id-4 div.sk-text-repr-fallback {display: none;}</style><div id=\"sk-container-id-4\" class=\"sk-top-container\"><div class=\"sk-text-repr-fallback\"><pre>RandomizedSearchCV(estimator=DecisionTreeClassifier(), n_iter=15, n_jobs=-1,\n",
       "                   param_distributions={&#x27;max_depth&#x27;: [2, 3, 4, 5, 6, 7],\n",
       "                                        &#x27;min_samples_leaf&#x27;: [1, 2, 3, 4, 6],\n",
       "                                        &#x27;min_samples_split&#x27;: [2, 3, 4, 5, 7]},\n",
       "                   scoring=&#x27;roc_auc&#x27;)</pre><b>In a Jupyter environment, please rerun this cell to show the HTML representation or trust the notebook. <br />On GitHub, the HTML representation is unable to render, please try loading this page with nbviewer.org.</b></div><div class=\"sk-container\" hidden><div class=\"sk-item sk-dashed-wrapped\"><div class=\"sk-label-container\"><div class=\"sk-label sk-toggleable\"><input class=\"sk-toggleable__control sk-hidden--visually\" id=\"sk-estimator-id-6\" type=\"checkbox\" ><label for=\"sk-estimator-id-6\" class=\"sk-toggleable__label sk-toggleable__label-arrow\">RandomizedSearchCV</label><div class=\"sk-toggleable__content\"><pre>RandomizedSearchCV(estimator=DecisionTreeClassifier(), n_iter=15, n_jobs=-1,\n",
       "                   param_distributions={&#x27;max_depth&#x27;: [2, 3, 4, 5, 6, 7],\n",
       "                                        &#x27;min_samples_leaf&#x27;: [1, 2, 3, 4, 6],\n",
       "                                        &#x27;min_samples_split&#x27;: [2, 3, 4, 5, 7]},\n",
       "                   scoring=&#x27;roc_auc&#x27;)</pre></div></div></div><div class=\"sk-parallel\"><div class=\"sk-parallel-item\"><div class=\"sk-item\"><div class=\"sk-label-container\"><div class=\"sk-label sk-toggleable\"><input class=\"sk-toggleable__control sk-hidden--visually\" id=\"sk-estimator-id-7\" type=\"checkbox\" ><label for=\"sk-estimator-id-7\" class=\"sk-toggleable__label sk-toggleable__label-arrow\">estimator: DecisionTreeClassifier</label><div class=\"sk-toggleable__content\"><pre>DecisionTreeClassifier()</pre></div></div></div><div class=\"sk-serial\"><div class=\"sk-item\"><div class=\"sk-estimator sk-toggleable\"><input class=\"sk-toggleable__control sk-hidden--visually\" id=\"sk-estimator-id-8\" type=\"checkbox\" ><label for=\"sk-estimator-id-8\" class=\"sk-toggleable__label sk-toggleable__label-arrow\">DecisionTreeClassifier</label><div class=\"sk-toggleable__content\"><pre>DecisionTreeClassifier()</pre></div></div></div></div></div></div></div></div></div></div>"
      ],
      "text/plain": [
       "RandomizedSearchCV(estimator=DecisionTreeClassifier(), n_iter=15, n_jobs=-1,\n",
       "                   param_distributions={'max_depth': [2, 3, 4, 5, 6, 7],\n",
       "                                        'min_samples_leaf': [1, 2, 3, 4, 6],\n",
       "                                        'min_samples_split': [2, 3, 4, 5, 7]},\n",
       "                   scoring='roc_auc')"
      ]
     },
     "execution_count": 115,
     "metadata": {},
     "output_type": "execute_result"
    }
   ],
   "source": [
    "# Treinando modelo 3\n",
    "model_3.fit(x_train, y_train)"
   ]
  },
  {
   "cell_type": "code",
   "execution_count": 116,
   "id": "250082fe",
   "metadata": {},
   "outputs": [
    {
     "data": {
      "text/html": [
       "<style>#sk-container-id-5 {color: black;background-color: white;}#sk-container-id-5 pre{padding: 0;}#sk-container-id-5 div.sk-toggleable {background-color: white;}#sk-container-id-5 label.sk-toggleable__label {cursor: pointer;display: block;width: 100%;margin-bottom: 0;padding: 0.3em;box-sizing: border-box;text-align: center;}#sk-container-id-5 label.sk-toggleable__label-arrow:before {content: \"▸\";float: left;margin-right: 0.25em;color: #696969;}#sk-container-id-5 label.sk-toggleable__label-arrow:hover:before {color: black;}#sk-container-id-5 div.sk-estimator:hover label.sk-toggleable__label-arrow:before {color: black;}#sk-container-id-5 div.sk-toggleable__content {max-height: 0;max-width: 0;overflow: hidden;text-align: left;background-color: #f0f8ff;}#sk-container-id-5 div.sk-toggleable__content pre {margin: 0.2em;color: black;border-radius: 0.25em;background-color: #f0f8ff;}#sk-container-id-5 input.sk-toggleable__control:checked~div.sk-toggleable__content {max-height: 200px;max-width: 100%;overflow: auto;}#sk-container-id-5 input.sk-toggleable__control:checked~label.sk-toggleable__label-arrow:before {content: \"▾\";}#sk-container-id-5 div.sk-estimator input.sk-toggleable__control:checked~label.sk-toggleable__label {background-color: #d4ebff;}#sk-container-id-5 div.sk-label input.sk-toggleable__control:checked~label.sk-toggleable__label {background-color: #d4ebff;}#sk-container-id-5 input.sk-hidden--visually {border: 0;clip: rect(1px 1px 1px 1px);clip: rect(1px, 1px, 1px, 1px);height: 1px;margin: -1px;overflow: hidden;padding: 0;position: absolute;width: 1px;}#sk-container-id-5 div.sk-estimator {font-family: monospace;background-color: #f0f8ff;border: 1px dotted black;border-radius: 0.25em;box-sizing: border-box;margin-bottom: 0.5em;}#sk-container-id-5 div.sk-estimator:hover {background-color: #d4ebff;}#sk-container-id-5 div.sk-parallel-item::after {content: \"\";width: 100%;border-bottom: 1px solid gray;flex-grow: 1;}#sk-container-id-5 div.sk-label:hover label.sk-toggleable__label {background-color: #d4ebff;}#sk-container-id-5 div.sk-serial::before {content: \"\";position: absolute;border-left: 1px solid gray;box-sizing: border-box;top: 0;bottom: 0;left: 50%;z-index: 0;}#sk-container-id-5 div.sk-serial {display: flex;flex-direction: column;align-items: center;background-color: white;padding-right: 0.2em;padding-left: 0.2em;position: relative;}#sk-container-id-5 div.sk-item {position: relative;z-index: 1;}#sk-container-id-5 div.sk-parallel {display: flex;align-items: stretch;justify-content: center;background-color: white;position: relative;}#sk-container-id-5 div.sk-item::before, #sk-container-id-5 div.sk-parallel-item::before {content: \"\";position: absolute;border-left: 1px solid gray;box-sizing: border-box;top: 0;bottom: 0;left: 50%;z-index: -1;}#sk-container-id-5 div.sk-parallel-item {display: flex;flex-direction: column;z-index: 1;position: relative;background-color: white;}#sk-container-id-5 div.sk-parallel-item:first-child::after {align-self: flex-end;width: 50%;}#sk-container-id-5 div.sk-parallel-item:last-child::after {align-self: flex-start;width: 50%;}#sk-container-id-5 div.sk-parallel-item:only-child::after {width: 0;}#sk-container-id-5 div.sk-dashed-wrapped {border: 1px dashed gray;margin: 0 0.4em 0.5em 0.4em;box-sizing: border-box;padding-bottom: 0.4em;background-color: white;}#sk-container-id-5 div.sk-label label {font-family: monospace;font-weight: bold;display: inline-block;line-height: 1.2em;}#sk-container-id-5 div.sk-label-container {text-align: center;}#sk-container-id-5 div.sk-container {/* jupyter's `normalize.less` sets `[hidden] { display: none; }` but bootstrap.min.css set `[hidden] { display: none !important; }` so we also need the `!important` here to be able to override the default hidden behavior on the sphinx rendered scikit-learn.org. See: https://github.com/scikit-learn/scikit-learn/issues/21755 */display: inline-block !important;position: relative;}#sk-container-id-5 div.sk-text-repr-fallback {display: none;}</style><div id=\"sk-container-id-5\" class=\"sk-top-container\"><div class=\"sk-text-repr-fallback\"><pre>DecisionTreeClassifier(max_depth=7, min_samples_leaf=3, min_samples_split=4)</pre><b>In a Jupyter environment, please rerun this cell to show the HTML representation or trust the notebook. <br />On GitHub, the HTML representation is unable to render, please try loading this page with nbviewer.org.</b></div><div class=\"sk-container\" hidden><div class=\"sk-item\"><div class=\"sk-estimator sk-toggleable\"><input class=\"sk-toggleable__control sk-hidden--visually\" id=\"sk-estimator-id-9\" type=\"checkbox\" checked><label for=\"sk-estimator-id-9\" class=\"sk-toggleable__label sk-toggleable__label-arrow\">DecisionTreeClassifier</label><div class=\"sk-toggleable__content\"><pre>DecisionTreeClassifier(max_depth=7, min_samples_leaf=3, min_samples_split=4)</pre></div></div></div></div></div>"
      ],
      "text/plain": [
       "DecisionTreeClassifier(max_depth=7, min_samples_leaf=3, min_samples_split=4)"
      ]
     },
     "execution_count": 116,
     "metadata": {},
     "output_type": "execute_result"
    }
   ],
   "source": [
    "# Melhores hiperparâmetros\n",
    "\n",
    "model_3.best_estimator_"
   ]
  },
  {
   "cell_type": "code",
   "execution_count": 117,
   "id": "36898ca7",
   "metadata": {},
   "outputs": [
    {
     "data": {
      "text/html": [
       "<style>#sk-container-id-6 {color: black;background-color: white;}#sk-container-id-6 pre{padding: 0;}#sk-container-id-6 div.sk-toggleable {background-color: white;}#sk-container-id-6 label.sk-toggleable__label {cursor: pointer;display: block;width: 100%;margin-bottom: 0;padding: 0.3em;box-sizing: border-box;text-align: center;}#sk-container-id-6 label.sk-toggleable__label-arrow:before {content: \"▸\";float: left;margin-right: 0.25em;color: #696969;}#sk-container-id-6 label.sk-toggleable__label-arrow:hover:before {color: black;}#sk-container-id-6 div.sk-estimator:hover label.sk-toggleable__label-arrow:before {color: black;}#sk-container-id-6 div.sk-toggleable__content {max-height: 0;max-width: 0;overflow: hidden;text-align: left;background-color: #f0f8ff;}#sk-container-id-6 div.sk-toggleable__content pre {margin: 0.2em;color: black;border-radius: 0.25em;background-color: #f0f8ff;}#sk-container-id-6 input.sk-toggleable__control:checked~div.sk-toggleable__content {max-height: 200px;max-width: 100%;overflow: auto;}#sk-container-id-6 input.sk-toggleable__control:checked~label.sk-toggleable__label-arrow:before {content: \"▾\";}#sk-container-id-6 div.sk-estimator input.sk-toggleable__control:checked~label.sk-toggleable__label {background-color: #d4ebff;}#sk-container-id-6 div.sk-label input.sk-toggleable__control:checked~label.sk-toggleable__label {background-color: #d4ebff;}#sk-container-id-6 input.sk-hidden--visually {border: 0;clip: rect(1px 1px 1px 1px);clip: rect(1px, 1px, 1px, 1px);height: 1px;margin: -1px;overflow: hidden;padding: 0;position: absolute;width: 1px;}#sk-container-id-6 div.sk-estimator {font-family: monospace;background-color: #f0f8ff;border: 1px dotted black;border-radius: 0.25em;box-sizing: border-box;margin-bottom: 0.5em;}#sk-container-id-6 div.sk-estimator:hover {background-color: #d4ebff;}#sk-container-id-6 div.sk-parallel-item::after {content: \"\";width: 100%;border-bottom: 1px solid gray;flex-grow: 1;}#sk-container-id-6 div.sk-label:hover label.sk-toggleable__label {background-color: #d4ebff;}#sk-container-id-6 div.sk-serial::before {content: \"\";position: absolute;border-left: 1px solid gray;box-sizing: border-box;top: 0;bottom: 0;left: 50%;z-index: 0;}#sk-container-id-6 div.sk-serial {display: flex;flex-direction: column;align-items: center;background-color: white;padding-right: 0.2em;padding-left: 0.2em;position: relative;}#sk-container-id-6 div.sk-item {position: relative;z-index: 1;}#sk-container-id-6 div.sk-parallel {display: flex;align-items: stretch;justify-content: center;background-color: white;position: relative;}#sk-container-id-6 div.sk-item::before, #sk-container-id-6 div.sk-parallel-item::before {content: \"\";position: absolute;border-left: 1px solid gray;box-sizing: border-box;top: 0;bottom: 0;left: 50%;z-index: -1;}#sk-container-id-6 div.sk-parallel-item {display: flex;flex-direction: column;z-index: 1;position: relative;background-color: white;}#sk-container-id-6 div.sk-parallel-item:first-child::after {align-self: flex-end;width: 50%;}#sk-container-id-6 div.sk-parallel-item:last-child::after {align-self: flex-start;width: 50%;}#sk-container-id-6 div.sk-parallel-item:only-child::after {width: 0;}#sk-container-id-6 div.sk-dashed-wrapped {border: 1px dashed gray;margin: 0 0.4em 0.5em 0.4em;box-sizing: border-box;padding-bottom: 0.4em;background-color: white;}#sk-container-id-6 div.sk-label label {font-family: monospace;font-weight: bold;display: inline-block;line-height: 1.2em;}#sk-container-id-6 div.sk-label-container {text-align: center;}#sk-container-id-6 div.sk-container {/* jupyter's `normalize.less` sets `[hidden] { display: none; }` but bootstrap.min.css set `[hidden] { display: none !important; }` so we also need the `!important` here to be able to override the default hidden behavior on the sphinx rendered scikit-learn.org. See: https://github.com/scikit-learn/scikit-learn/issues/21755 */display: inline-block !important;position: relative;}#sk-container-id-6 div.sk-text-repr-fallback {display: none;}</style><div id=\"sk-container-id-6\" class=\"sk-top-container\"><div class=\"sk-text-repr-fallback\"><pre>DecisionTreeClassifier(max_depth=7, min_samples_leaf=3, min_samples_split=5)</pre><b>In a Jupyter environment, please rerun this cell to show the HTML representation or trust the notebook. <br />On GitHub, the HTML representation is unable to render, please try loading this page with nbviewer.org.</b></div><div class=\"sk-container\" hidden><div class=\"sk-item\"><div class=\"sk-estimator sk-toggleable\"><input class=\"sk-toggleable__control sk-hidden--visually\" id=\"sk-estimator-id-10\" type=\"checkbox\" checked><label for=\"sk-estimator-id-10\" class=\"sk-toggleable__label sk-toggleable__label-arrow\">DecisionTreeClassifier</label><div class=\"sk-toggleable__content\"><pre>DecisionTreeClassifier(max_depth=7, min_samples_leaf=3, min_samples_split=5)</pre></div></div></div></div></div>"
      ],
      "text/plain": [
       "DecisionTreeClassifier(max_depth=7, min_samples_leaf=3, min_samples_split=5)"
      ]
     },
     "execution_count": 117,
     "metadata": {},
     "output_type": "execute_result"
    }
   ],
   "source": [
    "# Recriando o modelo com os melhores hiperparâmetros encontrados\n",
    "\n",
    "model_3 = DecisionTreeClassifier(max_depth = 7, min_samples_leaf = 3, min_samples_split = 5)\n",
    "model_3.fit(x_train, y_train)"
   ]
  },
  {
   "cell_type": "code",
   "execution_count": 118,
   "id": "8f2c8a76",
   "metadata": {},
   "outputs": [
    {
     "data": {
      "text/plain": [
       "array([0, 0, 0, 0, 1, 0, 0, 0, 0, 0], dtype=int64)"
      ]
     },
     "execution_count": 118,
     "metadata": {},
     "output_type": "execute_result"
    }
   ],
   "source": [
    "# Fazendo previsões\n",
    "y_pred_decisiontree = model_3.predict(x_test)\n",
    "y_pred_decisiontree[:10]"
   ]
  },
  {
   "cell_type": "code",
   "execution_count": 119,
   "id": "7d91805b",
   "metadata": {},
   "outputs": [
    {
     "data": {
      "text/plain": [
       "array([[0.99447077, 0.00552923],\n",
       "       [1.        , 0.        ],\n",
       "       [1.        , 0.        ],\n",
       "       [1.        , 0.        ],\n",
       "       [0.36712465, 0.63287535],\n",
       "       [1.        , 0.        ],\n",
       "       [1.        , 0.        ],\n",
       "       [1.        , 0.        ],\n",
       "       [0.92368839, 0.07631161],\n",
       "       [1.        , 0.        ]])"
      ]
     },
     "execution_count": 119,
     "metadata": {},
     "output_type": "execute_result"
    }
   ],
   "source": [
    "# Previsões em probabilidade\n",
    "y_pred_decisiontree_proba = model_3.predict_proba(x_test)\n",
    "y_pred_decisiontree_proba[:10]"
   ]
  },
  {
   "cell_type": "code",
   "execution_count": 120,
   "id": "4f2e4fdc",
   "metadata": {},
   "outputs": [
    {
     "data": {
      "text/plain": [
       "array([[14052,  2610],\n",
       "       [  204,  1228]], dtype=int64)"
      ]
     },
     "execution_count": 120,
     "metadata": {},
     "output_type": "execute_result"
    }
   ],
   "source": [
    "# Matrx de confusão\n",
    "\n",
    "confusion_matrix(y_test, y_pred_decisiontree)"
   ]
  },
  {
   "cell_type": "code",
   "execution_count": 121,
   "id": "873c55c2",
   "metadata": {},
   "outputs": [
    {
     "data": {
      "text/plain": [
       "0.8444788327622417"
      ]
     },
     "execution_count": 121,
     "metadata": {},
     "output_type": "execute_result"
    }
   ],
   "source": [
    "# Acurácia\n",
    "acuracia_decisiontree = accuracy_score(y_test, y_pred_decisiontree)\n",
    "acuracia_decisiontree"
   ]
  },
  {
   "cell_type": "code",
   "execution_count": 122,
   "id": "efbfd47e",
   "metadata": {},
   "outputs": [
    {
     "data": {
      "text/plain": [
       "[Text(0.5294117647058824, 0.9375, 'HbA1c_level <= -0.275\\ngini = 0.5\\nsamples = 77754\\nvalue = [38877, 38877]'),\n",
       " Text(0.2647058823529412, 0.8125, 'blood_glucose_level <= 1.266\\ngini = 0.068\\nsamples = 20044\\nvalue = [19337, 707]'),\n",
       " Text(0.23529411764705882, 0.6875, 'HbA1c_level <= -0.626\\ngini = 0.055\\nsamples = 19905\\nvalue = [19337, 568]'),\n",
       " Text(0.20588235294117646, 0.5625, 'gini = 0.0\\nsamples = 16068\\nvalue = [16068, 0]'),\n",
       " Text(0.2647058823529412, 0.5625, 'age <= 0.425\\ngini = 0.252\\nsamples = 3837\\nvalue = [3269, 568]'),\n",
       " Text(0.14705882352941177, 0.4375, 'hypertension <= -0.452\\ngini = 0.12\\nsamples = 2746\\nvalue = [2570, 176]'),\n",
       " Text(0.08823529411764706, 0.3125, 'bmi <= 2.859\\ngini = 0.085\\nsamples = 2533\\nvalue = [2421, 112]'),\n",
       " Text(0.058823529411764705, 0.1875, 'age <= -0.768\\ngini = 0.078\\nsamples = 2524\\nvalue = [2421, 103]'),\n",
       " Text(0.029411764705882353, 0.0625, 'gini = 0.011\\nsamples = 1266\\nvalue = [1259, 7]'),\n",
       " Text(0.08823529411764706, 0.0625, 'gini = 0.141\\nsamples = 1258\\nvalue = [1162, 96]'),\n",
       " Text(0.11764705882352941, 0.1875, 'gini = 0.0\\nsamples = 9\\nvalue = [0, 9]'),\n",
       " Text(0.20588235294117646, 0.3125, 'hypertension <= 2.497\\ngini = 0.42\\nsamples = 213\\nvalue = [149, 64]'),\n",
       " Text(0.17647058823529413, 0.1875, 'gini = 0.0\\nsamples = 43\\nvalue = [0, 43]'),\n",
       " Text(0.23529411764705882, 0.1875, 'blood_glucose_level <= -0.917\\ngini = 0.217\\nsamples = 170\\nvalue = [149, 21]'),\n",
       " Text(0.20588235294117646, 0.0625, 'gini = 0.0\\nsamples = 40\\nvalue = [40, 0]'),\n",
       " Text(0.2647058823529412, 0.0625, 'gini = 0.271\\nsamples = 130\\nvalue = [109, 21]'),\n",
       " Text(0.38235294117647056, 0.4375, 'blood_glucose_level <= -0.917\\ngini = 0.46\\nsamples = 1091\\nvalue = [699, 392]'),\n",
       " Text(0.35294117647058826, 0.3125, 'gini = 0.0\\nsamples = 211\\nvalue = [211, 0]'),\n",
       " Text(0.4117647058823529, 0.3125, 'hypertension <= -0.46\\ngini = 0.494\\nsamples = 880\\nvalue = [488, 392]'),\n",
       " Text(0.35294117647058826, 0.1875, 'blood_glucose_level <= 0.13\\ngini = 0.449\\nsamples = 614\\nvalue = [405, 209]'),\n",
       " Text(0.3235294117647059, 0.0625, 'gini = 0.322\\nsamples = 407\\nvalue = [325, 82]'),\n",
       " Text(0.38235294117647056, 0.0625, 'gini = 0.474\\nsamples = 207\\nvalue = [80, 127]'),\n",
       " Text(0.47058823529411764, 0.1875, 'hypertension <= 2.503\\ngini = 0.429\\nsamples = 266\\nvalue = [83, 183]'),\n",
       " Text(0.4411764705882353, 0.0625, 'gini = 0.0\\nsamples = 105\\nvalue = [0, 105]'),\n",
       " Text(0.5, 0.0625, 'gini = 0.5\\nsamples = 161\\nvalue = [83, 78]'),\n",
       " Text(0.29411764705882354, 0.6875, 'gini = 0.0\\nsamples = 139\\nvalue = [0, 139]'),\n",
       " Text(0.7941176470588235, 0.8125, 'blood_glucose_level <= -0.917\\ngini = 0.448\\nsamples = 57710\\nvalue = [19540, 38170]'),\n",
       " Text(0.7647058823529411, 0.6875, 'gini = 0.0\\nsamples = 6033\\nvalue = [6033, 0]'),\n",
       " Text(0.8235294117647058, 0.6875, 'age <= -0.531\\ngini = 0.386\\nsamples = 51677\\nvalue = [13507, 38170]'),\n",
       " Text(0.7058823529411765, 0.5625, 'HbA1c_level <= 0.628\\ngini = 0.478\\nsamples = 10578\\nvalue = [6388, 4190]'),\n",
       " Text(0.6764705882352942, 0.4375, 'blood_glucose_level <= 1.266\\ngini = 0.412\\nsamples = 9005\\nvalue = [6388, 2617]'),\n",
       " Text(0.6470588235294118, 0.3125, 'hypertension <= -0.474\\ngini = 0.357\\nsamples = 8326\\nvalue = [6388, 1938]'),\n",
       " Text(0.5882352941176471, 0.1875, 'bmi <= 0.421\\ngini = 0.311\\nsamples = 7727\\nvalue = [6238, 1489]'),\n",
       " Text(0.5588235294117647, 0.0625, 'gini = 0.232\\nsamples = 6100\\nvalue = [5283, 817]'),\n",
       " Text(0.6176470588235294, 0.0625, 'gini = 0.485\\nsamples = 1627\\nvalue = [955, 672]'),\n",
       " Text(0.7058823529411765, 0.1875, 'hypertension <= 2.515\\ngini = 0.375\\nsamples = 599\\nvalue = [150, 449]'),\n",
       " Text(0.6764705882352942, 0.0625, 'gini = 0.0\\nsamples = 384\\nvalue = [0, 384]'),\n",
       " Text(0.7352941176470589, 0.0625, 'gini = 0.422\\nsamples = 215\\nvalue = [150, 65]'),\n",
       " Text(0.7058823529411765, 0.3125, 'gini = 0.0\\nsamples = 679\\nvalue = [0, 679]'),\n",
       " Text(0.7352941176470589, 0.4375, 'gini = 0.0\\nsamples = 1573\\nvalue = [0, 1573]'),\n",
       " Text(0.9411764705882353, 0.5625, 'HbA1c_level <= 0.628\\ngini = 0.286\\nsamples = 41099\\nvalue = [7119, 33980]'),\n",
       " Text(0.9117647058823529, 0.4375, 'blood_glucose_level <= 1.266\\ngini = 0.382\\nsamples = 27679\\nvalue = [7119, 20560]'),\n",
       " Text(0.8823529411764706, 0.3125, 'hypertension <= -0.475\\ngini = 0.436\\nsamples = 22213\\nvalue = [7119, 15094]'),\n",
       " Text(0.8235294117647058, 0.1875, 'HbA1c_level <= 0.628\\ngini = 0.481\\nsamples = 15395\\nvalue = [6196, 9199]'),\n",
       " Text(0.7941176470588235, 0.0625, 'gini = 0.465\\nsamples = 14047\\nvalue = [5157, 8890]'),\n",
       " Text(0.8529411764705882, 0.0625, 'gini = 0.353\\nsamples = 1348\\nvalue = [1039, 309]'),\n",
       " Text(0.9411764705882353, 0.1875, 'hypertension <= 2.515\\ngini = 0.234\\nsamples = 6818\\nvalue = [923, 5895]'),\n",
       " Text(0.9117647058823529, 0.0625, 'gini = 0.0\\nsamples = 4023\\nvalue = [0, 4023]'),\n",
       " Text(0.9705882352941176, 0.0625, 'gini = 0.442\\nsamples = 2795\\nvalue = [923, 1872]'),\n",
       " Text(0.9411764705882353, 0.3125, 'gini = 0.0\\nsamples = 5466\\nvalue = [0, 5466]'),\n",
       " Text(0.9705882352941176, 0.4375, 'gini = 0.0\\nsamples = 13420\\nvalue = [0, 13420]')]"
      ]
     },
     "execution_count": 122,
     "metadata": {},
     "output_type": "execute_result"
    },
    {
     "data": {
      "image/png": "[encoded data removed]",
      "text/plain": [
       "<Figure size 640x480 with 1 Axes>"
      ]
     },
     "metadata": {},
     "output_type": "display_data"
    }
   ],
   "source": [
    "tree.plot_tree(model_3, feature_names = x.columns)"
   ]
  },
  {
   "cell_type": "markdown",
   "id": "b9cda39c",
   "metadata": {},
   "source": [
    "#### Feature Importance Model_3"
   ]
  },
  {
   "cell_type": "code",
   "execution_count": 123,
   "id": "31bda8f3",
   "metadata": {},
   "outputs": [
    {
     "name": "stdout",
     "output_type": "stream",
     "text": [
      "Variáveis mais importantes para o resultado do modelo_v4:\n",
      "--------------------------------------------------\n",
      "HbA1c_level\n",
      "blood_glucose_level\n",
      "age\n",
      "hypertension\n",
      "bmi\n",
      "gender\n",
      "heart_disease\n",
      "smoking_status\n"
     ]
    }
   ],
   "source": [
    "# Variáveis mais importantes\n",
    "indices_decisiontree = np.argsort(-model_3.feature_importances_)\n",
    "print(\"Variáveis mais importantes para o resultado do modelo_v4:\")\n",
    "print(50*'-')\n",
    "for feature in x.columns[indices_decisiontree]:\n",
    "    print(feature)"
   ]
  },
  {
   "cell_type": "code",
   "execution_count": 124,
   "id": "e7a73fa7",
   "metadata": {},
   "outputs": [],
   "source": [
    "# Criando dicionario com resultado\n",
    "\n",
    "df_dict_decisiontree = {'Nome': ['Model_3'],\n",
    "                        'Algoritmo': ['Decision Tree'],\n",
    "                        'Acurácia': [acuracia_decisiontree] \n",
    "                       }\n",
    "\n",
    "df_decisiontree = pd.DataFrame(df_dict_decisiontree)"
   ]
  },
  {
   "cell_type": "code",
   "execution_count": 125,
   "id": "ca91fed9",
   "metadata": {},
   "outputs": [
    {
     "data": {
      "text/html": [
       "<div>\n",
       "<style scoped>\n",
       "    .dataframe tbody tr th:only-of-type {\n",
       "        vertical-align: middle;\n",
       "    }\n",
       "\n",
       "    .dataframe tbody tr th {\n",
       "        vertical-align: top;\n",
       "    }\n",
       "\n",
       "    .dataframe thead th {\n",
       "        text-align: right;\n",
       "    }\n",
       "</style>\n",
       "<table border=\"1\" class=\"dataframe\">\n",
       "  <thead>\n",
       "    <tr style=\"text-align: right;\">\n",
       "      <th></th>\n",
       "      <th>Nome</th>\n",
       "      <th>Algoritmo</th>\n",
       "      <th>Acurácia</th>\n",
       "    </tr>\n",
       "  </thead>\n",
       "  <tbody>\n",
       "    <tr>\n",
       "      <th>0</th>\n",
       "      <td>model_1</td>\n",
       "      <td>Regressão Logística</td>\n",
       "      <td>0.852658</td>\n",
       "    </tr>\n",
       "    <tr>\n",
       "      <th>1</th>\n",
       "      <td>Model_3</td>\n",
       "      <td>Decision Tree</td>\n",
       "      <td>0.844479</td>\n",
       "    </tr>\n",
       "  </tbody>\n",
       "</table>\n",
       "</div>"
      ],
      "text/plain": [
       "      Nome            Algoritmo  Acurácia\n",
       "0  model_1  Regressão Logística  0.852658\n",
       "1  Model_3        Decision Tree  0.844479"
      ]
     },
     "execution_count": 125,
     "metadata": {},
     "output_type": "execute_result"
    }
   ],
   "source": [
    "df_modelo = pd.concat([df_modelo, df_decisiontree], ignore_index = True)\n",
    "df_modelo"
   ]
  },
  {
   "cell_type": "code",
   "execution_count": 126,
   "id": "8a3d5fa3",
   "metadata": {},
   "outputs": [],
   "source": [
    "# Salvando modelo 3\n",
    "\n",
    "with open('modelos/model_3.pkl', 'wb') as pickle_file:\n",
    "    joblib.dump(model_3, 'modelos/model_3.pkl')"
   ]
  },
  {
   "cell_type": "markdown",
   "id": "0288b302",
   "metadata": {},
   "source": [
    "### Selecionado o melhor modelo e preparando para previsões com novos dados de entrada"
   ]
  },
  {
   "cell_type": "code",
   "execution_count": 127,
   "id": "b0eba245",
   "metadata": {},
   "outputs": [
    {
     "data": {
      "text/html": [
       "<div>\n",
       "<style scoped>\n",
       "    .dataframe tbody tr th:only-of-type {\n",
       "        vertical-align: middle;\n",
       "    }\n",
       "\n",
       "    .dataframe tbody tr th {\n",
       "        vertical-align: top;\n",
       "    }\n",
       "\n",
       "    .dataframe thead th {\n",
       "        text-align: right;\n",
       "    }\n",
       "</style>\n",
       "<table border=\"1\" class=\"dataframe\">\n",
       "  <thead>\n",
       "    <tr style=\"text-align: right;\">\n",
       "      <th></th>\n",
       "      <th>Nome</th>\n",
       "      <th>Algoritmo</th>\n",
       "      <th>Acurácia</th>\n",
       "    </tr>\n",
       "  </thead>\n",
       "  <tbody>\n",
       "    <tr>\n",
       "      <th>0</th>\n",
       "      <td>model_1</td>\n",
       "      <td>Regressão Logística</td>\n",
       "      <td>0.852658</td>\n",
       "    </tr>\n",
       "  </tbody>\n",
       "</table>\n",
       "</div>"
      ],
      "text/plain": [
       "      Nome            Algoritmo  Acurácia\n",
       "0  model_1  Regressão Logística  0.852658"
      ]
     },
     "execution_count": 127,
     "metadata": {},
     "output_type": "execute_result"
    }
   ],
   "source": [
    "melhor_modelo = df_modelo[df_modelo['Acurácia'] == df_modelo['Acurácia'].max()]\n",
    "\n",
    "melhor_modelo"
   ]
  },
  {
   "cell_type": "code",
   "execution_count": 128,
   "id": "10b110f1",
   "metadata": {},
   "outputs": [
    {
     "data": {
      "text/plain": [
       "'model_1'"
      ]
     },
     "execution_count": 128,
     "metadata": {},
     "output_type": "execute_result"
    }
   ],
   "source": [
    "# Carregando o melhor modelo\n",
    "\n",
    "nome_melhor_modelo = melhor_modelo.Nome.to_string(index = False)\n",
    "nome_melhor_modelo"
   ]
  },
  {
   "cell_type": "code",
   "execution_count": 129,
   "id": "48dc0c47",
   "metadata": {},
   "outputs": [
    {
     "data": {
      "text/html": [
       "<style>#sk-container-id-7 {color: black;background-color: white;}#sk-container-id-7 pre{padding: 0;}#sk-container-id-7 div.sk-toggleable {background-color: white;}#sk-container-id-7 label.sk-toggleable__label {cursor: pointer;display: block;width: 100%;margin-bottom: 0;padding: 0.3em;box-sizing: border-box;text-align: center;}#sk-container-id-7 label.sk-toggleable__label-arrow:before {content: \"▸\";float: left;margin-right: 0.25em;color: #696969;}#sk-container-id-7 label.sk-toggleable__label-arrow:hover:before {color: black;}#sk-container-id-7 div.sk-estimator:hover label.sk-toggleable__label-arrow:before {color: black;}#sk-container-id-7 div.sk-toggleable__content {max-height: 0;max-width: 0;overflow: hidden;text-align: left;background-color: #f0f8ff;}#sk-container-id-7 div.sk-toggleable__content pre {margin: 0.2em;color: black;border-radius: 0.25em;background-color: #f0f8ff;}#sk-container-id-7 input.sk-toggleable__control:checked~div.sk-toggleable__content {max-height: 200px;max-width: 100%;overflow: auto;}#sk-container-id-7 input.sk-toggleable__control:checked~label.sk-toggleable__label-arrow:before {content: \"▾\";}#sk-container-id-7 div.sk-estimator input.sk-toggleable__control:checked~label.sk-toggleable__label {background-color: #d4ebff;}#sk-container-id-7 div.sk-label input.sk-toggleable__control:checked~label.sk-toggleable__label {background-color: #d4ebff;}#sk-container-id-7 input.sk-hidden--visually {border: 0;clip: rect(1px 1px 1px 1px);clip: rect(1px, 1px, 1px, 1px);height: 1px;margin: -1px;overflow: hidden;padding: 0;position: absolute;width: 1px;}#sk-container-id-7 div.sk-estimator {font-family: monospace;background-color: #f0f8ff;border: 1px dotted black;border-radius: 0.25em;box-sizing: border-box;margin-bottom: 0.5em;}#sk-container-id-7 div.sk-estimator:hover {background-color: #d4ebff;}#sk-container-id-7 div.sk-parallel-item::after {content: \"\";width: 100%;border-bottom: 1px solid gray;flex-grow: 1;}#sk-container-id-7 div.sk-label:hover label.sk-toggleable__label {background-color: #d4ebff;}#sk-container-id-7 div.sk-serial::before {content: \"\";position: absolute;border-left: 1px solid gray;box-sizing: border-box;top: 0;bottom: 0;left: 50%;z-index: 0;}#sk-container-id-7 div.sk-serial {display: flex;flex-direction: column;align-items: center;background-color: white;padding-right: 0.2em;padding-left: 0.2em;position: relative;}#sk-container-id-7 div.sk-item {position: relative;z-index: 1;}#sk-container-id-7 div.sk-parallel {display: flex;align-items: stretch;justify-content: center;background-color: white;position: relative;}#sk-container-id-7 div.sk-item::before, #sk-container-id-7 div.sk-parallel-item::before {content: \"\";position: absolute;border-left: 1px solid gray;box-sizing: border-box;top: 0;bottom: 0;left: 50%;z-index: -1;}#sk-container-id-7 div.sk-parallel-item {display: flex;flex-direction: column;z-index: 1;position: relative;background-color: white;}#sk-container-id-7 div.sk-parallel-item:first-child::after {align-self: flex-end;width: 50%;}#sk-container-id-7 div.sk-parallel-item:last-child::after {align-self: flex-start;width: 50%;}#sk-container-id-7 div.sk-parallel-item:only-child::after {width: 0;}#sk-container-id-7 div.sk-dashed-wrapped {border: 1px dashed gray;margin: 0 0.4em 0.5em 0.4em;box-sizing: border-box;padding-bottom: 0.4em;background-color: white;}#sk-container-id-7 div.sk-label label {font-family: monospace;font-weight: bold;display: inline-block;line-height: 1.2em;}#sk-container-id-7 div.sk-label-container {text-align: center;}#sk-container-id-7 div.sk-container {/* jupyter's `normalize.less` sets `[hidden] { display: none; }` but bootstrap.min.css set `[hidden] { display: none !important; }` so we also need the `!important` here to be able to override the default hidden behavior on the sphinx rendered scikit-learn.org. See: https://github.com/scikit-learn/scikit-learn/issues/21755 */display: inline-block !important;position: relative;}#sk-container-id-7 div.sk-text-repr-fallback {display: none;}</style><div id=\"sk-container-id-7\" class=\"sk-top-container\"><div class=\"sk-text-repr-fallback\"><pre>LogisticRegression(C=0.01)</pre><b>In a Jupyter environment, please rerun this cell to show the HTML representation or trust the notebook. <br />On GitHub, the HTML representation is unable to render, please try loading this page with nbviewer.org.</b></div><div class=\"sk-container\" hidden><div class=\"sk-item\"><div class=\"sk-estimator sk-toggleable\"><input class=\"sk-toggleable__control sk-hidden--visually\" id=\"sk-estimator-id-11\" type=\"checkbox\" checked><label for=\"sk-estimator-id-11\" class=\"sk-toggleable__label sk-toggleable__label-arrow\">LogisticRegression</label><div class=\"sk-toggleable__content\"><pre>LogisticRegression(C=0.01)</pre></div></div></div></div></div>"
      ],
      "text/plain": [
       "LogisticRegression(C=0.01)"
      ]
     },
     "execution_count": 129,
     "metadata": {},
     "output_type": "execute_result"
    }
   ],
   "source": [
    "# Carregando melhor modelo em disco\n",
    "# Como esta em disco posso fazer isso com um novo script para ficar mais organizado\n",
    "\n",
    "melhor_modelo = joblib.load('modelos/' + nome_melhor_modelo + '.pkl')\n",
    "\n",
    "melhor_modelo"
   ]
  },
  {
   "cell_type": "code",
   "execution_count": 130,
   "id": "471ba364",
   "metadata": {},
   "outputs": [
    {
     "data": {
      "text/plain": [
       "Index(['gender', 'age', 'hypertension', 'heart_disease', 'bmi', 'HbA1c_level',\n",
       "       'blood_glucose_level', 'smoking_status'],\n",
       "      dtype='object')"
      ]
     },
     "execution_count": 130,
     "metadata": {},
     "output_type": "execute_result"
    }
   ],
   "source": [
    "x.columns"
   ]
  },
  {
   "cell_type": "code",
   "execution_count": 131,
   "id": "0fd5f88d",
   "metadata": {},
   "outputs": [],
   "source": [
    "# Entrando com dados de novo paciente\n",
    "novo_paciente = [1, 54, 0, 0, 27.32, 6.6, 80, 0]"
   ]
  },
  {
   "cell_type": "code",
   "execution_count": 132,
   "id": "3788940f",
   "metadata": {},
   "outputs": [
    {
     "data": {
      "text/html": [
       "<div>\n",
       "<style scoped>\n",
       "    .dataframe tbody tr th:only-of-type {\n",
       "        vertical-align: middle;\n",
       "    }\n",
       "\n",
       "    .dataframe tbody tr th {\n",
       "        vertical-align: top;\n",
       "    }\n",
       "\n",
       "    .dataframe thead th {\n",
       "        text-align: right;\n",
       "    }\n",
       "</style>\n",
       "<table border=\"1\" class=\"dataframe\">\n",
       "  <thead>\n",
       "    <tr style=\"text-align: right;\">\n",
       "      <th></th>\n",
       "      <th>gender</th>\n",
       "      <th>age</th>\n",
       "      <th>hypertension</th>\n",
       "      <th>heart_disease</th>\n",
       "      <th>bmi</th>\n",
       "      <th>HbA1c_level</th>\n",
       "      <th>blood_glucose_level</th>\n",
       "      <th>smoking_status</th>\n",
       "    </tr>\n",
       "  </thead>\n",
       "  <tbody>\n",
       "    <tr>\n",
       "      <th>0</th>\n",
       "      <td>1</td>\n",
       "      <td>54</td>\n",
       "      <td>0</td>\n",
       "      <td>0</td>\n",
       "      <td>27.32</td>\n",
       "      <td>6.6</td>\n",
       "      <td>80</td>\n",
       "      <td>0</td>\n",
       "    </tr>\n",
       "  </tbody>\n",
       "</table>\n",
       "</div>"
      ],
      "text/plain": [
       "   gender  age  hypertension  heart_disease    bmi  HbA1c_level   \n",
       "0       1   54             0              0  27.32          6.6  \\\n",
       "\n",
       "   blood_glucose_level  smoking_status  \n",
       "0                   80               0  "
      ]
     },
     "execution_count": 132,
     "metadata": {},
     "output_type": "execute_result"
    }
   ],
   "source": [
    "novo_paciente_df = pd.DataFrame([novo_paciente], columns = x.columns)\n",
    "\n",
    "novo_paciente_df"
   ]
  },
  {
   "cell_type": "code",
   "execution_count": 133,
   "id": "bdcfc311",
   "metadata": {},
   "outputs": [
    {
     "data": {
      "text/plain": [
       "array([[ 1.38008278,  0.04927074, -0.47492194, -0.33603532, -0.35284277,\n",
       "         0.62777695, -1.65920989, -0.80300776]])"
      ]
     },
     "execution_count": 133,
     "metadata": {},
     "output_type": "execute_result"
    }
   ],
   "source": [
    "\n",
    "\n",
    "padr = scaler.transform(novo_paciente_df)\n",
    "padr"
   ]
  },
  {
   "cell_type": "code",
   "execution_count": 134,
   "id": "3050111d",
   "metadata": {},
   "outputs": [
    {
     "data": {
      "text/plain": [
       "array([[0.78656535, 0.21343465]])"
      ]
     },
     "execution_count": 134,
     "metadata": {},
     "output_type": "execute_result"
    }
   ],
   "source": [
    "pred_novo_pac_prob = melhor_modelo.predict_proba(padr)\n",
    "pred_novo_pac_prob"
   ]
  },
  {
   "cell_type": "code",
   "execution_count": 135,
   "id": "12e67795",
   "metadata": {},
   "outputs": [
    {
     "data": {
      "text/plain": [
       "array([0], dtype=int64)"
      ]
     },
     "execution_count": 135,
     "metadata": {},
     "output_type": "execute_result"
    }
   ],
   "source": [
    "pred_novo_pac = melhor_modelo.predict(padr)\n",
    "pred_novo_pac"
   ]
  },
  {
   "cell_type": "code",
   "execution_count": 136,
   "id": "1652f08f",
   "metadata": {},
   "outputs": [
    {
     "name": "stdout",
     "output_type": "stream",
     "text": [
      "Sem risco de diabetes:  0.21343464709691737\n"
     ]
    }
   ],
   "source": [
    "if pred_novo_pac == 1:\n",
    "    print('Com risco de diabetes: ', pred_novo_pac_prob[0][1])\n",
    "else:\n",
    "    print('Sem risco de diabetes: ', pred_novo_pac_prob[0][1])"
   ]
  },
  {
   "cell_type": "markdown",
   "id": "b2d8427b",
   "metadata": {},
   "source": [
    "### Fazendo novas previsões com minha base x"
   ]
  },
  {
   "cell_type": "code",
   "execution_count": 137,
   "id": "13e7b845",
   "metadata": {},
   "outputs": [
    {
     "data": {
      "text/html": [
       "<div>\n",
       "<style scoped>\n",
       "    .dataframe tbody tr th:only-of-type {\n",
       "        vertical-align: middle;\n",
       "    }\n",
       "\n",
       "    .dataframe tbody tr th {\n",
       "        vertical-align: top;\n",
       "    }\n",
       "\n",
       "    .dataframe thead th {\n",
       "        text-align: right;\n",
       "    }\n",
       "</style>\n",
       "<table border=\"1\" class=\"dataframe\">\n",
       "  <thead>\n",
       "    <tr style=\"text-align: right;\">\n",
       "      <th></th>\n",
       "      <th>gender</th>\n",
       "      <th>age</th>\n",
       "      <th>hypertension</th>\n",
       "      <th>heart_disease</th>\n",
       "      <th>bmi</th>\n",
       "      <th>HbA1c_level</th>\n",
       "      <th>blood_glucose_level</th>\n",
       "      <th>smoking_status</th>\n",
       "    </tr>\n",
       "  </thead>\n",
       "  <tbody>\n",
       "    <tr>\n",
       "      <th>0</th>\n",
       "      <td>Female</td>\n",
       "      <td>80.0</td>\n",
       "      <td>0</td>\n",
       "      <td>1</td>\n",
       "      <td>25.19</td>\n",
       "      <td>6.6</td>\n",
       "      <td>140</td>\n",
       "      <td>non-smoker</td>\n",
       "    </tr>\n",
       "    <tr>\n",
       "      <th>2</th>\n",
       "      <td>Male</td>\n",
       "      <td>28.0</td>\n",
       "      <td>0</td>\n",
       "      <td>0</td>\n",
       "      <td>27.32</td>\n",
       "      <td>5.7</td>\n",
       "      <td>158</td>\n",
       "      <td>non-smoker</td>\n",
       "    </tr>\n",
       "    <tr>\n",
       "      <th>3</th>\n",
       "      <td>Female</td>\n",
       "      <td>36.0</td>\n",
       "      <td>0</td>\n",
       "      <td>0</td>\n",
       "      <td>23.45</td>\n",
       "      <td>5.0</td>\n",
       "      <td>155</td>\n",
       "      <td>smoker</td>\n",
       "    </tr>\n",
       "    <tr>\n",
       "      <th>4</th>\n",
       "      <td>Male</td>\n",
       "      <td>76.0</td>\n",
       "      <td>1</td>\n",
       "      <td>1</td>\n",
       "      <td>20.14</td>\n",
       "      <td>4.8</td>\n",
       "      <td>155</td>\n",
       "      <td>smoker</td>\n",
       "    </tr>\n",
       "    <tr>\n",
       "      <th>5</th>\n",
       "      <td>Female</td>\n",
       "      <td>20.0</td>\n",
       "      <td>0</td>\n",
       "      <td>0</td>\n",
       "      <td>27.32</td>\n",
       "      <td>6.6</td>\n",
       "      <td>85</td>\n",
       "      <td>non-smoker</td>\n",
       "    </tr>\n",
       "  </tbody>\n",
       "</table>\n",
       "</div>"
      ],
      "text/plain": [
       "   gender   age hypertension heart_disease    bmi  HbA1c_level   \n",
       "0  Female  80.0            0             1  25.19          6.6  \\\n",
       "2    Male  28.0            0             0  27.32          5.7   \n",
       "3  Female  36.0            0             0  23.45          5.0   \n",
       "4    Male  76.0            1             1  20.14          4.8   \n",
       "5  Female  20.0            0             0  27.32          6.6   \n",
       "\n",
       "   blood_glucose_level smoking_status  \n",
       "0                  140     non-smoker  \n",
       "2                  158     non-smoker  \n",
       "3                  155         smoker  \n",
       "4                  155         smoker  \n",
       "5                   85     non-smoker  "
      ]
     },
     "execution_count": 137,
     "metadata": {},
     "output_type": "execute_result"
    }
   ],
   "source": [
    "novos_dados = pd.DataFrame(x)\n",
    "novos_dados.head(5)"
   ]
  },
  {
   "cell_type": "code",
   "execution_count": 138,
   "id": "87af8877",
   "metadata": {},
   "outputs": [],
   "source": [
    "# Aplica o fit nos dados, apenas nas colunas categóricas\n",
    "# gender e smoking_status\n",
    "\n",
    "col_label_encoder_novos_dados = ['gender', 'smoking_status']\n",
    "for col_le in col_label_encoder_novos_dados:\n",
    "    novos_dados[col_le] = label_encoder.fit_transform(novos_dados[col_le])"
   ]
  },
  {
   "cell_type": "code",
   "execution_count": 139,
   "id": "4bb7d2d0",
   "metadata": {},
   "outputs": [
    {
     "data": {
      "text/html": [
       "<div>\n",
       "<style scoped>\n",
       "    .dataframe tbody tr th:only-of-type {\n",
       "        vertical-align: middle;\n",
       "    }\n",
       "\n",
       "    .dataframe tbody tr th {\n",
       "        vertical-align: top;\n",
       "    }\n",
       "\n",
       "    .dataframe thead th {\n",
       "        text-align: right;\n",
       "    }\n",
       "</style>\n",
       "<table border=\"1\" class=\"dataframe\">\n",
       "  <thead>\n",
       "    <tr style=\"text-align: right;\">\n",
       "      <th></th>\n",
       "      <th>gender</th>\n",
       "      <th>age</th>\n",
       "      <th>hypertension</th>\n",
       "      <th>heart_disease</th>\n",
       "      <th>bmi</th>\n",
       "      <th>HbA1c_level</th>\n",
       "      <th>blood_glucose_level</th>\n",
       "      <th>smoking_status</th>\n",
       "    </tr>\n",
       "  </thead>\n",
       "  <tbody>\n",
       "    <tr>\n",
       "      <th>0</th>\n",
       "      <td>0</td>\n",
       "      <td>80.0</td>\n",
       "      <td>0</td>\n",
       "      <td>1</td>\n",
       "      <td>25.19</td>\n",
       "      <td>6.6</td>\n",
       "      <td>140</td>\n",
       "      <td>0</td>\n",
       "    </tr>\n",
       "    <tr>\n",
       "      <th>2</th>\n",
       "      <td>1</td>\n",
       "      <td>28.0</td>\n",
       "      <td>0</td>\n",
       "      <td>0</td>\n",
       "      <td>27.32</td>\n",
       "      <td>5.7</td>\n",
       "      <td>158</td>\n",
       "      <td>0</td>\n",
       "    </tr>\n",
       "    <tr>\n",
       "      <th>3</th>\n",
       "      <td>0</td>\n",
       "      <td>36.0</td>\n",
       "      <td>0</td>\n",
       "      <td>0</td>\n",
       "      <td>23.45</td>\n",
       "      <td>5.0</td>\n",
       "      <td>155</td>\n",
       "      <td>1</td>\n",
       "    </tr>\n",
       "    <tr>\n",
       "      <th>4</th>\n",
       "      <td>1</td>\n",
       "      <td>76.0</td>\n",
       "      <td>1</td>\n",
       "      <td>1</td>\n",
       "      <td>20.14</td>\n",
       "      <td>4.8</td>\n",
       "      <td>155</td>\n",
       "      <td>1</td>\n",
       "    </tr>\n",
       "    <tr>\n",
       "      <th>5</th>\n",
       "      <td>0</td>\n",
       "      <td>20.0</td>\n",
       "      <td>0</td>\n",
       "      <td>0</td>\n",
       "      <td>27.32</td>\n",
       "      <td>6.6</td>\n",
       "      <td>85</td>\n",
       "      <td>0</td>\n",
       "    </tr>\n",
       "  </tbody>\n",
       "</table>\n",
       "</div>"
      ],
      "text/plain": [
       "   gender   age hypertension heart_disease    bmi  HbA1c_level   \n",
       "0       0  80.0            0             1  25.19          6.6  \\\n",
       "2       1  28.0            0             0  27.32          5.7   \n",
       "3       0  36.0            0             0  23.45          5.0   \n",
       "4       1  76.0            1             1  20.14          4.8   \n",
       "5       0  20.0            0             0  27.32          6.6   \n",
       "\n",
       "   blood_glucose_level  smoking_status  \n",
       "0                  140               0  \n",
       "2                  158               0  \n",
       "3                  155               1  \n",
       "4                  155               1  \n",
       "5                   85               0  "
      ]
     },
     "execution_count": 139,
     "metadata": {},
     "output_type": "execute_result"
    }
   ],
   "source": [
    "novos_dados.head()"
   ]
  },
  {
   "cell_type": "code",
   "execution_count": 140,
   "id": "ba3776b8",
   "metadata": {},
   "outputs": [
    {
     "data": {
      "text/html": [
       "<div>\n",
       "<style scoped>\n",
       "    .dataframe tbody tr th:only-of-type {\n",
       "        vertical-align: middle;\n",
       "    }\n",
       "\n",
       "    .dataframe tbody tr th {\n",
       "        vertical-align: top;\n",
       "    }\n",
       "\n",
       "    .dataframe thead th {\n",
       "        text-align: right;\n",
       "    }\n",
       "</style>\n",
       "<table border=\"1\" class=\"dataframe\">\n",
       "  <thead>\n",
       "    <tr style=\"text-align: right;\">\n",
       "      <th></th>\n",
       "      <th>gender</th>\n",
       "      <th>age</th>\n",
       "      <th>hypertension</th>\n",
       "      <th>heart_disease</th>\n",
       "      <th>bmi</th>\n",
       "      <th>HbA1c_level</th>\n",
       "      <th>blood_glucose_level</th>\n",
       "      <th>smoking_status</th>\n",
       "    </tr>\n",
       "  </thead>\n",
       "  <tbody>\n",
       "    <tr>\n",
       "      <th>0</th>\n",
       "      <td>-0.724594</td>\n",
       "      <td>1.419903</td>\n",
       "      <td>-0.474922</td>\n",
       "      <td>3.637339</td>\n",
       "      <td>-0.696239</td>\n",
       "      <td>0.627777</td>\n",
       "      <td>-0.309218</td>\n",
       "      <td>-0.803008</td>\n",
       "    </tr>\n",
       "    <tr>\n",
       "      <th>1</th>\n",
       "      <td>1.380083</td>\n",
       "      <td>-1.321362</td>\n",
       "      <td>-0.474922</td>\n",
       "      <td>-0.336035</td>\n",
       "      <td>-0.352843</td>\n",
       "      <td>-0.274587</td>\n",
       "      <td>0.095780</td>\n",
       "      <td>-0.803008</td>\n",
       "    </tr>\n",
       "    <tr>\n",
       "      <th>2</th>\n",
       "      <td>-0.724594</td>\n",
       "      <td>-0.899629</td>\n",
       "      <td>-0.474922</td>\n",
       "      <td>-0.336035</td>\n",
       "      <td>-0.976759</td>\n",
       "      <td>-0.976425</td>\n",
       "      <td>0.028280</td>\n",
       "      <td>1.245318</td>\n",
       "    </tr>\n",
       "    <tr>\n",
       "      <th>3</th>\n",
       "      <td>1.380083</td>\n",
       "      <td>1.209037</td>\n",
       "      <td>2.515463</td>\n",
       "      <td>3.637339</td>\n",
       "      <td>-1.510393</td>\n",
       "      <td>-1.176950</td>\n",
       "      <td>0.028280</td>\n",
       "      <td>1.245318</td>\n",
       "    </tr>\n",
       "    <tr>\n",
       "      <th>4</th>\n",
       "      <td>-0.724594</td>\n",
       "      <td>-1.743095</td>\n",
       "      <td>-0.474922</td>\n",
       "      <td>-0.336035</td>\n",
       "      <td>-0.352843</td>\n",
       "      <td>0.627777</td>\n",
       "      <td>-1.546711</td>\n",
       "      <td>-0.803008</td>\n",
       "    </tr>\n",
       "  </tbody>\n",
       "</table>\n",
       "</div>"
      ],
      "text/plain": [
       "     gender       age  hypertension  heart_disease       bmi  HbA1c_level   \n",
       "0 -0.724594  1.419903     -0.474922       3.637339 -0.696239     0.627777  \\\n",
       "1  1.380083 -1.321362     -0.474922      -0.336035 -0.352843    -0.274587   \n",
       "2 -0.724594 -0.899629     -0.474922      -0.336035 -0.976759    -0.976425   \n",
       "3  1.380083  1.209037      2.515463       3.637339 -1.510393    -1.176950   \n",
       "4 -0.724594 -1.743095     -0.474922      -0.336035 -0.352843     0.627777   \n",
       "\n",
       "   blood_glucose_level  smoking_status  \n",
       "0            -0.309218       -0.803008  \n",
       "1             0.095780       -0.803008  \n",
       "2             0.028280        1.245318  \n",
       "3             0.028280        1.245318  \n",
       "4            -1.546711       -0.803008  "
      ]
     },
     "execution_count": 140,
     "metadata": {},
     "output_type": "execute_result"
    }
   ],
   "source": [
    "# Padronizando os dados\n",
    "\n",
    "novos_dados_padr = scaler.transform(novos_dados)\n",
    "novos_dados_padr = pd.DataFrame(novos_dados_padr)\n",
    "\n",
    "# atribuindo as colunas\n",
    "novos_dados_padr.columns = x.columns\n",
    "\n",
    "novos_dados_padr.head(5)"
   ]
  },
  {
   "cell_type": "code",
   "execution_count": 141,
   "id": "cd7368ce",
   "metadata": {},
   "outputs": [
    {
     "data": {
      "text/plain": [
       "array([[5.85210912e-02, 9.41478909e-01],\n",
       "       [9.19801303e-01, 8.01986973e-02],\n",
       "       [9.88409769e-01, 1.15902306e-02],\n",
       "       ...,\n",
       "       [7.73747539e-01, 2.26252461e-01],\n",
       "       [9.99224797e-01, 7.75202685e-04],\n",
       "       [8.36056935e-01, 1.63943065e-01]])"
      ]
     },
     "execution_count": 141,
     "metadata": {},
     "output_type": "execute_result"
    }
   ],
   "source": [
    "pred_novos_dados_padr_proba = melhor_modelo.predict_proba(novos_dados_padr)\n",
    "pred_novos_dados_padr_proba"
   ]
  },
  {
   "cell_type": "code",
   "execution_count": 142,
   "id": "762bf6e5",
   "metadata": {},
   "outputs": [
    {
     "data": {
      "text/plain": [
       "array([1, 0, 0, ..., 0, 0, 0], dtype=int64)"
      ]
     },
     "execution_count": 142,
     "metadata": {},
     "output_type": "execute_result"
    }
   ],
   "source": [
    "pred_novos_dados_padr = melhor_modelo.predict(novos_dados_padr)\n",
    "pred_novos_dados_padr"
   ]
  },
  {
   "cell_type": "code",
   "execution_count": 143,
   "id": "c58653c9",
   "metadata": {},
   "outputs": [
    {
     "data": {
      "text/plain": [
       "array([[47437,  8102],\n",
       "       [  787,  3986]], dtype=int64)"
      ]
     },
     "execution_count": 143,
     "metadata": {},
     "output_type": "execute_result"
    }
   ],
   "source": [
    "confusion_matrix(y, pred_novos_dados_padr)"
   ]
  },
  {
   "cell_type": "code",
   "execution_count": 144,
   "id": "0c979052",
   "metadata": {},
   "outputs": [
    {
     "data": {
      "text/plain": [
       "0.852616394747314"
      ]
     },
     "execution_count": 144,
     "metadata": {},
     "output_type": "execute_result"
    }
   ],
   "source": [
    "accuracy_score(y, pred_novos_dados_padr)"
   ]
  },
  {
   "cell_type": "markdown",
   "id": "a75fb995",
   "metadata": {},
   "source": [
    "### Gerando novo dataframe"
   ]
  },
  {
   "cell_type": "code",
   "execution_count": 145,
   "id": "b777c7d1",
   "metadata": {},
   "outputs": [
    {
     "data": {
      "text/plain": [
       "60312"
      ]
     },
     "execution_count": 145,
     "metadata": {},
     "output_type": "execute_result"
    }
   ],
   "source": [
    "len(novos_dados)"
   ]
  },
  {
   "cell_type": "code",
   "execution_count": 146,
   "id": "e8b85054",
   "metadata": {},
   "outputs": [
    {
     "data": {
      "text/plain": [
       "60312"
      ]
     },
     "execution_count": 146,
     "metadata": {},
     "output_type": "execute_result"
    }
   ],
   "source": [
    "len(pred_novos_dados_padr_proba)"
   ]
  },
  {
   "cell_type": "code",
   "execution_count": 147,
   "id": "fef9bd80",
   "metadata": {},
   "outputs": [
    {
     "data": {
      "text/plain": [
       "pandas.core.frame.DataFrame"
      ]
     },
     "execution_count": 147,
     "metadata": {},
     "output_type": "execute_result"
    }
   ],
   "source": [
    "type(novos_dados)"
   ]
  },
  {
   "cell_type": "code",
   "execution_count": 148,
   "id": "3dad0cc4",
   "metadata": {},
   "outputs": [
    {
     "data": {
      "text/plain": [
       "numpy.ndarray"
      ]
     },
     "execution_count": 148,
     "metadata": {},
     "output_type": "execute_result"
    }
   ],
   "source": [
    "type(pred_novos_dados_padr_proba)"
   ]
  },
  {
   "cell_type": "code",
   "execution_count": 149,
   "id": "61d67b2c",
   "metadata": {},
   "outputs": [
    {
     "data": {
      "text/html": [
       "<div>\n",
       "<style scoped>\n",
       "    .dataframe tbody tr th:only-of-type {\n",
       "        vertical-align: middle;\n",
       "    }\n",
       "\n",
       "    .dataframe tbody tr th {\n",
       "        vertical-align: top;\n",
       "    }\n",
       "\n",
       "    .dataframe thead th {\n",
       "        text-align: right;\n",
       "    }\n",
       "</style>\n",
       "<table border=\"1\" class=\"dataframe\">\n",
       "  <thead>\n",
       "    <tr style=\"text-align: right;\">\n",
       "      <th></th>\n",
       "      <th>0</th>\n",
       "      <th>1</th>\n",
       "    </tr>\n",
       "  </thead>\n",
       "  <tbody>\n",
       "    <tr>\n",
       "      <th>0</th>\n",
       "      <td>0.058521</td>\n",
       "      <td>0.941479</td>\n",
       "    </tr>\n",
       "    <tr>\n",
       "      <th>1</th>\n",
       "      <td>0.919801</td>\n",
       "      <td>0.080199</td>\n",
       "    </tr>\n",
       "    <tr>\n",
       "      <th>2</th>\n",
       "      <td>0.988410</td>\n",
       "      <td>0.011590</td>\n",
       "    </tr>\n",
       "    <tr>\n",
       "      <th>3</th>\n",
       "      <td>0.871204</td>\n",
       "      <td>0.128796</td>\n",
       "    </tr>\n",
       "    <tr>\n",
       "      <th>4</th>\n",
       "      <td>0.922628</td>\n",
       "      <td>0.077372</td>\n",
       "    </tr>\n",
       "  </tbody>\n",
       "</table>\n",
       "</div>"
      ],
      "text/plain": [
       "          0         1\n",
       "0  0.058521  0.941479\n",
       "1  0.919801  0.080199\n",
       "2  0.988410  0.011590\n",
       "3  0.871204  0.128796\n",
       "4  0.922628  0.077372"
      ]
     },
     "execution_count": 149,
     "metadata": {},
     "output_type": "execute_result"
    }
   ],
   "source": [
    "df_final_pred_novos_dados = pd.DataFrame(pred_novos_dados_padr_proba)\n",
    "df_final_pred_novos_dados.head()"
   ]
  },
  {
   "cell_type": "code",
   "execution_count": 150,
   "id": "6c53f9bd",
   "metadata": {
    "scrolled": true
   },
   "outputs": [],
   "source": [
    "# Pegaremos aqui a coluna de indice 1 que é nossa probabilidade de ter diabetes\n",
    "df_final_pred_novos_dados = pd.DataFrame(df_final_pred_novos_dados[1])"
   ]
  },
  {
   "cell_type": "code",
   "execution_count": 151,
   "id": "7e0bc831",
   "metadata": {},
   "outputs": [
    {
     "data": {
      "text/html": [
       "<div>\n",
       "<style scoped>\n",
       "    .dataframe tbody tr th:only-of-type {\n",
       "        vertical-align: middle;\n",
       "    }\n",
       "\n",
       "    .dataframe tbody tr th {\n",
       "        vertical-align: top;\n",
       "    }\n",
       "\n",
       "    .dataframe thead th {\n",
       "        text-align: right;\n",
       "    }\n",
       "</style>\n",
       "<table border=\"1\" class=\"dataframe\">\n",
       "  <thead>\n",
       "    <tr style=\"text-align: right;\">\n",
       "      <th></th>\n",
       "      <th>Probabilidade</th>\n",
       "    </tr>\n",
       "  </thead>\n",
       "  <tbody>\n",
       "    <tr>\n",
       "      <th>0</th>\n",
       "      <td>0.941479</td>\n",
       "    </tr>\n",
       "    <tr>\n",
       "      <th>1</th>\n",
       "      <td>0.080199</td>\n",
       "    </tr>\n",
       "    <tr>\n",
       "      <th>2</th>\n",
       "      <td>0.011590</td>\n",
       "    </tr>\n",
       "    <tr>\n",
       "      <th>3</th>\n",
       "      <td>0.128796</td>\n",
       "    </tr>\n",
       "    <tr>\n",
       "      <th>4</th>\n",
       "      <td>0.077372</td>\n",
       "    </tr>\n",
       "  </tbody>\n",
       "</table>\n",
       "</div>"
      ],
      "text/plain": [
       "   Probabilidade\n",
       "0       0.941479\n",
       "1       0.080199\n",
       "2       0.011590\n",
       "3       0.128796\n",
       "4       0.077372"
      ]
     },
     "execution_count": 151,
     "metadata": {},
     "output_type": "execute_result"
    }
   ],
   "source": [
    "df_final_pred_novos_dados.columns = ['Probabilidade']\n",
    "\n",
    "df_final_pred_novos_dados.head()"
   ]
  },
  {
   "cell_type": "code",
   "execution_count": 152,
   "id": "d2ffca40",
   "metadata": {},
   "outputs": [
    {
     "data": {
      "text/html": [
       "<div>\n",
       "<style scoped>\n",
       "    .dataframe tbody tr th:only-of-type {\n",
       "        vertical-align: middle;\n",
       "    }\n",
       "\n",
       "    .dataframe tbody tr th {\n",
       "        vertical-align: top;\n",
       "    }\n",
       "\n",
       "    .dataframe thead th {\n",
       "        text-align: right;\n",
       "    }\n",
       "</style>\n",
       "<table border=\"1\" class=\"dataframe\">\n",
       "  <thead>\n",
       "    <tr style=\"text-align: right;\">\n",
       "      <th></th>\n",
       "      <th>gender</th>\n",
       "      <th>age</th>\n",
       "      <th>hypertension</th>\n",
       "      <th>heart_disease</th>\n",
       "      <th>bmi</th>\n",
       "      <th>HbA1c_level</th>\n",
       "      <th>blood_glucose_level</th>\n",
       "      <th>smoking_status</th>\n",
       "      <th>Probabilidade</th>\n",
       "    </tr>\n",
       "  </thead>\n",
       "  <tbody>\n",
       "    <tr>\n",
       "      <th>0</th>\n",
       "      <td>0</td>\n",
       "      <td>80.0</td>\n",
       "      <td>0</td>\n",
       "      <td>1</td>\n",
       "      <td>25.19</td>\n",
       "      <td>6.6</td>\n",
       "      <td>140</td>\n",
       "      <td>0</td>\n",
       "      <td>0.941479</td>\n",
       "    </tr>\n",
       "    <tr>\n",
       "      <th>1</th>\n",
       "      <td>1</td>\n",
       "      <td>28.0</td>\n",
       "      <td>0</td>\n",
       "      <td>0</td>\n",
       "      <td>27.32</td>\n",
       "      <td>5.7</td>\n",
       "      <td>158</td>\n",
       "      <td>0</td>\n",
       "      <td>0.080199</td>\n",
       "    </tr>\n",
       "    <tr>\n",
       "      <th>2</th>\n",
       "      <td>0</td>\n",
       "      <td>36.0</td>\n",
       "      <td>0</td>\n",
       "      <td>0</td>\n",
       "      <td>23.45</td>\n",
       "      <td>5.0</td>\n",
       "      <td>155</td>\n",
       "      <td>1</td>\n",
       "      <td>0.011590</td>\n",
       "    </tr>\n",
       "    <tr>\n",
       "      <th>3</th>\n",
       "      <td>1</td>\n",
       "      <td>76.0</td>\n",
       "      <td>1</td>\n",
       "      <td>1</td>\n",
       "      <td>20.14</td>\n",
       "      <td>4.8</td>\n",
       "      <td>155</td>\n",
       "      <td>1</td>\n",
       "      <td>0.128796</td>\n",
       "    </tr>\n",
       "    <tr>\n",
       "      <th>4</th>\n",
       "      <td>0</td>\n",
       "      <td>20.0</td>\n",
       "      <td>0</td>\n",
       "      <td>0</td>\n",
       "      <td>27.32</td>\n",
       "      <td>6.6</td>\n",
       "      <td>85</td>\n",
       "      <td>0</td>\n",
       "      <td>0.077372</td>\n",
       "    </tr>\n",
       "  </tbody>\n",
       "</table>\n",
       "</div>"
      ],
      "text/plain": [
       "   gender   age hypertension heart_disease    bmi  HbA1c_level   \n",
       "0       0  80.0            0             1  25.19          6.6  \\\n",
       "1       1  28.0            0             0  27.32          5.7   \n",
       "2       0  36.0            0             0  23.45          5.0   \n",
       "3       1  76.0            1             1  20.14          4.8   \n",
       "4       0  20.0            0             0  27.32          6.6   \n",
       "\n",
       "   blood_glucose_level  smoking_status  Probabilidade  \n",
       "0                  140               0       0.941479  \n",
       "1                  158               0       0.080199  \n",
       "2                  155               1       0.011590  \n",
       "3                  155               1       0.128796  \n",
       "4                   85               0       0.077372  "
      ]
     },
     "execution_count": 152,
     "metadata": {},
     "output_type": "execute_result"
    }
   ],
   "source": [
    "# concateno meu novos_dados com df_final_pred_novos_dados\n",
    "\n",
    "df_final_pred_novos_dados = df_final_pred_novos_dados.reset_index(drop = True)\n",
    "novos_dados = novos_dados.reset_index(drop = True)\n",
    "\n",
    "final_df = pd.concat([novos_dados, df_final_pred_novos_dados], axis = 1)\n",
    "\n",
    "final_df.columns = ['gender', 'age', 'hypertension', 'heart_disease',\n",
    "                    'bmi', 'HbA1c_level', 'blood_glucose_level', 'smoking_status', 'Probabilidade']\n",
    "\n",
    "final_df.head()"
   ]
  },
  {
   "cell_type": "code",
   "execution_count": 153,
   "id": "a023810a",
   "metadata": {},
   "outputs": [
    {
     "data": {
      "text/plain": [
       "(60312, 8)"
      ]
     },
     "execution_count": 153,
     "metadata": {},
     "output_type": "execute_result"
    }
   ],
   "source": [
    "novos_dados.shape"
   ]
  },
  {
   "cell_type": "code",
   "execution_count": 154,
   "id": "af8b9fa4",
   "metadata": {},
   "outputs": [
    {
     "data": {
      "text/plain": [
       "(60312, 1)"
      ]
     },
     "execution_count": 154,
     "metadata": {},
     "output_type": "execute_result"
    }
   ],
   "source": [
    "df_final_pred_novos_dados.shape"
   ]
  },
  {
   "cell_type": "code",
   "execution_count": 155,
   "id": "938c546f",
   "metadata": {},
   "outputs": [
    {
     "data": {
      "text/html": [
       "<div>\n",
       "<style scoped>\n",
       "    .dataframe tbody tr th:only-of-type {\n",
       "        vertical-align: middle;\n",
       "    }\n",
       "\n",
       "    .dataframe tbody tr th {\n",
       "        vertical-align: top;\n",
       "    }\n",
       "\n",
       "    .dataframe thead th {\n",
       "        text-align: right;\n",
       "    }\n",
       "</style>\n",
       "<table border=\"1\" class=\"dataframe\">\n",
       "  <thead>\n",
       "    <tr style=\"text-align: right;\">\n",
       "      <th></th>\n",
       "      <th>gender</th>\n",
       "      <th>age</th>\n",
       "      <th>hypertension</th>\n",
       "      <th>heart_disease</th>\n",
       "      <th>bmi</th>\n",
       "      <th>HbA1c_level</th>\n",
       "      <th>blood_glucose_level</th>\n",
       "      <th>smoking_status</th>\n",
       "      <th>Probabilidade</th>\n",
       "    </tr>\n",
       "  </thead>\n",
       "  <tbody>\n",
       "    <tr>\n",
       "      <th>0</th>\n",
       "      <td>Female</td>\n",
       "      <td>80.0</td>\n",
       "      <td>0</td>\n",
       "      <td>1</td>\n",
       "      <td>25.19</td>\n",
       "      <td>6.6</td>\n",
       "      <td>140</td>\n",
       "      <td>0</td>\n",
       "      <td>0.941479</td>\n",
       "    </tr>\n",
       "    <tr>\n",
       "      <th>1</th>\n",
       "      <td>Male</td>\n",
       "      <td>28.0</td>\n",
       "      <td>0</td>\n",
       "      <td>0</td>\n",
       "      <td>27.32</td>\n",
       "      <td>5.7</td>\n",
       "      <td>158</td>\n",
       "      <td>0</td>\n",
       "      <td>0.080199</td>\n",
       "    </tr>\n",
       "    <tr>\n",
       "      <th>2</th>\n",
       "      <td>Female</td>\n",
       "      <td>36.0</td>\n",
       "      <td>0</td>\n",
       "      <td>0</td>\n",
       "      <td>23.45</td>\n",
       "      <td>5.0</td>\n",
       "      <td>155</td>\n",
       "      <td>1</td>\n",
       "      <td>0.011590</td>\n",
       "    </tr>\n",
       "    <tr>\n",
       "      <th>3</th>\n",
       "      <td>Male</td>\n",
       "      <td>76.0</td>\n",
       "      <td>1</td>\n",
       "      <td>1</td>\n",
       "      <td>20.14</td>\n",
       "      <td>4.8</td>\n",
       "      <td>155</td>\n",
       "      <td>1</td>\n",
       "      <td>0.128796</td>\n",
       "    </tr>\n",
       "    <tr>\n",
       "      <th>4</th>\n",
       "      <td>Female</td>\n",
       "      <td>20.0</td>\n",
       "      <td>0</td>\n",
       "      <td>0</td>\n",
       "      <td>27.32</td>\n",
       "      <td>6.6</td>\n",
       "      <td>85</td>\n",
       "      <td>0</td>\n",
       "      <td>0.077372</td>\n",
       "    </tr>\n",
       "  </tbody>\n",
       "</table>\n",
       "</div>"
      ],
      "text/plain": [
       "   gender   age hypertension heart_disease    bmi  HbA1c_level   \n",
       "0  Female  80.0            0             1  25.19          6.6  \\\n",
       "1    Male  28.0            0             0  27.32          5.7   \n",
       "2  Female  36.0            0             0  23.45          5.0   \n",
       "3    Male  76.0            1             1  20.14          4.8   \n",
       "4  Female  20.0            0             0  27.32          6.6   \n",
       "\n",
       "   blood_glucose_level  smoking_status  Probabilidade  \n",
       "0                  140               0       0.941479  \n",
       "1                  158               0       0.080199  \n",
       "2                  155               1       0.011590  \n",
       "3                  155               1       0.128796  \n",
       "4                   85               0       0.077372  "
      ]
     },
     "execution_count": 155,
     "metadata": {},
     "output_type": "execute_result"
    }
   ],
   "source": [
    "# Condição para atribuirmos os nomes nas variaveis categoricas\n",
    "\n",
    "# gender\n",
    "\n",
    "final_df['gender'] = np.where(final_df['gender'] == 0, 'Female', 'Male')\n",
    "\n",
    "final_df.head()"
   ]
  },
  {
   "cell_type": "code",
   "execution_count": 156,
   "id": "7979d4c9",
   "metadata": {},
   "outputs": [
    {
     "data": {
      "text/plain": [
       "gender\n",
       "Female    36466\n",
       "Male      23846\n",
       "Name: count, dtype: int64"
      ]
     },
     "execution_count": 156,
     "metadata": {},
     "output_type": "execute_result"
    }
   ],
   "source": [
    "final_df.gender.value_counts()"
   ]
  },
  {
   "cell_type": "code",
   "execution_count": 157,
   "id": "94cda5dd",
   "metadata": {},
   "outputs": [
    {
     "data": {
      "text/html": [
       "<div>\n",
       "<style scoped>\n",
       "    .dataframe tbody tr th:only-of-type {\n",
       "        vertical-align: middle;\n",
       "    }\n",
       "\n",
       "    .dataframe tbody tr th {\n",
       "        vertical-align: top;\n",
       "    }\n",
       "\n",
       "    .dataframe thead th {\n",
       "        text-align: right;\n",
       "    }\n",
       "</style>\n",
       "<table border=\"1\" class=\"dataframe\">\n",
       "  <thead>\n",
       "    <tr style=\"text-align: right;\">\n",
       "      <th></th>\n",
       "      <th>gender</th>\n",
       "      <th>age</th>\n",
       "      <th>hypertension</th>\n",
       "      <th>heart_disease</th>\n",
       "      <th>bmi</th>\n",
       "      <th>HbA1c_level</th>\n",
       "      <th>blood_glucose_level</th>\n",
       "      <th>smoking_status</th>\n",
       "      <th>Probabilidade</th>\n",
       "    </tr>\n",
       "  </thead>\n",
       "  <tbody>\n",
       "    <tr>\n",
       "      <th>0</th>\n",
       "      <td>Female</td>\n",
       "      <td>80.0</td>\n",
       "      <td>0</td>\n",
       "      <td>1</td>\n",
       "      <td>25.19</td>\n",
       "      <td>6.6</td>\n",
       "      <td>140</td>\n",
       "      <td>non-smoker</td>\n",
       "      <td>0.941479</td>\n",
       "    </tr>\n",
       "    <tr>\n",
       "      <th>1</th>\n",
       "      <td>Male</td>\n",
       "      <td>28.0</td>\n",
       "      <td>0</td>\n",
       "      <td>0</td>\n",
       "      <td>27.32</td>\n",
       "      <td>5.7</td>\n",
       "      <td>158</td>\n",
       "      <td>non-smoker</td>\n",
       "      <td>0.080199</td>\n",
       "    </tr>\n",
       "    <tr>\n",
       "      <th>2</th>\n",
       "      <td>Female</td>\n",
       "      <td>36.0</td>\n",
       "      <td>0</td>\n",
       "      <td>0</td>\n",
       "      <td>23.45</td>\n",
       "      <td>5.0</td>\n",
       "      <td>155</td>\n",
       "      <td>smoker</td>\n",
       "      <td>0.011590</td>\n",
       "    </tr>\n",
       "    <tr>\n",
       "      <th>3</th>\n",
       "      <td>Male</td>\n",
       "      <td>76.0</td>\n",
       "      <td>1</td>\n",
       "      <td>1</td>\n",
       "      <td>20.14</td>\n",
       "      <td>4.8</td>\n",
       "      <td>155</td>\n",
       "      <td>smoker</td>\n",
       "      <td>0.128796</td>\n",
       "    </tr>\n",
       "    <tr>\n",
       "      <th>4</th>\n",
       "      <td>Female</td>\n",
       "      <td>20.0</td>\n",
       "      <td>0</td>\n",
       "      <td>0</td>\n",
       "      <td>27.32</td>\n",
       "      <td>6.6</td>\n",
       "      <td>85</td>\n",
       "      <td>non-smoker</td>\n",
       "      <td>0.077372</td>\n",
       "    </tr>\n",
       "  </tbody>\n",
       "</table>\n",
       "</div>"
      ],
      "text/plain": [
       "   gender   age hypertension heart_disease    bmi  HbA1c_level   \n",
       "0  Female  80.0            0             1  25.19          6.6  \\\n",
       "1    Male  28.0            0             0  27.32          5.7   \n",
       "2  Female  36.0            0             0  23.45          5.0   \n",
       "3    Male  76.0            1             1  20.14          4.8   \n",
       "4  Female  20.0            0             0  27.32          6.6   \n",
       "\n",
       "   blood_glucose_level smoking_status  Probabilidade  \n",
       "0                  140     non-smoker       0.941479  \n",
       "1                  158     non-smoker       0.080199  \n",
       "2                  155         smoker       0.011590  \n",
       "3                  155         smoker       0.128796  \n",
       "4                   85     non-smoker       0.077372  "
      ]
     },
     "execution_count": 157,
     "metadata": {},
     "output_type": "execute_result"
    }
   ],
   "source": [
    "# Condição para atribuirmos os nomes nas variaveis categoricas\n",
    "\n",
    "# smoking_status\n",
    "# non-smoker = 1 pois vem em segundo em ordem alfabética\n",
    "# no-info = 0 pois vem primeiro em ordem alfabetica\n",
    "# smoker = 2 pois vem em terceiro em ordem alfabética\n",
    "\n",
    "final_df['smoking_status'] = np.where(final_df['smoking_status'] == 0, 'non-smoker','smoker')\n",
    "\n",
    "final_df.head()"
   ]
  },
  {
   "cell_type": "code",
   "execution_count": 158,
   "id": "eecf187b",
   "metadata": {},
   "outputs": [
    {
     "data": {
      "text/plain": [
       "smoking_status\n",
       "non-smoker    32972\n",
       "smoker        27340\n",
       "Name: count, dtype: int64"
      ]
     },
     "execution_count": 158,
     "metadata": {},
     "output_type": "execute_result"
    }
   ],
   "source": [
    "final_df.smoking_status.value_counts()"
   ]
  },
  {
   "cell_type": "code",
   "execution_count": 159,
   "id": "bfebe6d8",
   "metadata": {},
   "outputs": [
    {
     "data": {
      "text/plain": [
       "60312"
      ]
     },
     "execution_count": 159,
     "metadata": {},
     "output_type": "execute_result"
    }
   ],
   "source": [
    "len(novos_dados)"
   ]
  },
  {
   "cell_type": "code",
   "execution_count": 160,
   "id": "b904e0c4",
   "metadata": {},
   "outputs": [
    {
     "data": {
      "text/plain": [
       "60312"
      ]
     },
     "execution_count": 160,
     "metadata": {},
     "output_type": "execute_result"
    }
   ],
   "source": [
    "len(df_final_pred_novos_dados)"
   ]
  },
  {
   "cell_type": "code",
   "execution_count": 161,
   "id": "2fe3af82",
   "metadata": {},
   "outputs": [
    {
     "data": {
      "text/plain": [
       "gender                 0\n",
       "age                    0\n",
       "hypertension           0\n",
       "heart_disease          0\n",
       "bmi                    0\n",
       "HbA1c_level            0\n",
       "blood_glucose_level    0\n",
       "smoking_status         0\n",
       "Probabilidade          0\n",
       "dtype: int64"
      ]
     },
     "execution_count": 161,
     "metadata": {},
     "output_type": "execute_result"
    }
   ],
   "source": [
    "final_df.isnull().sum()"
   ]
  },
  {
   "cell_type": "markdown",
   "id": "e7b4d547",
   "metadata": {},
   "source": [
    "### Salvando o dataframe em csv"
   ]
  },
  {
   "cell_type": "code",
   "execution_count": 162,
   "id": "6ca5716a",
   "metadata": {},
   "outputs": [],
   "source": [
    "caminho = 'csv_gerado/final_df.csv'\n",
    "\n",
    "final_df.to_csv(caminho, index=False)"
   ]
  },
  {
   "cell_type": "markdown",
   "id": "01fb85ac",
   "metadata": {},
   "source": [
    "### Inserindo dados no banco de dados MySQL"
   ]
  },
  {
   "cell_type": "code",
   "execution_count": 163,
   "id": "ef93ea29",
   "metadata": {},
   "outputs": [],
   "source": [
    "from sqlalchemy import create_engine\n",
    "from sqlalchemy.exc import SQLAlchemyError\n"
   ]
  },
  {
   "cell_type": "code",
   "execution_count": 164,
   "id": "41b99f6d",
   "metadata": {},
   "outputs": [],
   "source": [
    "host = 'localhost'\n",
    "database = 'portfolio'\n",
    "username = 'root'\n",
    "password = ''"
   ]
  },
  {
   "cell_type": "code",
   "execution_count": 165,
   "id": "f1ec777c",
   "metadata": {},
   "outputs": [],
   "source": [
    "url = f'mysql+pymysql://{username}:{password}@{host}/{database}'"
   ]
  },
  {
   "cell_type": "code",
   "execution_count": 166,
   "id": "1a47dca3",
   "metadata": {},
   "outputs": [],
   "source": [
    "try:\n",
    "    # cria a engine, conexão com o banco de dados\n",
    "    engine = create_engine(url)\n",
    "    \n",
    "    # insere os dados do datraframe no banco de dados, na tabela tbDiabetes\n",
    "    # Caso os valores existam irei apagar e inseirr novamente ( replace )\n",
    "    final_df.to_sql(name = 'tbdiabetes', con = engine, if_exists = 'replace', index = False)\n",
    "    \n",
    "except SQLAlchemyError as e:\n",
    "    print(\"Erro ao conectar-se ou interagir com o banco de dados:\", e)"
   ]
  },
  {
   "cell_type": "markdown",
   "id": "268fc76f",
   "metadata": {},
   "source": [
    "### Inserindo as var importance no banco de dados"
   ]
  },
  {
   "cell_type": "code",
   "execution_count": 167,
   "id": "450bdb7a",
   "metadata": {},
   "outputs": [
    {
     "name": "stdout",
     "output_type": "stream",
     "text": [
      "Variáveis mais importantes do model_1 (Regressão Logistica): \n",
      "--------------------------------------------------\n",
      "HbA1c_level\n",
      "blood_glucose_level\n",
      "age\n",
      "bmi\n",
      "smoking_status\n",
      "hypertension\n",
      "heart_disease\n",
      "gender\n"
     ]
    }
   ],
   "source": [
    "df_var_importance = []\n",
    "\n",
    "# Variáveis mais importantes\n",
    "print('Variáveis mais importantes do model_1 (Regressão Logistica): ')\n",
    "print(50*'-')\n",
    "for feature in x.columns[indices_reglogistica]:\n",
    "    print(feature)\n",
    "    df_var_importance.append(feature)"
   ]
  },
  {
   "cell_type": "code",
   "execution_count": 168,
   "id": "631f51a4",
   "metadata": {},
   "outputs": [
    {
     "data": {
      "text/html": [
       "<div>\n",
       "<style scoped>\n",
       "    .dataframe tbody tr th:only-of-type {\n",
       "        vertical-align: middle;\n",
       "    }\n",
       "\n",
       "    .dataframe tbody tr th {\n",
       "        vertical-align: top;\n",
       "    }\n",
       "\n",
       "    .dataframe thead th {\n",
       "        text-align: right;\n",
       "    }\n",
       "</style>\n",
       "<table border=\"1\" class=\"dataframe\">\n",
       "  <thead>\n",
       "    <tr style=\"text-align: right;\">\n",
       "      <th></th>\n",
       "      <th>Var Importance</th>\n",
       "      <th>Ordem</th>\n",
       "    </tr>\n",
       "  </thead>\n",
       "  <tbody>\n",
       "    <tr>\n",
       "      <th>0</th>\n",
       "      <td>HbA1c_level</td>\n",
       "      <td>1</td>\n",
       "    </tr>\n",
       "    <tr>\n",
       "      <th>1</th>\n",
       "      <td>blood_glucose_level</td>\n",
       "      <td>2</td>\n",
       "    </tr>\n",
       "    <tr>\n",
       "      <th>2</th>\n",
       "      <td>age</td>\n",
       "      <td>3</td>\n",
       "    </tr>\n",
       "    <tr>\n",
       "      <th>3</th>\n",
       "      <td>bmi</td>\n",
       "      <td>4</td>\n",
       "    </tr>\n",
       "    <tr>\n",
       "      <th>4</th>\n",
       "      <td>smoking_status</td>\n",
       "      <td>5</td>\n",
       "    </tr>\n",
       "    <tr>\n",
       "      <th>5</th>\n",
       "      <td>hypertension</td>\n",
       "      <td>6</td>\n",
       "    </tr>\n",
       "    <tr>\n",
       "      <th>6</th>\n",
       "      <td>heart_disease</td>\n",
       "      <td>7</td>\n",
       "    </tr>\n",
       "    <tr>\n",
       "      <th>7</th>\n",
       "      <td>gender</td>\n",
       "      <td>8</td>\n",
       "    </tr>\n",
       "  </tbody>\n",
       "</table>\n",
       "</div>"
      ],
      "text/plain": [
       "        Var Importance  Ordem\n",
       "0          HbA1c_level      1\n",
       "1  blood_glucose_level      2\n",
       "2                  age      3\n",
       "3                  bmi      4\n",
       "4       smoking_status      5\n",
       "5         hypertension      6\n",
       "6        heart_disease      7\n",
       "7               gender      8"
      ]
     },
     "execution_count": 168,
     "metadata": {},
     "output_type": "execute_result"
    }
   ],
   "source": [
    "df_var_importance = pd.DataFrame(df_var_importance)\n",
    "\n",
    "# aqui já está em ordem de 'prioridade', porém vamos adicionar uma coluna definindo a ordem\n",
    "df_var_importance['Ordem'] = range(1,9)\n",
    "\n",
    "df_var_importance.columns = ['Var Importance', 'Ordem']\n",
    "\n",
    "df_var_importance"
   ]
  },
  {
   "cell_type": "code",
   "execution_count": 169,
   "id": "15eb769f",
   "metadata": {},
   "outputs": [],
   "source": [
    "try:\n",
    "    # cria a engine, conexão com o banco de dados\n",
    "    engine = create_engine(url)\n",
    "    \n",
    "    # insere os dados do datraframe no banco de dados, na tabela tbDiabetes\n",
    "    # Caso os valores existam irei apagar e inserir novamente ( replace )\n",
    "    df_var_importance.to_sql(name = 'tbvarimportance', con = engine, if_exists = 'replace', index = False)\n",
    "    \n",
    "except SQLAlchemyError as e:\n",
    "    print(\"Erro ao conectar-se ou interagir com o banco de dados:\", e)"
   ]
  },
  {
   "cell_type": "code",
   "execution_count": null,
   "id": "e948d23e",
   "metadata": {},
   "outputs": [],
   "source": []
  },
  {
   "cell_type": "code",
   "execution_count": null,
   "id": "df6b790d",
   "metadata": {},
   "outputs": [],
   "source": []
  },
  {
   "cell_type": "code",
   "execution_count": null,
   "id": "a6d02205",
   "metadata": {},
   "outputs": [],
   "source": []
  }
 ],
 "metadata": {
  "kernelspec": {
   "display_name": "Python 3 (ipykernel)",
   "language": "python",
   "name": "python3"
  },
  "language_info": {
   "codemirror_mode": {
    "name": "ipython",
    "version": 3
   },
   "file_extension": ".py",
   "mimetype": "text/x-python",
   "name": "python",
   "nbconvert_exporter": "python",
   "pygments_lexer": "ipython3",
   "version": "3.10.9"
  }
 },
 "nbformat": 4,
 "nbformat_minor": 5
}
